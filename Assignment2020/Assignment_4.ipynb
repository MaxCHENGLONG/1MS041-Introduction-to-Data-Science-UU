{
 "cells": [
  {
   "cell_type": "markdown",
   "metadata": {
    "deletable": false
   },
   "source": [
    "# [Introduction to Data Science: A Comp-Math-Stat Approach](http://datascience-intro.github.io/1MS041-2020/)\n",
    "## 1MS041, 2020 \n",
    "&copy;2020 Raazesh Sainudiin, Benny Avelin. [Attribution 4.0 International (CC BY 4.0)](https://creativecommons.org/licenses/by/4.0/)"
   ]
  },
  {
   "cell_type": "markdown",
   "metadata": {
    "deletable": false
   },
   "source": [
    "# Assignment 4 for Course 1MS041\n",
    "Make     sure you pass the `# ... Test` cells and\n",
    " submit your solution notebook in the corresponding assignment on the course website. You can submit multiple times before the deadline     and your highest score will be used."
   ]
  },
  {
   "cell_type": "markdown",
   "metadata": {
    "lx_assignment_number": "4",
    "lx_problem_cell_type": "PROBLEM"
   },
   "source": [
    "---\n",
    "## Assignment 4, PROBLEM 1\n",
    "Maximum Points = 2"
   ]
  },
  {
   "cell_type": "markdown",
   "metadata": {
    "deletable": false,
    "lx_assignment_number": "4",
    "lx_assignment_type": "ASSIGNMENT",
    "lx_assignment_type2print": "Assignment",
    "lx_problem_cell_type": "PROBLEM",
    "lx_problem_number": "1",
    "lx_problem_points": "2"
   },
   "source": [
    "\n",
    "Sometimes it is important to regress on count data, that is $Y_i$ corresponds to the count of something, taking values $0,1,\\ldots$. A reasonable distribution for count data is the Poisson distribution, that is we could consider\n",
    "$$\n",
    "    Y_i \\mid X_i \\sim \\text{Poisson}(\\lambda(X_i)), \\text{ where $\\lambda(X_i) = G(\\beta_0 + \\beta_1 X_i)$}\n",
    "$$\n",
    "where $G(x) = e^x$. The reason why $G(x) = e^x$ is two-fold, the first is that it always gives positive values no matter $x$, which fits the parameters space of the Poisson distribution, the second reason is that in practice it tends to be a better model for count data. Think of $X_i$ as denoting the presense or absence of something, then the rate-parameter $\\lambda(0) = e^{\\beta_0}$, and in the presense of $X_i = 1$ it becomes $\\lambda(1) = e^{\\beta_0 + \\beta_1} = e^{\\beta_0}e^{\\beta_1} = \\lambda(0)e^{\\beta_1}$, thus it is multiplicative. That is the presence of $X_i$ changes the rate with a constant factor (this is called a proportional model).\n",
    "\n",
    "Recall that a random variable $X \\sim Poisson(\\lambda)$ if its probability mass function is:\n",
    "\n",
    "$$\n",
    "f(x; \\lambda) = \\exp{(-\\lambda)} \\frac{\\lambda^x}{x!}, \\quad \\lambda > 0, \\quad x \\in \\{0,1,2,\\ldots\\}\n",
    "$$\n",
    "\n",
    "The assignment for you now is to do the motions from above, i.e. derive the conditional likelihood and apply it to a problem by filling in the missing parts of the code below.\n",
    "\n",
    "Hint, derive the log-likelihood on paper first then get rid of the factorial term."
   ]
  },
  {
   "cell_type": "code",
   "execution_count": 1,
   "metadata": {
    "deletable": false,
    "lx_assignment_number": "4",
    "lx_assignment_type": "ASSIGNMENT",
    "lx_assignment_type2print": "Assignment",
    "lx_problem_cell_type": "PROBLEM",
    "lx_problem_number": "1",
    "lx_problem_points": "2"
   },
   "outputs": [
    {
     "data": {
      "text/plain": [
       "  message: CONVERGENCE: NORM_OF_PROJECTED_GRADIENT_<=_PGTOL\n",
       "  success: True\n",
       "   status: 0\n",
       "      fun: -2204.010659275183\n",
       "        x: [-5.000e+00 -1.000e+00]\n",
       "      nit: 1\n",
       "      jac: [ 1.850e+02  1.279e+03]\n",
       "     nfev: 6\n",
       "     njev: 2\n",
       " hess_inv: <2x2 LbfgsInvHessProduct with dtype=float64>"
      ]
     },
     "execution_count": 1,
     "metadata": {},
     "output_type": "execute_result"
    }
   ],
   "source": [
    "\n",
    "import numpy as np\n",
    "from scipy import optimize\n",
    "# do not change next two lines - this is the X,Y data\n",
    "X_samples= np.array([0, 1, 2, 3, 4, 5, 6, 7, 8, 9, 10, 11, 12, 13, 14, 15, 16, 17, 18, 19])\n",
    "Y_samples= np.array([16, 14, 16, 11, 16, 14, 9, 13, 13, 6, 9, 12, 6, 7, 5, 3, 4, 4, 2, 5])\n",
    "\n",
    "# finding MLE for Poisson Regression without the factorial part\n",
    "# do not Change the name of the next function - just replace XXX\n",
    "def negLogLklOPoissonRegression_wo_factorial(X,Y,params):\n",
    "    '''XXX'''\n",
    "    beta0 = params[0]\n",
    "    beta1 = params[1]\n",
    "    lambda_X = np.exp(beta0 + beta1 * X)\n",
    "    log_likelihood = -np.sum(lambda_X - Y * np.log(lambda_X))\n",
    "    return log_likelihood\n",
    "\n",
    "# you should only change XXX below and not anything else\n",
    "parameter_bounding_box=((-5.0, 5.0), (-1.0, 1.0)) # specify the constraints for each parameter - some guess work.\n",
    "initial_arguments = np.array([0.0,0.0]) # point in 2D to initialise the minimize algorithm\n",
    "\n",
    "#Create a function that can be sent into the optimizer\n",
    "negLogLklOPoissonRegression_wo_factorial_XY = lambda params: negLogLklOPoissonRegression_wo_factorial(X_samples,Y_samples,params)\n",
    "\n",
    "result_Assignment4Problem1 = optimize.minimize(negLogLklOPoissonRegression_wo_factorial_XY, \\\n",
    "                                           initial_arguments, bounds=parameter_bounding_box)\n",
    "result_Assignment4Problem1"
   ]
  },
  {
   "cell_type": "markdown",
   "metadata": {
    "lx_assignment_number": "4",
    "lx_problem_cell_type": "PROBLEM"
   },
   "source": [
    "---\n",
    "## Assignment 4, PROBLEM 2\n",
    "Maximum Points = 1"
   ]
  },
  {
   "cell_type": "markdown",
   "metadata": {
    "deletable": false,
    "lx_assignment_number": "4",
    "lx_assignment_type": "ASSIGNMENT",
    "lx_assignment_type2print": "Assignment",
    "lx_problem_cell_type": "PROBLEM",
    "lx_problem_number": "2",
    "lx_problem_points": "1"
   },
   "source": [
    "\n",
    "Consider an instance space $X$ consisting of integers $1$ to $1000$ and a target concept $c^\\ast = \\{x: 501 \\leq x \\leq 1000\\}$. If your hypothesis class $\\mathcal H$ is $\\{h_j:\\, h_j=\\{x: j \\leq x \\leq 1000\\}, j=1,\\ldots,1000\\}$. How large must the training set $S$ be to ensure that with probability $99\\%$ any consistent hypothesis (training error 0) will have a true error less than $10\\%$. (Hint: use the theorem above)."
   ]
  },
  {
   "cell_type": "code",
   "execution_count": 4,
   "metadata": {},
   "outputs": [],
   "source": [
    "import math\n",
    "\n",
    "# Given values\n",
    "epsilon = 0.1  # 10%\n",
    "delta = 0.01   # 1%\n",
    "hypothesis_space_size = 1000  # |H|\n",
    "\n",
    "# Calculating the minimum size of the training set\n",
    "m = (1/epsilon) * (math.log(hypothesis_space_size) + math.log(1/delta))"
   ]
  },
  {
   "cell_type": "code",
   "execution_count": 6,
   "metadata": {
    "deletable": false,
    "lx_assignment_number": "4",
    "lx_assignment_type": "ASSIGNMENT",
    "lx_assignment_type2print": "Assignment",
    "lx_problem_cell_type": "PROBLEM",
    "lx_problem_number": "2",
    "lx_problem_points": "1"
   },
   "outputs": [
    {
     "name": "stdout",
     "output_type": "stream",
     "text": [
      "115\n"
     ]
    }
   ],
   "source": [
    "# Replace the XXX below with the number of training samples needed to satisfy the problem\n",
    "N2 = int(m)\n",
    "print(N2)"
   ]
  },
  {
   "cell_type": "markdown",
   "metadata": {
    "lx_assignment_number": "4",
    "lx_problem_cell_type": "Test"
   },
   "source": [
    "---\n",
    "#### Local Test for Assignment 4, PROBLEM 2\n",
    "Evaluate cell below to make sure your answer is valid.                         You **should not** modify anything in the cell below when evaluating it to do a local test of                         your solution.\n",
    "You may need to include and evaluate code snippets from lecture notebooks in cells above to make the local test work correctly sometimes (see error messages for clues). This is meant to help you become efficient at recalling materials covered in lectures that relate to this problem. Such local tests will generally not be available in the exam."
   ]
  },
  {
   "cell_type": "code",
   "execution_count": 7,
   "metadata": {
    "deletable": false,
    "lx_assignment_number": "4",
    "lx_assignment_type": "ASSIGNMENT",
    "lx_assignment_type2print": "Assignment",
    "lx_problem_cell_type": "Test",
    "lx_problem_number": "2",
    "lx_problem_points": "1"
   },
   "outputs": [
    {
     "name": "stdout",
     "output_type": "stream",
     "text": [
      "Your answer is an integer, hopefully it is correct.\n"
     ]
    }
   ],
   "source": [
    "# test that your answer is indeed a number by evaluating this cell after you replaced XXX above and evaluated it.\n",
    "try: #first int is Integer\n",
    "    assert((type(N2) is int) or (type(N2) is int))\n",
    "    print(\"Your answer is an integer, hopefully it is correct.\")\n",
    "except AssertionError:\n",
    "    print(\"Try again! and make sure you are producing an integer of class Integer or int\")"
   ]
  },
  {
   "cell_type": "markdown",
   "metadata": {
    "lx_assignment_number": "4",
    "lx_problem_cell_type": "PROBLEM"
   },
   "source": [
    "---\n",
    "## Assignment 4, PROBLEM 3\n",
    "Maximum Points = 3"
   ]
  },
  {
   "cell_type": "markdown",
   "metadata": {
    "deletable": false,
    "lx_assignment_number": "4",
    "lx_assignment_type": "ASSIGNMENT",
    "lx_assignment_type2print": "Assignment",
    "lx_problem_cell_type": "PROBLEM",
    "lx_problem_number": "3",
    "lx_problem_points": "3"
   },
   "source": [
    "\n",
    "The following datasets are subsets of $d$-dimensional '0/1' vectors with label +1. The remaining '0/1' vectors are '-1'. Determine if the following three problems are linearly separable:\n",
    "\n",
    "1. $c^\\ast = \\{(0,1,0),(0,1,1),(1,0,0),(1,1,1)\\}$, and $X$ is all $0/1$ vectors in 3 dimensions.\n",
    "2. $c^\\ast = \\{(0,1,1),(0,1,0),(1,1,0),(1,1,1)\\}$, and $X$ is all $0/1$ vectors in 3 dimensions.\n",
    "3. $$\\begin{align*}\n",
    "      c^\\ast = \\{(0,1,0,0),(0,1,0,1),(0,1,1,0),(1,0,0,0)\\\\\n",
    "      ,(1,1,0,0),(1,1,0,1),(1,1,1,0),(1,1,1,1)\\}\n",
    "    \\end{align*}$$\n",
    "    and $X$ is all $0/1$ vectors in 4 dimensions."
   ]
  },
  {
   "cell_type": "code",
   "execution_count": 8,
   "metadata": {
    "deletable": false,
    "lx_assignment_number": "4",
    "lx_assignment_type": "ASSIGNMENT",
    "lx_assignment_type2print": "Assignment",
    "lx_problem_cell_type": "PROBLEM",
    "lx_problem_number": "3",
    "lx_problem_points": "3"
   },
   "outputs": [],
   "source": [
    "# Replace XXX, YYY, ZZZ with True if true and False if false, they represent the three problems\n",
    "Solution_Q1 = False\n",
    "Solution_Q2 = True\n",
    "Solution_Q3 = False"
   ]
  },
  {
   "cell_type": "markdown",
   "metadata": {},
   "source": [
    "To determine whether these problems are linearly separable, we need to analyze whether there exists a hyperplane that can perfectly separate the '+1' and '-1' labeled points in each case. Let's consider each problem individually:\n",
    "\n",
    "1. **Problem 1:**\n",
    "   - `c* = {(0,1,0),(0,1,1),(1,0,0),(1,1,1)}`\n",
    "   - In this problem, we have a 3-dimensional space. We need to check if there is a linear boundary that can separate the given '+1' labeled points from all other '0/1' 3-dimensional vectors. A quick inspection shows that the vectors in `c*` don't share a common feature that uniquely identifies them against all other '0/1' vectors. For instance, no single feature (like a '1' in a particular position) is present across all vectors in `c*` and absent in all '-1' vectors. Therefore, this problem is **not linearly separable**.\n",
    "\n",
    "2. **Problem 2:**\n",
    "   - `c* = {(0,1,1),(0,1,0),(1,1,0),(1,1,1)}`\n",
    "   - Here, all vectors in `c*` share a common feature: the second element is always '1'. This is not the case for the remaining vectors, which would be labeled '-1'. Therefore, a hyperplane that separates based on the value of the second element (for instance, vectors with the second element '1' are labeled '+1' and otherwise '-1') can be formed. Thus, this problem is **linearly separable**.\n",
    "\n",
    "3. **Problem 3:**\n",
    "   - `c* = {(0,1,0,0),(0,1,0,1),(0,1,1,0),(1,0,0,0),(1,1,0,0),(1,1,0,1),(1,1,1,0),(1,1,1,1)}`\n",
    "   - This is a 4-dimensional problem. Similar to the second problem, we need to find if there is a common feature or a set of features that can separate the '+1' and '-1' vectors. Observing the vectors in `c*`, there doesn't appear to be a simple linear boundary that can separate these from all other '0/1' vectors in 4-dimensional space. For example, the feature of having a '1' in a certain position does not uniquely classify all vectors in `c*` as '+1'. Therefore, this problem appears to be **not linearly separable**.\n",
    "\n",
    "In summary, only the second problem is linearly separable, while the first and third problems are not.\n"
   ]
  },
  {
   "cell_type": "markdown",
   "metadata": {
    "lx_assignment_number": "4",
    "lx_problem_cell_type": "Test"
   },
   "source": [
    "---\n",
    "#### Local Test for Assignment 4, PROBLEM 3\n",
    "Evaluate cell below to make sure your answer is valid.                         You **should not** modify anything in the cell below when evaluating it to do a local test of                         your solution.\n",
    "You may need to include and evaluate code snippets from lecture notebooks in cells above to make the local test work correctly sometimes (see error messages for clues). This is meant to help you become efficient at recalling materials covered in lectures that relate to this problem. Such local tests will generally not be available in the exam."
   ]
  },
  {
   "cell_type": "code",
   "execution_count": 9,
   "metadata": {
    "deletable": false,
    "lx_assignment_number": "4",
    "lx_assignment_type": "ASSIGNMENT",
    "lx_assignment_type2print": "Assignment",
    "lx_problem_cell_type": "Test",
    "lx_problem_number": "3",
    "lx_problem_points": "3"
   },
   "outputs": [
    {
     "name": "stdout",
     "output_type": "stream",
     "text": [
      "Your answer Q1 is a boolean, hopefully it is correct.\n",
      "Your answer Q2 is a boolean, hopefully it is correct.\n",
      "Your answer Q3 is a boolean, hopefully it is correct.\n"
     ]
    }
   ],
   "source": [
    "# test that your answer is indeed booleans by evaluating this cell after you replaced XXX, YYY, ZZZ above and evaluated it.\n",
    "try:\n",
    "    assert(type(Solution_Q1) is bool)\n",
    "    print(\"Your answer Q1 is a boolean, hopefully it is correct.\")\n",
    "except AssertionError:\n",
    "    print(\"Try again! and make sure you are producing a boolean (True or False)\")\n",
    "try:\n",
    "    assert(type(Solution_Q2) is bool)\n",
    "    print(\"Your answer Q2 is a boolean, hopefully it is correct.\")\n",
    "except AssertionError:\n",
    "    print(\"Try again! and make sure you are producing a boolean (True or False)\")\n",
    "try:\n",
    "    assert(type(Solution_Q3) is bool)\n",
    "    print(\"Your answer Q3 is a boolean, hopefully it is correct.\")\n",
    "except AssertionError:\n",
    "    print(\"Try again! and make sure you are producing a boolean (True or False)\")"
   ]
  },
  {
   "cell_type": "markdown",
   "metadata": {
    "lx_assignment_number": "4",
    "lx_problem_cell_type": "PROBLEM"
   },
   "source": [
    "---\n",
    "## Assignment 4, PROBLEM 4\n",
    "Maximum Points = 1"
   ]
  },
  {
   "cell_type": "markdown",
   "metadata": {
    "deletable": false,
    "lx_assignment_number": "4",
    "lx_assignment_type": "ASSIGNMENT",
    "lx_assignment_type2print": "Assignment",
    "lx_problem_cell_type": "PROBLEM",
    "lx_problem_number": "4",
    "lx_problem_points": "1"
   },
   "source": [
    "\n",
    "In Problem 2 we looked at the following problem:\n",
    "Consider an instance space $X$ consisting of integers $1$ to $1000$ and a target concept $c^\\ast = \\{x: 501 \\leq x \\leq 1000\\}$. If your hypothesis class $\\mathcal H$ is $\\{h_j:\\, h_j=\\{x: j \\leq x \\leq 1000\\}, j=1,\\ldots,1000\\}$. \n",
    "\n",
    "What is the VC-dimension of our hypothesis class? That is, what is the maximum number of points such that $\\mathcal H$ shatters that set?"
   ]
  },
  {
   "cell_type": "code",
   "execution_count": 10,
   "metadata": {
    "deletable": false,
    "lx_assignment_number": "4",
    "lx_assignment_type": "ASSIGNMENT",
    "lx_assignment_type2print": "Assignment",
    "lx_problem_cell_type": "PROBLEM",
    "lx_problem_number": "4",
    "lx_problem_points": "1"
   },
   "outputs": [],
   "source": [
    "# Replace XXX with the VC dimension\n",
    "VC_dimension = 1"
   ]
  },
  {
   "cell_type": "markdown",
   "metadata": {
    "lx_assignment_number": "4",
    "lx_problem_cell_type": "Test"
   },
   "source": [
    "---\n",
    "#### Local Test for Assignment 4, PROBLEM 4\n",
    "Evaluate cell below to make sure your answer is valid.                         You **should not** modify anything in the cell below when evaluating it to do a local test of                         your solution.\n",
    "You may need to include and evaluate code snippets from lecture notebooks in cells above to make the local test work correctly sometimes (see error messages for clues). This is meant to help you become efficient at recalling materials covered in lectures that relate to this problem. Such local tests will generally not be available in the exam."
   ]
  },
  {
   "cell_type": "code",
   "execution_count": 11,
   "metadata": {
    "deletable": false,
    "lx_assignment_number": "4",
    "lx_assignment_type": "ASSIGNMENT",
    "lx_assignment_type2print": "Assignment",
    "lx_problem_cell_type": "Test",
    "lx_problem_number": "4",
    "lx_problem_points": "1"
   },
   "outputs": [
    {
     "name": "stdout",
     "output_type": "stream",
     "text": [
      "Your answer is an integer, hopefully it is correct.\n"
     ]
    }
   ],
   "source": [
    "# test that your answer is indeed a number by evaluating this cell after you replaced XXX above and evaluated it.\n",
    "\n",
    "try:\n",
    "    assert((type(VC_dimension) is int) or (type(VC_dimension) is int))\n",
    "    print(\"Your answer is an integer, hopefully it is correct.\")\n",
    "except AssertionError:\n",
    "    print(\"Try again! and make sure you are producing an integer of class Integer or int\")"
   ]
  },
  {
   "cell_type": "markdown",
   "metadata": {
    "lx_assignment_number": "4",
    "lx_problem_cell_type": "PROBLEM"
   },
   "source": [
    "---\n",
    "## Assignment 4, PROBLEM 5\n",
    "Maximum Points = 1"
   ]
  },
  {
   "cell_type": "markdown",
   "metadata": {
    "deletable": false,
    "lx_assignment_number": "4",
    "lx_assignment_type": "ASSIGNMENT",
    "lx_assignment_type2print": "Assignment",
    "lx_problem_cell_type": "PROBLEM",
    "lx_problem_number": "5",
    "lx_problem_points": "1"
   },
   "source": [
    "\n",
    "Revisit problem 2 using the VC_dimension that you used in Problem 4, by instead applying the VC-bound.\n",
    "Consider an instance space $X$ consisting of integers $1$ to $1000$ and a target concept $c^\\ast = \\{x: 501 \\leq x \\leq 1000\\}$. If your hypothesis class $\\mathcal H$ is $\\{h_j:\\, h_j=\\{x: j \\leq x \\leq 1000\\}, j=1,\\ldots,1000\\}$. How large must the training set $S$ be to ensure that with probability $99\\%$ any consistent hypothesis (training error 0) will have a true error less than $10\\%$."
   ]
  },
  {
   "cell_type": "code",
   "execution_count": 12,
   "metadata": {
    "deletable": false,
    "lx_assignment_number": "4",
    "lx_assignment_type": "ASSIGNMENT",
    "lx_assignment_type2print": "Assignment",
    "lx_problem_cell_type": "PROBLEM",
    "lx_problem_number": "5",
    "lx_problem_points": "1"
   },
   "outputs": [],
   "source": [
    "# Replace the XXX below with the number of training samples needed to satisfy the problem\n",
    "N5 = 601"
   ]
  },
  {
   "cell_type": "markdown",
   "metadata": {},
   "source": [
    "In Problem 2, we are asked to find the size of the training set \\( S \\) required to ensure that with a 99% probability, any consistent hypothesis will have a true error of less than 10%, using the VC-bound. The VC-bound provides a way to relate the size of the training set, the VC-dimension of the hypothesis class, and the desired levels of confidence and accuracy.\n",
    "\n",
    "The VC-bound theorem states that for any hypothesis class \\( \\mathcal{H} \\) with VC-dimension \\( d \\), the probability that the true error of any hypothesis is greater than \\( \\epsilon \\) is at most \\( \\delta \\), provided that the number of training examples \\( m \\) satisfies the following inequality:\n",
    "\n",
    "\\[ m \\geq \\frac{1}{\\epsilon} \\left( 4 \\log \\frac{2}{\\delta} + 8d \\log \\frac{13}{\\epsilon} \\right) \\]\n",
    "\n",
    "Given:\n",
    "- The VC-dimension \\( d = 1 \\) (as established in the previous discussion).\n",
    "- The desired accuracy \\( \\epsilon = 10\\% = 0.1 \\).\n",
    "- The confidence level \\( 99\\% \\), so \\( \\delta = 1\\% = 0.01 \\).\n",
    "\n",
    "Let's calculate the minimum size of the training set \\( m \\) using these values:\n",
    "\n",
    "\\[ m_{VC\\_bound} = \\frac{1}{0.1} \\left( 4 \\log \\frac{2}{0.01} + 8 \\times 1 \\log \\frac{13}{0.1} \\right) = 601.335450698368 \\]\n",
    "\n",
    "Therefore, to ensure that with a probability of 99%, any consistent hypothesis will have a true error of less than 10%, the training set \\( S \\) must contain at least 602 examples (rounding up to the nearest whole number). This result is derived using the VC-bound for a hypothesis class with a VC-dimension of 1.\n"
   ]
  },
  {
   "cell_type": "markdown",
   "metadata": {
    "lx_assignment_number": "4",
    "lx_problem_cell_type": "Test"
   },
   "source": [
    "---\n",
    "#### Local Test for Assignment 4, PROBLEM 5\n",
    "Evaluate cell below to make sure your answer is valid.                         You **should not** modify anything in the cell below when evaluating it to do a local test of                         your solution.\n",
    "You may need to include and evaluate code snippets from lecture notebooks in cells above to make the local test work correctly sometimes (see error messages for clues). This is meant to help you become efficient at recalling materials covered in lectures that relate to this problem. Such local tests will generally not be available in the exam."
   ]
  },
  {
   "cell_type": "code",
   "execution_count": 13,
   "metadata": {
    "deletable": false,
    "lx_assignment_number": "4",
    "lx_assignment_type": "ASSIGNMENT",
    "lx_assignment_type2print": "Assignment",
    "lx_problem_cell_type": "Test",
    "lx_problem_number": "5",
    "lx_problem_points": "1"
   },
   "outputs": [
    {
     "name": "stdout",
     "output_type": "stream",
     "text": [
      "Your answer is an integer, hopefully it is correct.\n"
     ]
    }
   ],
   "source": [
    "# test that your answer is indeed a number by evaluating this cell after you replaced XXX above and evaluated it.\n",
    "try:\n",
    "    assert((type(N5) is int) or (type(N5) is int))\n",
    "    print(\"Your answer is an integer, hopefully it is correct.\")\n",
    "except AssertionError:\n",
    "    print(\"Try again! and make sure you are producing an integer of class Integer or int\")"
   ]
  }
 ],
 "metadata": {
  "kernelspec": {
   "display_name": "deeplearning",
   "language": "python",
   "name": "python3"
  },
  "language_info": {
   "codemirror_mode": {
    "name": "ipython",
    "version": 3
   },
   "file_extension": ".py",
   "mimetype": "text/x-python",
   "name": "python",
   "nbconvert_exporter": "python",
   "pygments_lexer": "ipython3",
   "version": "3.10.13"
  },
  "lx_assignment_number": "4",
  "lx_course_instance": "2020",
  "lx_course_name": "Introduction to Data Science: A Comp-Math-Stat Approach",
  "lx_course_number": "1MS041"
 },
 "nbformat": 4,
 "nbformat_minor": 2
}
