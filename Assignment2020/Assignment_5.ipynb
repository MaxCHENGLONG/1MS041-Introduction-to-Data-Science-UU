{
 "cells": [
  {
   "cell_type": "markdown",
   "metadata": {
    "deletable": false
   },
   "source": [
    "# [Introduction to Data Science: A Comp-Math-Stat Approach](http://datascience-intro.github.io/1MS041-2020/)\n",
    "## 1MS041, 2020 \n",
    "&copy;2020 Raazesh Sainudiin, Benny Avelin. [Attribution 4.0 International (CC BY 4.0)](https://creativecommons.org/licenses/by/4.0/)"
   ]
  },
  {
   "cell_type": "markdown",
   "metadata": {
    "deletable": false
   },
   "source": [
    "# Assignment 5 for Course 1MS041\n",
    "Make     sure you pass the `# ... Test` cells and\n",
    " submit your solution notebook in the corresponding assignment on the course website. You can submit multiple times before the deadline     and your highest score will be used."
   ]
  },
  {
   "cell_type": "markdown",
   "metadata": {
    "lx_assignment_number": "5",
    "lx_problem_cell_type": "PROBLEM"
   },
   "source": [
    "---\n",
    "## Assignment 5, PROBLEM 1\n",
    "Maximum Points = 1"
   ]
  },
  {
   "cell_type": "markdown",
   "metadata": {
    "deletable": false,
    "lx_assignment_number": "5",
    "lx_assignment_type": "ASSIGNMENT",
    "lx_assignment_type2print": "Assignment",
    "lx_problem_cell_type": "PROBLEM",
    "lx_problem_number": "1",
    "lx_problem_points": "1"
   },
   "source": [
    "\n",
    "The goal of this problem is to implement your own random projection function, i.e. same as in the random projection theorem and Johnson Lindenstrauss. Below you will find a function template, as always fill in XXX.\n",
    "\n",
    "Some notes, the input will be a numpy array and the output should also be a numpy array. The format for the input is `(n_samples, d)` and the output should be of the form `(n_samples, k)`."
   ]
  },
  {
   "cell_type": "code",
   "execution_count": 298,
   "metadata": {
    "deletable": false,
    "lx_assignment_number": "5",
    "lx_assignment_type": "ASSIGNMENT",
    "lx_assignment_type2print": "Assignment",
    "lx_problem_cell_type": "PROBLEM",
    "lx_problem_number": "1",
    "lx_problem_points": "1"
   },
   "outputs": [],
   "source": [
    "# Do not rename the function below just replace what is XXX\n",
    "def random_projection(X,d,k):\n",
    "    '''Perform a random projection of the dataset X from \n",
    "    d-dimensions into k-dimensions'''\n",
    "    assert X.shape[1] == XXX, \"The array X does not have the shape (n_samples,d)\"\n",
    "    XXX\n",
    "    XXX\n",
    "    return XXX"
   ]
  },
  {
   "cell_type": "code",
   "execution_count": 2,
   "metadata": {},
   "outputs": [],
   "source": [
    "import numpy as np\n",
    "\n",
    "def random_projection(X, d, k):\n",
    "    '''Perform a random projection of the dataset X from \n",
    "    d-dimensions into k-dimensions'''\n",
    "    assert X.shape[1] == d, \"The array X does not have the shape (n_samples, d)\"\n",
    "\n",
    "    # Generate a random matrix with entries from a normal distribution\n",
    "    random_matrix = np.random.normal(0, np.sqrt(1/k), (d, k))\n",
    "\n",
    "    # Perform the matrix multiplication\n",
    "    projected_X = np.dot(X, random_matrix)\n",
    "\n",
    "    return projected_X\n"
   ]
  },
  {
   "cell_type": "markdown",
   "metadata": {
    "lx_assignment_number": "5",
    "lx_problem_cell_type": "Test"
   },
   "source": [
    "---\n",
    "#### Local Test for Assignment 5, PROBLEM 1\n",
    "Evaluate cell below to make sure your answer is valid.                         You **should not** modify anything in the cell below when evaluating it to do a local test of                         your solution.\n",
    "You may need to include and evaluate code snippets from lecture notebooks in cells above to make the local test work correctly sometimes (see error messages for clues). This is meant to help you become efficient at recalling materials covered in lectures that relate to this problem. Such local tests will generally not be available in the exam."
   ]
  },
  {
   "cell_type": "code",
   "execution_count": 3,
   "metadata": {
    "deletable": false,
    "lx_assignment_number": "5",
    "lx_assignment_type": "ASSIGNMENT",
    "lx_assignment_type2print": "Assignment",
    "lx_problem_cell_type": "Test",
    "lx_problem_number": "1",
    "lx_problem_points": "1"
   },
   "outputs": [
    {
     "name": "stdout",
     "output_type": "stream",
     "text": [
      "You are outputting the correct dimension, hopefully it is correct.\n"
     ]
    }
   ],
   "source": [
    "# small test to see that you output the correct shape\n",
    "import numpy as np\n",
    "X_test = np.array([[1,1],[2,1],[3,1],[4,1]])\n",
    "try:\n",
    "    assert(random_projection(X_test,2,1).shape == (X_test.shape[0],1))\n",
    "    print(\"You are outputting the correct dimension, hopefully it is correct.\")\n",
    "except AssertionError:\n",
    "    print(\"Try again! and make sure you are producing an output of (n_samples,k)\")"
   ]
  },
  {
   "cell_type": "markdown",
   "metadata": {
    "lx_assignment_number": "5",
    "lx_problem_cell_type": "PROBLEM"
   },
   "source": [
    "---\n",
    "## Assignment 5, PROBLEM 2\n",
    "Maximum Points = 2"
   ]
  },
  {
   "cell_type": "markdown",
   "metadata": {
    "deletable": false,
    "lx_assignment_number": "5",
    "lx_assignment_type": "ASSIGNMENT",
    "lx_assignment_type2print": "Assignment",
    "lx_problem_cell_type": "PROBLEM",
    "lx_problem_number": "2",
    "lx_problem_points": "2"
   },
   "source": [
    "\n",
    "Write a function that generates points from a unit ball and unit sphere in $d$ dimensions. The output should be a numpy array of shape `(n_samples,d)`. As always replace XXX with whatever makes sense.\n",
    "\n",
    "Hint, numpy has a function called power, https://numpy.org/doc/stable/reference/generated/numpy.power.html\n",
    "also remember `numpy.linalg.norm` to calculate length of vectors.\n",
    "\n",
    "Another hint that might be useful, note that numpy has broadcasting rule in order to make sense of the multiplication between different size vectors. Say we would like to compute the product of a (10,10) vector and a (10,1) vector, in this case numpy will broadcast the second vector to (10,10) by copying the values along the second axis. However for this to work they both have to have the same number of dimensions, i.e. we cannot multiply (10,10) and (10,) we have to reshape the second vector to (10,1) for broadcasting to work)."
   ]
  },
  {
   "cell_type": "code",
   "execution_count": null,
   "metadata": {
    "deletable": false,
    "lx_assignment_number": "5",
    "lx_assignment_type": "ASSIGNMENT",
    "lx_assignment_type2print": "Assignment",
    "lx_problem_cell_type": "PROBLEM",
    "lx_problem_number": "2",
    "lx_problem_points": "2"
   },
   "outputs": [],
   "source": [
    "# Do not rename the function below just replace what is XXX\n",
    "def uniform_unit_ball(n_samples=1,d=1,surface=False):\n",
    "    '''Generate n_samples uniform random samples from the unit ball in d-dimensions.\n",
    "    If surface==True generate only from the surface of the ball'''\n",
    "    assert (type(n_samples) == Integer) or (type(n_samples) == int), \"samples needs to be integer\"\n",
    "    assert (type(d) == Integer) or (type(d) == int), \"d needs to be integer\"\n",
    "    assert (n_samples > 0), \"Positive number of samples\"\n",
    "    assert (d >= 1), \"Dimension needs to be greater than or equal to 1\"\n",
    "    \n",
    "    XXX\n",
    "    return XXX"
   ]
  },
  {
   "cell_type": "code",
   "execution_count": 4,
   "metadata": {},
   "outputs": [],
   "source": [
    "import numpy as np\n",
    "\n",
    "def uniform_unit_ball(n_samples=1, d=1, surface=False):\n",
    "    '''Generate n_samples uniform random samples from the unit ball in d-dimensions.\n",
    "    If surface==True generate only from the surface of the ball'''\n",
    "    assert isinstance(n_samples, int) and n_samples > 0, \"n_samples must be a positive integer\"\n",
    "    assert isinstance(d, int) and d >= 1, \"d must be an integer greater than or equal to 1\"\n",
    "\n",
    "    # Generate points from a normal distribution\n",
    "    points = np.random.normal(0, 1, (n_samples, d))\n",
    "\n",
    "    # Normalize each point to lie on the unit sphere\n",
    "    norms = np.linalg.norm(points, axis=1, keepdims=True)\n",
    "    points_on_sphere = points / norms\n",
    "\n",
    "    if surface:\n",
    "        # If surface is True, return points on the sphere\n",
    "        return points_on_sphere\n",
    "    else:\n",
    "        # Scale points to be inside the unit ball\n",
    "        scaling_factors = np.power(np.random.uniform(0, 1, (n_samples, 1)), 1/d)\n",
    "        points_in_ball = points_on_sphere * scaling_factors\n",
    "        return points_in_ball"
   ]
  },
  {
   "cell_type": "markdown",
   "metadata": {
    "lx_assignment_number": "5",
    "lx_problem_cell_type": "Test"
   },
   "source": [
    "---\n",
    "#### Local Test for Assignment 5, PROBLEM 2\n",
    "Evaluate cell below to make sure your answer is valid.                         You **should not** modify anything in the cell below when evaluating it to do a local test of                         your solution.\n",
    "You may need to include and evaluate code snippets from lecture notebooks in cells above to make the local test work correctly sometimes (see error messages for clues). This is meant to help you become efficient at recalling materials covered in lectures that relate to this problem. Such local tests will generally not be available in the exam."
   ]
  },
  {
   "cell_type": "code",
   "execution_count": 8,
   "metadata": {
    "deletable": false,
    "lx_assignment_number": "5",
    "lx_assignment_type": "ASSIGNMENT",
    "lx_assignment_type2print": "Assignment",
    "lx_problem_cell_type": "Test",
    "lx_problem_number": "2",
    "lx_problem_points": "2"
   },
   "outputs": [],
   "source": [
    "\n",
    "# Use the below visual verification in two dimension to see if you generate uniform samples\n",
    "# from the 2d ball\n",
    "\n",
    "unif_ball = uniform_unit_ball(10000,2,surface=True) #Change to true if you want to see if your code works\n",
    "#sage_histogram2d(unif_ball[:,0],unif_ball[:,1],normed=True)"
   ]
  },
  {
   "cell_type": "markdown",
   "metadata": {
    "lx_assignment_number": "5",
    "lx_problem_cell_type": "PROBLEM"
   },
   "source": [
    "---\n",
    "## Assignment 5, PROBLEM 3\n",
    "Maximum Points = 1"
   ]
  },
  {
   "cell_type": "markdown",
   "metadata": {
    "deletable": false,
    "lx_assignment_number": "5",
    "lx_assignment_type": "ASSIGNMENT",
    "lx_assignment_type2print": "Assignment",
    "lx_problem_cell_type": "PROBLEM",
    "lx_problem_number": "3",
    "lx_problem_points": "1"
   },
   "source": [
    "\n",
    "Perform the following three steps, then answer the question:\n",
    "\n",
    "1. Generate 200 points from the surface of the unit ball in 50 dimensions (use your solution from problem 2).\n",
    "2. Generate a few random lines through the origin and plot the distribution of points on each line.\n",
    "3. What does your result from 2 say about where the surface area is concentrated relative to each line"
   ]
  },
  {
   "cell_type": "code",
   "execution_count": 10,
   "metadata": {
    "deletable": false,
    "lx_assignment_number": "5",
    "lx_assignment_type": "ASSIGNMENT",
    "lx_assignment_type2print": "Assignment",
    "lx_problem_cell_type": "PROBLEM",
    "lx_problem_number": "3",
    "lx_problem_points": "1"
   },
   "outputs": [],
   "source": [
    "# Dont edit the below array, use the index corresponding to the correct answer\n",
    "problem3_multiple_choice = ['On the north and south pole according to the line',\n",
    "                            'Uniformly distributed over [-1,1]',\n",
    "                            'Around the equator orthogonal to the line',\n",
    "                            'This depends on the line, we get a different distribution each time']\n",
    "\n",
    "problem3_answer = problem3_multiple_choice[2]"
   ]
  },
  {
   "cell_type": "markdown",
   "metadata": {
    "lx_assignment_number": "5",
    "lx_problem_cell_type": "Test"
   },
   "source": [
    "---\n",
    "#### Local Test for Assignment 5, PROBLEM 3\n",
    "Evaluate cell below to make sure your answer is valid.                         You **should not** modify anything in the cell below when evaluating it to do a local test of                         your solution.\n",
    "You may need to include and evaluate code snippets from lecture notebooks in cells above to make the local test work correctly sometimes (see error messages for clues). This is meant to help you become efficient at recalling materials covered in lectures that relate to this problem. Such local tests will generally not be available in the exam."
   ]
  },
  {
   "cell_type": "code",
   "execution_count": null,
   "metadata": {
    "deletable": false,
    "lx_assignment_number": "5",
    "lx_assignment_type": "ASSIGNMENT",
    "lx_assignment_type2print": "Assignment",
    "lx_problem_cell_type": "Test",
    "lx_problem_number": "3",
    "lx_problem_points": "1"
   },
   "outputs": [],
   "source": [
    "# test that your answer is one of the possible answers\n",
    "problem3_multiple_choice = ['On the north and south pole according to the line',\n",
    "                            'Uniformly distributed over [-1,1]',\n",
    "                            'Around the equator orthogonal to the line',\n",
    "                            'This depends on the line, we get a different distribution each time']\n",
    "\n",
    "assert (problem3_answer in problem3_multiple_choice), \"Please select on of the answers\""
   ]
  },
  {
   "cell_type": "markdown",
   "metadata": {
    "lx_assignment_number": "5",
    "lx_problem_cell_type": "PROBLEM"
   },
   "source": [
    "---\n",
    "## Assignment 5, PROBLEM 4\n",
    "Maximum Points = 1"
   ]
  },
  {
   "cell_type": "markdown",
   "metadata": {
    "deletable": false,
    "lx_assignment_number": "5",
    "lx_assignment_type": "ASSIGNMENT",
    "lx_assignment_type2print": "Assignment",
    "lx_problem_cell_type": "PROBLEM",
    "lx_problem_number": "4",
    "lx_problem_points": "1"
   },
   "source": [
    "\n",
    "Why does `findSingularVectors` give rise to no-convergence sometimes, specially when we try to extract many singular vectors, say trying to extract 6 singular vectors from 10-d gaussian random vectors?"
   ]
  },
  {
   "cell_type": "code",
   "execution_count": 67,
   "metadata": {
    "deletable": false,
    "lx_assignment_number": "5",
    "lx_assignment_type": "ASSIGNMENT",
    "lx_assignment_type2print": "Assignment",
    "lx_problem_cell_type": "PROBLEM",
    "lx_problem_number": "4",
    "lx_problem_points": "1"
   },
   "outputs": [],
   "source": [
    "# Write your answer by filling in the string, this is free text\n",
    "problem4_answer = 'XXX'"
   ]
  },
  {
   "cell_type": "markdown",
   "metadata": {
    "lx_assignment_number": "5",
    "lx_problem_cell_type": "Test"
   },
   "source": [
    "---\n",
    "#### Local Test for Assignment 5, PROBLEM 4\n",
    "Evaluate cell below to make sure your answer is valid.                         You **should not** modify anything in the cell below when evaluating it to do a local test of                         your solution.\n",
    "You may need to include and evaluate code snippets from lecture notebooks in cells above to make the local test work correctly sometimes (see error messages for clues). This is meant to help you become efficient at recalling materials covered in lectures that relate to this problem. Such local tests will generally not be available in the exam."
   ]
  },
  {
   "cell_type": "code",
   "execution_count": 68,
   "metadata": {
    "deletable": false,
    "lx_assignment_number": "5",
    "lx_assignment_type": "ASSIGNMENT",
    "lx_assignment_type2print": "Assignment",
    "lx_problem_cell_type": "Test",
    "lx_problem_number": "4",
    "lx_problem_points": "1"
   },
   "outputs": [],
   "source": [
    "# test that your answer is a string\n",
    "assert (type(problem4_answer) == str), \"Make sure that your answer is a single string\""
   ]
  },
  {
   "cell_type": "markdown",
   "metadata": {
    "lx_assignment_number": "5",
    "lx_problem_cell_type": "PROBLEM"
   },
   "source": [
    "---\n",
    "## Assignment 5, PROBLEM 5\n",
    "Maximum Points = 3"
   ]
  },
  {
   "cell_type": "markdown",
   "metadata": {
    "deletable": false,
    "lx_assignment_number": "5",
    "lx_assignment_type": "ASSIGNMENT",
    "lx_assignment_type2print": "Assignment",
    "lx_problem_cell_type": "PROBLEM",
    "lx_problem_number": "5",
    "lx_problem_points": "3"
   },
   "source": [
    "\n",
    "Use the power method to compute the first 5 singular vectors for the matrix `problem5_Z` found below. Compute each singular vector to the tolerance of $10^{-6}$, in the following sense, (call $Z=$ `problem5_Z`)\n",
    "$$\n",
    "    \\left \\| v - \\frac{Z^T Z v}{\\|Z^T Z v\\|} \\right \\| < 10^{-6}.\n",
    "$$\n",
    "for the proposed singular unit vector $v$."
   ]
  },
  {
   "cell_type": "code",
   "execution_count": 13,
   "metadata": {
    "deletable": false,
    "lx_assignment_number": "5",
    "lx_assignment_type": "ASSIGNMENT",
    "lx_assignment_type2print": "Assignment",
    "lx_problem_cell_type": "PROBLEM",
    "lx_problem_number": "5",
    "lx_problem_points": "3"
   },
   "outputs": [],
   "source": [
    "import numpy as np\n",
    "\n",
    "problem5_Z = np.array([[ 1.21395528,  0.61319117,  0.96775704,  0.47560786,  0.46944868,\n",
    "                        -0.96174286, -0.04597716,  1.11423879, -2.16790516,  1.41559609],\n",
    "                       [-1.74579582, -2.96579703, -1.53883473, -2.08891653, -2.51835633,\n",
    "                         0.28005013,  3.14477698,  0.27859531, -0.21063502,  1.21238791],\n",
    "                       [-1.38846711, -2.36561478,  2.00400938, -0.81219207,  0.76351148,\n",
    "                        -0.94135869,  1.81624568,  0.30603084,  0.4502897 , -1.68275369],\n",
    "                       [-0.83770176, -1.12651679,  0.72947716,  0.28293936, -1.54650026,\n",
    "                         1.47451872,  0.58828722,  2.63367002, -1.75123164,  0.20599531],\n",
    "                       [ 0.16922431,  0.07605318,  0.87850331,  0.45439765, -0.36589416,x\n",
    "                        -1.16866643,  1.00148338, -2.24790302, -1.03375691,  0.66441057],\n",
    "                       [ 0.18417791, -0.6944261 ,  0.11811434, -0.02291727, -3.49209616,\n",
    "                         2.567174  , -0.79506183, -0.61917615, -0.25294073, -0.44972644],\n",
    "                       [ 0.21973089,  0.58409936,  0.05358338,  0.09448722,  1.18545664,\n",
    "                         0.09458799, -1.45002309,  1.38528763, -0.26669331, -0.02398977],\n",
    "                       [-0.77246978, -1.29899321,  0.32673874,  0.41253631,  0.9496008 ,\n",
    "                         0.23276985, -0.44480295, -1.70329931,  0.74889995,  0.10723953],\n",
    "                       [ 0.87892498,  1.51055297,  0.99208142,  0.15116986, -0.419831  ,\n",
    "                        -1.51231948,  2.44759401, -0.34096878,  0.78995641,  0.1464366 ],\n",
    "                       [ 0.4855678 , -0.49584481,  0.97413157, -1.44802482,  0.4773462 ,\n",
    "                         0.08619087, -1.15799392, -0.3331743 , -1.40555249, -0.76420582]])\n",
    "\n",
    "# replace XXX with the computed singular vectors put together in a numpy array of the shape\n",
    "# (5,10). So each row is a singular vector and ordered in decending order:\n",
    "# first singular vector on first row etc.\n",
    "\n",
    "#first_five_singular_vectors = XXX"
   ]
  },
  {
   "cell_type": "code",
   "execution_count": 14,
   "metadata": {},
   "outputs": [
    {
     "data": {
      "text/plain": [
       "array([[ 0.32065303,  0.53900427,  0.09356084,  0.25556026,  0.52719598,\n",
       "        -0.20401196, -0.45327178, -0.07215475,  0.03412778, -0.03476404],\n",
       "       [-0.09896509, -0.0762368 ,  0.16995002, -0.08072399,  0.348567  ,\n",
       "        -0.57549051,  0.5674604 , -0.33191483,  0.25135314, -0.03080647],\n",
       "       [ 0.06708813,  0.0222901 ,  0.29541545, -0.01999571,  0.1476298 ,\n",
       "        -0.23413586,  0.23930048,  0.70627397, -0.50364357,  0.14482257],\n",
       "       [ 0.32496678,  0.48773142, -0.179886  ,  0.1676555 , -0.49023311,\n",
       "        -0.12218333,  0.34028944, -0.17991079, -0.10206031,  0.42685941],\n",
       "       [-0.16666936,  0.15579425, -0.63618553, -0.02305161,  0.2067241 ,\n",
       "        -0.02040569,  0.11854799,  0.49198583,  0.47101886,  0.14687539]])"
      ]
     },
     "execution_count": 14,
     "metadata": {},
     "output_type": "execute_result"
    }
   ],
   "source": [
    "def power_method_for_singular_vectors(Z, num_vectors, tolerance=1e-6):\n",
    "    singular_vectors = []\n",
    "    for _ in range(num_vectors):\n",
    "        # Initialize a random vector\n",
    "        v = np.random.rand(Z.shape[1])\n",
    "        v /= np.linalg.norm(v)\n",
    "        \n",
    "        while True:\n",
    "            # Apply Z^T Z to v\n",
    "            Zv = np.dot(Z.T, np.dot(Z, v))\n",
    "            \n",
    "            # Normalize the result\n",
    "            Zv_norm = np.linalg.norm(Zv)\n",
    "            Zv_normalized = Zv / Zv_norm\n",
    "            \n",
    "            # Check the convergence\n",
    "            if np.linalg.norm(v - Zv_normalized) < tolerance:\n",
    "                break\n",
    "            \n",
    "            v = Zv_normalized\n",
    "\n",
    "        # Store the converged singular vector\n",
    "        singular_vectors.append(v)\n",
    "\n",
    "        # Deflation: Modify Z to ensure the next vector is orthogonal to this one\n",
    "        Z = Z - np.dot(np.dot(Z, v[:, None]), v[None, :])\n",
    "\n",
    "    return np.array(singular_vectors)\n",
    "\n",
    "# Using the power method to compute the first 5 singular vectors\n",
    "first_five_singular_vectors = power_method_for_singular_vectors(problem5_Z, 5)\n",
    "first_five_singular_vectors"
   ]
  },
  {
   "cell_type": "code",
   "execution_count": null,
   "metadata": {},
   "outputs": [],
   "source": []
  }
 ],
 "metadata": {
  "kernelspec": {
   "display_name": "deeplearning",
   "language": "python",
   "name": "python3"
  },
  "language_info": {
   "codemirror_mode": {
    "name": "ipython",
    "version": 3
   },
   "file_extension": ".py",
   "mimetype": "text/x-python",
   "name": "python",
   "nbconvert_exporter": "python",
   "pygments_lexer": "ipython3",
   "version": "3.10.13"
  },
  "lx_assignment_number": "5",
  "lx_course_instance": "2020",
  "lx_course_name": "Introduction to Data Science: A Comp-Math-Stat Approach",
  "lx_course_number": "1MS041"
 },
 "nbformat": 4,
 "nbformat_minor": 2
}
