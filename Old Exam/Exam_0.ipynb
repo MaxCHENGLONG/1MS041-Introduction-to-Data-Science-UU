{
 "cells": [
  {
   "cell_type": "markdown",
   "metadata": {
    "deletable": false
   },
   "source": [
    "# Exam 14th of January 2020 for the course 1MS041 (Introduction to Data Science)\n",
    "1. Fill in your anonymous exam code in the cell below.\n",
    "2. Complete the Problems by following instructions.\n",
    "3. When done, submit this file with your solutions saved, as instructed on Studium.\n",
    "\n",
    "Any questions regarding the exam can be asked by sending a message through Studium to the teacher. When asking a question about a specific problem, be sure to explain the problem clearly as all exams are shuffled in order."
   ]
  },
  {
   "cell_type": "code",
   "execution_count": 1,
   "metadata": {
    "deletable": false
   },
   "outputs": [],
   "source": [
    "# Enter your anonymous exam id by replacing XXXX in this cell below\n",
    "# do NOT delete this cell\n",
    "MyAnonymousExamID = '0019-BYZ'"
   ]
  },
  {
   "cell_type": "markdown",
   "metadata": {
    "deletable": false,
    "lx_assignment_number": "0",
    "lx_assignment_type": "EXAM",
    "lx_assignment_type2print": "Exam",
    "lx_problem_cell_type": "PROBLEM",
    "lx_problem_number": "1",
    "lx_problem_points": "5"
   },
   "source": [
    "---\n",
    "## PROBLEM 1\n",
    "Maximum Points = 5"
   ]
  },
  {
   "cell_type": "markdown",
   "metadata": {
    "deletable": false,
    "lx_assignment_number": "0",
    "lx_assignment_type": "EXAM",
    "lx_assignment_type2print": "Exam",
    "lx_problem_cell_type": "PROBLEM",
    "lx_problem_number": "1",
    "lx_problem_points": "5"
   },
   "source": [
    "\n",
    "Consider the following matrix\n",
    "$$\n",
    "    M = \n",
    "    \\begin{bmatrix}\n",
    "        1 & 1 \\\\\n",
    "        0 & 3 \\\\\n",
    "        3 & 0\n",
    "    \\end{bmatrix}\n",
    "$$\n",
    "Manually, by hand, produce the\n",
    "* [1p] Rank: `rank`\n",
    "* [1p] Left singular vectors in matrix form: `V`\n",
    "* [1p] Singular values in matrix form: `D`\n",
    "* [1p] Right singular vectors in matrix form: `U`\n",
    "\n",
    "If $UDV^T = M$ then [1p].\n",
    "\n",
    "When answering these questions, use the sagemath `matrix` format as the example below. Use exact answers, i.e. use `sqrt(3)` if that appears in the calculation.\n",
    "\n",
    "> To make sure that we all agree on signs, make sure that the sign of the first component of each singular vector is positive."
   ]
  },
  {
   "cell_type": "code",
   "execution_count": 3,
   "metadata": {
    "deletable": false,
    "lx_assignment_number": "0",
    "lx_assignment_type": "EXAM",
    "lx_assignment_type2print": "Exam",
    "lx_problem_cell_type": "PROBLEM",
    "lx_problem_number": "1",
    "lx_problem_points": "5"
   },
   "outputs": [],
   "source": [
    "import numpy as np \n",
    "import pandas as pd\n",
    "M = np.array([[1,1],\n",
    "              [0,3],\n",
    "              [3,0]])"
   ]
  },
  {
   "cell_type": "code",
   "execution_count": 19,
   "metadata": {
    "deletable": false,
    "lx_assignment_number": "0",
    "lx_assignment_type": "EXAM",
    "lx_assignment_type2print": "Exam",
    "lx_problem_cell_type": "PROBLEM",
    "lx_problem_number": "1",
    "lx_problem_points": "5"
   },
   "outputs": [
    {
     "name": "stdout",
     "output_type": "stream",
     "text": [
      "[[1.00000000e+00 1.00000000e+00]\n",
      " [1.08944232e-16 3.00000000e+00]\n",
      " [3.00000000e+00 1.73979591e-16]]\n"
     ]
    }
   ],
   "source": [
    "from scipy.linalg import svd\n",
    "from numpy.linalg import matrix_rank\n",
    "rank = matrix_rank(M) # [1p] The rank of the matrix M\n",
    "# Recalculating the SVD components for matrix M\n",
    "M = np.array([[1, 1],\n",
    "              [0, 3],\n",
    "              [3, 0]])\n",
    "\n",
    "# Performing Singular Value Decomposition\n",
    "U, S, VT = svd(M)\n",
    "V = VT.T\n",
    "# Constructing the diagonal matrix D from the singular values S\n",
    "D_adjusted = np.zeros((U.shape[0], V.shape[1]))\n",
    "D_adjusted[:S.shape[0], :S.shape[0]] = np.diag(S)\n",
    "# Ensuring the first component of each singular vector is positive\n",
    "for i in range(len(U[0])):\n",
    "    if U[0, i] < 0:\n",
    "        U[:, i] *= -1\n",
    "for i in range(len(V[0])):\n",
    "    if V[0, i] < 0:\n",
    "        V[:, i] *= -1\n",
    "\n",
    "# Verification that UDV^T = M\n",
    "#UDVT = U @ D_adjusted @ V.T\n",
    "# Outputs\n",
    "\n",
    "V = VT.T # [1p] Matrix of singular vectors, each vector is a column of V\n",
    "D = D_adjusted # [1p] The square matrix with the singular values on the diagonal\n",
    "U = U # [1p] The matrix of right singular vectors (each vector is a column of U)\n",
    "## Hint, use V.nrows() and V.ncols() etc. to make sure that you got the dimensions as you\n",
    "## expect. If nrows does not work, then you should make sure you are using `matrix()` from sagemath\n",
    "## [1p] Hint: Check that U*D*V.transpose() == M"
   ]
  },
  {
   "cell_type": "markdown",
   "metadata": {
    "deletable": false,
    "lx_assignment_number": "0",
    "lx_assignment_type": "EXAM",
    "lx_assignment_type2print": "Exam",
    "lx_problem_cell_type": "PROBLEM",
    "lx_problem_number": "2",
    "lx_problem_points": "5"
   },
   "source": [
    "---\n",
    "## PROBLEM 2\n",
    "Maximum Points = 5"
   ]
  },
  {
   "cell_type": "markdown",
   "metadata": {
    "deletable": false,
    "lx_assignment_number": "0",
    "lx_assignment_type": "EXAM",
    "lx_assignment_type2print": "Exam",
    "lx_problem_cell_type": "PROBLEM",
    "lx_problem_number": "2",
    "lx_problem_points": "5"
   },
   "source": [
    "\n",
    "Consider the $n$ IID $\\theta$-parametric family of rescaled Rademacher random variables with the following probability mass function:\n",
    "\n",
    "$$\n",
    "f(x; \\theta) = \n",
    "\\begin{cases} \n",
    "\\theta & \\text{ if } x=+10\\\\\n",
    "1-\\theta & \\text{ if } x=-10\\\\\n",
    "0 & \\text{ otherwise}.\n",
    "\\end{cases}\n",
    "$$\n",
    "\n",
    "Your task now is to perform a Wald Test of size $\\alpha=0.05$ to try to reject the null hypothesis that the chance of seeing a $+10$ is exactly $1/2$, i.e.,\n",
    "$$\\displaystyle{H_0: \\theta^*=\\theta_0 \\quad \\text{ versus } \\quad H_1: \\theta^* \\neq \\theta_0, \\qquad \\text{ with }\\theta_0=0.5}$$\n",
    "Show you work by replacing `XXX`s with the right expressions in the cell below."
   ]
  },
  {
   "cell_type": "code",
   "execution_count": 2,
   "metadata": {
    "deletable": false,
    "lx_assignment_number": "0",
    "lx_assignment_type": "EXAM",
    "lx_assignment_type2print": "Exam",
    "lx_problem_cell_type": "PROBLEM",
    "lx_problem_number": "2",
    "lx_problem_points": "5"
   },
   "outputs": [
    {
     "name": "stdout",
     "output_type": "stream",
     "text": [
      "8\n",
      "9\n"
     ]
    }
   ],
   "source": [
    "import numpy as np \n",
    "import pandas as pd\n",
    "dataSamples2 = np.array([-10,+10,+10,-10,-10,-10,+10,+10,-10,-10,-10,+10,+10,-10,+10,+10,+10])\n",
    "# HINT: to get the counts of +10s and -10s, perhaps a useful statistic for the likelihood\n",
    "print (sum(dataSamples2==-10)) # number of -10s\n",
    "print (sum(dataSamples2==+10)) # number of +10s"
   ]
  },
  {
   "cell_type": "code",
   "execution_count": 3,
   "metadata": {
    "deletable": false,
    "lx_assignment_number": "0",
    "lx_assignment_type": "EXAM",
    "lx_assignment_type2print": "Exam",
    "lx_problem_cell_type": "PROBLEM",
    "lx_problem_number": "2",
    "lx_problem_points": "5"
   },
   "outputs": [
    {
     "name": "stdout",
     "output_type": "stream",
     "text": [
      "mle thetaHat =  0.5294117647058824\n",
      "Null value of theta under H0 =  0.5\n",
      "estimated standard error 0.7161877499236128\n",
      "Wald statistic =  0.3018590445685101\n",
      "we fail to reject the null hypothesis that theta_0=0.5\n"
     ]
    }
   ],
   "source": [
    "## HINT: Think how the likelihood here is related to that for Bernoulli trials\n",
    "\n",
    "## STEP 1: get the MLE thetaHat, \n",
    "### either by hand or numerically\n",
    "thetaHat= np.mean(dataSamples2 == 10)\n",
    "print (\"mle thetaHat = \",thetaHat)\n",
    "\n",
    "## STEP 2: get the NullTheta or theta0\n",
    "NullTheta= 0.5\n",
    "print (\"Null value of theta under H0 = \", NullTheta)\n",
    "\n",
    "## STEP 3: get estimated standard error\n",
    "n = len(dataSamples2)\n",
    "seTheta=np.sqrt(thetaHat * (1-thetaHat/n)) # recall standard error comes from Fisher Information\n",
    "print (\"estimated standard error\",seTheta)\n",
    "\n",
    "# STEP 4: get Wald Statistic\n",
    "W=(seTheta - NullTheta) / seTheta\n",
    "print (\"Wald statistic = \",W)\n",
    "\n",
    "# STEP 5: conduct the size alpha=0.05 Wald test\n",
    "# do NOT change anything below\n",
    "rejectNull1 = abs(W) > 2.0 # alpha=0.05, so z_{alpha/2} =1.96 approx=2.0\n",
    "if (rejectNull1):\n",
    "    print (\"we reject the null hypothesis that theta_0=0.5\")\n",
    "else:\n",
    "    print (\"we fail to reject the null hypothesis that theta_0=0.5\")"
   ]
  },
  {
   "cell_type": "markdown",
   "metadata": {
    "deletable": false,
    "lx_assignment_number": "0",
    "lx_assignment_type": "EXAM",
    "lx_assignment_type2print": "Exam",
    "lx_problem_cell_type": "PROBLEM",
    "lx_problem_number": "3",
    "lx_problem_points": "5"
   },
   "source": [
    "---\n",
    "## PROBLEM 3\n",
    "Maximum Points = 5"
   ]
  },
  {
   "cell_type": "markdown",
   "metadata": {
    "deletable": false,
    "lx_assignment_number": "0",
    "lx_assignment_type": "EXAM",
    "lx_assignment_type2print": "Exam",
    "lx_problem_cell_type": "PROBLEM",
    "lx_problem_number": "3",
    "lx_problem_points": "5"
   },
   "source": [
    "\n",
    "In the next cells the earthquake data is analyzed further, specifically depth and magnitude.\n",
    "\n",
    "Your task is to understand the analysis and continue with the following:\n",
    "\n",
    "1. Make a residual plot for the fit and discuss briefly the scatter of residuals. Explain what values that are farthest from the x-axis (both below and above) mean here.\n",
    "2. Conduct a Wald test with alpha at 5% of the null hypothesis that $\\beta_1=0$. State your conclusion by setting the Boolean variable `RejectNullHypothesisForProblem4` to `True` if you reject and `False` if you do not."
   ]
  },
  {
   "cell_type": "code",
   "execution_count": 24,
   "metadata": {
    "deletable": false,
    "lx_assignment_number": "0",
    "lx_assignment_type": "EXAM",
    "lx_assignment_type2print": "Exam",
    "lx_problem_cell_type": "PROBLEM",
    "lx_problem_number": "3",
    "lx_problem_points": "5"
   },
   "outputs": [],
   "source": [
    "# Lets extract the depth and magnitude from myProcessedList \n",
    "# (which contains: longitude, latitude, magnitude, depth and the origin time)\n",
    "import numpy as np\n",
    "import pandas as pd\n",
    "data = pd.read_csv(\"data/earthquakes_small.csv\")\n",
    "myProcessedList = data\n",
    "eqDepth = data[' depth'].values\n",
    "eqMagnitude = data[' magnitude'].values"
   ]
  },
  {
   "cell_type": "code",
   "execution_count": 28,
   "metadata": {
    "deletable": false,
    "lx_assignment_number": "0",
    "lx_assignment_type": "EXAM",
    "lx_assignment_type2print": "Exam",
    "lx_problem_cell_type": "PROBLEM",
    "lx_problem_number": "3",
    "lx_problem_points": "5"
   },
   "outputs": [
    {
     "data": {
      "image/png": "[encoded data removed]",
      "text/plain": [
       "<Figure size 1000x600 with 1 Axes>"
      ]
     },
     "metadata": {},
     "output_type": "display_data"
    },
    {
     "data": {
      "text/plain": [
       "(array([2.04530836, 0.00334806]),\n",
       " array([-2.33513473e-01,  4.04838305e-01,  1.85002354e-01,  3.44903932e-01,\n",
       "         6.34367731e-02, -1.70334688e+00,  4.62886429e-01,  2.63357934e-01,\n",
       "        -1.88007282e-01,  7.24697158e-02,  2.62851973e-01,  3.57918630e-01,\n",
       "        -1.43419608e+00, -2.99220829e-01,  2.46025043e-01, -2.01776296e-01,\n",
       "         2.40514599e-01, -1.81513075e-01,  4.42689484e-01,  1.10325369e+00,\n",
       "         1.60969190e-01,  7.57970567e-01,  6.76265932e-02,  5.47925367e-01,\n",
       "         1.46591047e+00,  6.52231927e-01, -5.76865713e-01, -2.15683636e-01,\n",
       "        -2.50015538e-02,  3.73449662e-02, -1.15744192e+00, -1.14883374e-01,\n",
       "        -3.62094598e-01, -4.64733590e-01,  3.28040336e-02, -8.67910035e-01,\n",
       "         1.07676816e-01, -2.52171025e-01,  5.87446943e-01, -8.16725685e-01,\n",
       "         7.86767380e-01, -4.98163399e-01,  4.52235518e-01,  6.90263838e-03,\n",
       "        -1.50869157e-01, -7.07078688e-01, -5.66781187e-01,  9.39431128e-02,\n",
       "        -8.58062299e-02, -7.57518408e-02,  9.77205040e-02,  4.83447412e-01,\n",
       "        -4.15761401e-01,  3.58255134e-01, -2.14288622e-01, -1.75459692e-01,\n",
       "        -1.15208544e+00, -5.08391460e-01,  4.85814369e-01, -4.21424639e-01,\n",
       "         4.80382390e-01,  4.32120370e-01,  1.06226545e-01,  3.26712441e-01,\n",
       "        -1.04212408e+00, -4.39609708e-01, -3.57377856e-01,  4.86303207e-02,\n",
       "        -5.82493810e-01,  3.33811654e-01,  2.20063198e-01,  4.41453184e-02,\n",
       "         7.92530463e-01,  7.09961922e-01, -3.14172280e-02,  9.73570019e-01,\n",
       "         1.94448696e+00, -1.93458128e-01, -7.38695073e-01, -2.53792648e-01,\n",
       "        -2.93732677e-01, -4.43554886e-01,  7.07957804e-02, -1.08282644e-01,\n",
       "         1.34781217e-01, -5.34237794e-01,  8.89788595e-01,  3.94863280e-01,\n",
       "         1.05642285e+00,  1.63491006e-01,  1.28037596e+00, -6.76911759e-01,\n",
       "         2.17744474e-01, -6.10315258e-01,  1.22241885e+00,  2.14084691e-01,\n",
       "        -6.49119129e-01, -7.86517082e-03, -2.52325888e-01, -1.31034936e-01,\n",
       "         1.03142454e+00, -3.21919376e-02, -6.52223620e-01,  1.57943525e-01,\n",
       "        -3.38523798e-01,  5.07350753e-01,  2.78527004e-01,  1.69569106e-01,\n",
       "        -5.90603915e-01,  5.58193681e-02, -5.08387260e-01, -4.63092824e-02,\n",
       "        -2.20143046e-01,  2.40473380e-02,  8.76532469e-01,  2.82587715e-01,\n",
       "         4.15661650e-01, -1.50630894e-01,  1.70106478e-02, -6.37439607e-01,\n",
       "        -6.30855816e-01, -2.71478968e-01,  2.66842638e-02,  6.96500623e-01,\n",
       "         3.89799700e-01, -4.74379186e-01, -1.11088967e+00,  1.70369516e+00,\n",
       "        -7.61669605e-02, -2.25853085e-01, -2.68461434e-01, -2.68441077e-01,\n",
       "        -1.17609010e-03,  1.67903131e-01, -4.39140249e-01,  6.77165942e-01,\n",
       "        -4.53526822e-01, -6.95610524e-02, -7.22690229e-01, -5.88465716e-01,\n",
       "        -1.50389426e-01,  8.60415853e-01,  3.25550229e-01, -3.36307739e-01,\n",
       "         5.29566356e-01,  1.62922994e-01,  2.42177007e-01,  1.35943954e+00,\n",
       "         1.23127752e+00, -3.24177857e-01, -4.63251490e-02, -3.64701200e-01,\n",
       "        -5.61817809e-01, -3.93505836e-01, -5.22071456e-02, -4.58887845e-01,\n",
       "        -8.81442522e-01, -1.00833528e-01, -1.31433004e-01,  4.36678046e-01,\n",
       "         1.14033602e+00, -1.09126119e+00, -4.16295333e-01, -2.37942872e-01,\n",
       "         4.62850325e-01, -6.18838490e-01,  3.67826889e-01,  5.69136353e-02,\n",
       "        -4.49519710e-01, -4.98077756e-01,  1.06942794e+00, -2.92412880e-01,\n",
       "        -3.11065949e-01, -2.16357427e-01, -4.71852562e-01, -3.04963688e-01,\n",
       "         3.56063054e-01, -8.27063606e-01,  1.15056664e-02,  8.38764161e-01,\n",
       "        -2.82564790e-01, -8.38157324e-02, -4.98090632e-01, -6.13771571e-01,\n",
       "        -7.86998658e-01, -3.60025081e-01, -2.80591047e-01, -2.22806533e-01,\n",
       "         2.00283428e+00, -2.16306426e-01, -8.07907442e-01, -8.03467112e-01,\n",
       "         3.86936408e-01,  6.87788939e-01,  1.36271930e+00, -6.69343515e-01,\n",
       "        -1.16680683e+00,  2.82740331e-01, -7.23672484e-02,  6.71423382e-01,\n",
       "         3.88848588e-01, -1.35130228e-01, -1.46071906e-01,  5.77029364e-01,\n",
       "         3.11674469e-01, -6.43412163e-01, -3.81705796e-01, -9.31967891e-01,\n",
       "         3.95308024e-01, -6.50629249e-01, -1.38356649e+00, -8.36570055e-02,\n",
       "         4.58958465e-01,  7.65072051e-01,  5.65532241e-01,  1.03937854e-02,\n",
       "        -4.28573179e-01,  2.89948160e-01,  2.93281934e-01, -2.21556263e-01,\n",
       "         1.02387282e-01,  1.35008085e+00,  4.69221673e-01,  1.36159576e+00,\n",
       "         4.12256342e-01,  1.05873145e-01, -5.10567672e-01, -1.18749798e+00,\n",
       "        -2.77417232e-01,  6.38431451e-01, -3.45319511e-01,  1.82589511e-01,\n",
       "        -1.72885032e-01, -7.75177395e-01,  5.18713154e-01, -5.89788436e-01,\n",
       "         2.31188010e-01,  3.94537733e-02, -6.43206691e-01,  4.67485912e-01,\n",
       "        -2.37228616e-03,  2.76571205e-01, -5.56592436e-01, -6.70428379e-01,\n",
       "         2.85564341e-01,  1.01957481e+00, -3.30453712e-01, -8.57804992e-01,\n",
       "         1.02274533e-01,  3.41267815e-01,  3.17075129e-01,  1.23281690e-01,\n",
       "        -1.63112764e-01, -3.96857845e-01, -2.34058673e+00, -2.38448501e-01,\n",
       "         3.83482273e-01, -4.75429319e-02, -9.00191094e-01, -1.70453215e-01,\n",
       "         3.78339724e-01, -1.19060340e-01, -5.95533913e-01,  5.07263657e-01,\n",
       "         1.46805500e-01,  1.23014876e-02, -3.86792816e-01, -4.99599990e-02,\n",
       "         2.40303401e-01, -5.00292866e-01,  9.82269110e-02,  6.11607496e-01,\n",
       "         2.73293539e-01,  2.14795945e-01, -5.01154306e-02,  1.05823918e+00,\n",
       "        -1.47567084e-03, -5.98586559e-01, -8.67626803e-02, -2.78313586e-01,\n",
       "        -4.64315611e-01,  1.37906052e-02, -2.00278474e-01, -2.72016635e-01,\n",
       "        -6.29749349e-01,  8.39931394e-02,  2.47488103e-01, -2.64609682e-01,\n",
       "        -2.80819379e-01,  2.49812146e-01,  4.88367562e-01, -1.53372586e-01,\n",
       "        -5.86780849e-01,  6.16222026e-01, -2.93038022e-01,  7.38461993e-02,\n",
       "         4.75991263e-01,  1.85479077e+00, -4.26600264e-01, -1.20235319e+00,\n",
       "         7.92717777e-01, -5.80333641e-01, -2.35566938e-01,  1.10181528e-01,\n",
       "        -3.65843163e-01, -2.28944298e-01, -2.98918855e-01,  2.41696873e-01,\n",
       "        -8.09674117e-02, -6.05467107e-01, -3.87057473e-01, -4.54098767e-02,\n",
       "        -9.80555555e-02, -1.52181163e-01,  2.21050846e-01,  1.18207319e-01,\n",
       "        -2.02815072e-01,  3.87422674e-01,  2.67196738e-01,  1.26704976e+00,\n",
       "        -1.03553922e-01,  2.09678721e+00, -5.97579047e-01, -3.42902184e-01,\n",
       "         5.26195767e-01, -2.93464426e-01, -4.17810958e-01,  3.18140529e-01,\n",
       "        -1.28537809e-01,  5.11657839e-01,  1.01025319e-01, -5.58582748e-02,\n",
       "        -8.67326132e-01, -3.11188849e-01,  1.63092476e-01,  2.26127393e-01,\n",
       "        -5.45831190e-01,  7.38782673e-03, -1.20262495e-01, -2.79913119e-01,\n",
       "         3.58028977e-01,  2.96048648e-02,  5.02173725e-01, -7.54537348e-01,\n",
       "         8.60797877e-01, -7.49433168e-01,  1.56287477e-01, -8.69679057e-02,\n",
       "        -4.13962736e-01,  6.23274874e-01, -7.61684284e-01, -4.02442305e-01,\n",
       "        -2.00659500e-01, -3.63381989e-01,  8.57244244e-02, -5.00162792e-01,\n",
       "         2.18165753e-01,  1.97958664e-02,  1.28585140e-01,  2.90820953e-01,\n",
       "         3.07304563e-01,  2.56238350e+00, -2.79592114e-01, -5.65156249e-01,\n",
       "        -1.01293879e-01, -7.31133358e-01, -3.83119544e-01, -4.72326252e-02,\n",
       "         9.06508413e-01,  1.83932400e+00,  2.02308723e+00,  9.87898932e-02,\n",
       "        -1.13853796e+00, -4.18769704e-01,  3.00198939e-01,  9.37875801e-01,\n",
       "         1.73872631e+00, -1.30244040e-01, -1.45597784e+00,  2.57395716e-02,\n",
       "        -3.69919915e-01, -1.32770333e+00,  8.50257002e-02,  3.35740898e-01,\n",
       "         5.98251495e-01,  3.77707506e-01,  7.33316120e-01, -1.76280855e-01,\n",
       "         7.14220739e-01, -5.94451531e-01,  3.22107064e-01, -1.09996896e-01,\n",
       "         6.57819202e-02, -8.80337214e-02, -5.23639354e-01, -2.04532165e-01,\n",
       "        -1.65073065e-01, -2.70759807e-01, -1.58564808e-01,  4.18851738e-01,\n",
       "         5.29940879e-01,  8.32021628e-01, -8.71279164e-02, -6.09848706e-01,\n",
       "         2.21796798e-02,  4.75238915e-01, -5.50661287e-01, -2.55810322e-01,\n",
       "        -1.97068217e-01, -5.87614195e-01]))"
      ]
     },
     "execution_count": 28,
     "metadata": {},
     "output_type": "execute_result"
    }
   ],
   "source": [
    "from scipy.linalg import lstsq\n",
    "import matplotlib.pyplot as plt\n",
    "import numpy as np\n",
    "M1 = np.column_stack((np.ones(eqDepth.shape), eqDepth))\n",
    "#M1 = eqDepth[:, np.newaxis]^[0, 1]\n",
    "# b, res, rnk, s = lstsq(M1, eqMagnitude)\n",
    "# plt.plot(eqDepth, eqMagnitude, 'o', label='data')\n",
    "\n",
    "# xx = np.linspace(0.0, 550, 101)\n",
    "# yy = b[0] + b[1]*xx \n",
    "# plt.plot(xx, yy, label='least squares fit')\n",
    "# plt.xlabel('Earthquake Depth (X)')\n",
    "# plt.ylabel('Earthquake Magnitude (Y)')\n",
    "# plt.legend(framealpha=1, shadow=True)\n",
    "# plt.grid(alpha=0.25)\n",
    "# plt.text(3, 8.5, r'$\\widehat{r}(x) = \\widehat{\\beta}_0 + \\widehat{\\beta}_1 x, \\quad \\\n",
    "# \\widehat{\\beta}_0 = $ %(b0)0.3f , $\\widehat{\\beta}_1 = $ %(b1)0.3f' % {'b0': b[0], 'b1': b[1]} )\n",
    "# plt.show()\n",
    "# Re-performing the linear least squares fitting\n",
    "b, res, rnk, s = lstsq(M1, eqMagnitude)\n",
    "\n",
    "# Re-plotting the data and the fit\n",
    "plt.figure(figsize=(10, 6))\n",
    "plt.plot(eqDepth, eqMagnitude, 'o', label='Data')\n",
    "xx = np.linspace(min(eqDepth), max(eqDepth), 101)\n",
    "yy = b[0] + b[1] * xx\n",
    "plt.plot(xx, yy, label='Least Squares Fit')\n",
    "plt.xlabel('Earthquake Depth (X)')\n",
    "plt.ylabel('Earthquake Magnitude (Y)')\n",
    "plt.legend(framealpha=1, shadow=True)\n",
    "plt.grid(alpha=0.25)\n",
    "plt.title('Earthquake Depth vs Magnitude')\n",
    "plt.text(min(eqDepth), max(eqMagnitude), r'$\\widehat{r}(x) = \\widehat{\\beta}_0 + \\widehat{\\beta}_1 x, \\quad \\widehat{\\beta}_0 = $' + f'{b[0]:0.3f}' + r', $\\widehat{\\beta}_1 = $' + f'{b[1]:0.3f}')\n",
    "plt.show()\n",
    "\n",
    "# Calculating residuals for the residual plot\n",
    "residuals = eqMagnitude - (b[0] + b[1] * eqDepth)\n",
    "b, residuals"
   ]
  },
  {
   "cell_type": "markdown",
   "metadata": {
    "deletable": false,
    "lx_assignment_number": "0",
    "lx_assignment_type": "EXAM",
    "lx_assignment_type2print": "Exam",
    "lx_problem_cell_type": "PROBLEM",
    "lx_problem_number": "3",
    "lx_problem_points": "3"
   },
   "source": [
    "\n",
    "### Part 1. Do a residual analysis by creating a cell below \n",
    "\n",
    "You should make a plot of the residuals from the fitted model above and explain your findings between the two `---` lines in this cell.\n",
    "\n",
    "---\n",
    "\n",
    "Write your answers here...\n",
    "\n",
    "---\n",
    "\n",
    "## Earthquake Depth and Magnitude Data Analysis\n",
    "\n",
    "After performing linear least squares fitting on the data of earthquake depth and magnitude, we obtained the following results:\n",
    "\n",
    "- The estimated coefficients are \\(\\widehat{\\beta}_0 = 2.045\\) and \\(\\widehat{\\beta}_1 = 0.0033\\).\n",
    "\n",
    "### Residual Plot Analysis\n",
    "\n",
    "The residual plot shows the difference between the observed magnitudes and those predicted by the linear model at each earthquake depth.\n",
    "\n",
    "#### Interpretation of the Residual Plot:\n",
    "- **Scatter of Residuals**: Ideally, the residuals should be randomly distributed around the horizontal line at 0, indicating a good fit. Any systematic patterns in the residuals suggest a potential issue with the model, such as non-linearity or heteroscedasticity.\n",
    "- **Values Far from the X-Axis**: Residuals farthest from the x-axis (both above and below) represent data points where the model's predictions are most inaccurate. A large positive residual indicates that the actual magnitude was significantly higher than the model's prediction, whereas a large negative residual indicates that the actual magnitude was much lower than predicted.\n",
    "\n",
    "### Wald Test for \\(\\beta_1=0\\)\n",
    "\n",
    "A Wald test was conducted with an alpha of 5% to test the null hypothesis that \\(\\beta_1=0\\). The calculated Wald statistic is approximately \\(4.84\\), which is greater than the critical value of approximately \\(1.96\\) for a significance level of 5%.\n",
    "\n",
    "#### Conclusion:\n",
    "Since the Wald statistic exceeds the critical value, we reject the null hypothesis that \\(\\beta_1=0\\). This suggests that there is a statistically significant linear relationship between earthquake depth and magnitude at the 5% significance level. In the context of this analysis, the Boolean variable `RejectNullHypothesisForProblem4` is set to `True`, indicating that the null hypothesis is rejected.\n"
   ]
  },
  {
   "cell_type": "markdown",
   "metadata": {},
   "source": [
    "## 地震深度与震级数据分析\n",
    "\n",
    "在对地震深度与震级的数据进行线性最小二乘拟合后，我们得到了以下结果：\n",
    "\n",
    "- 估计的系数为 \\(\\widehat{\\beta}_0 = 2.045\\) 和 \\(\\widehat{\\beta}_1 = 0.0033\\)。\n",
    "\n",
    "### 残差图分析\n",
    "\n",
    "残差图显示了模型在每个地震深度处的预测与观测震级之间的差异。\n",
    "\n",
    "#### 残差图的解释：\n",
    "- **残差的散布情况**：理想情况下，残差应该围绕在0的水平线周围随机分布，这表明拟合效果良好。残差中的任何系统性模式都表明模型可能存在问题，比如非线性或异方差性。\n",
    "- **远离X轴的值**：最远离x轴的残差（无论是上方还是下方）表示模型预测最不准确的数据点。正的大残差表明实际震级显著高于模型的预测，而负的大残差表明实际震级远低于预测值。\n",
    "\n",
    "### 对 \\(\\beta_1=0\\) 的 Wald 检验\n",
    "\n",
    "进行了Wald检验，以5%的显著性水平测试 \\(\\beta_1=0\\) 的零假设。计算得出的Wald统计量约为 \\(4.84\\)，高于5%显著性水平下的临界值约 \\(1.96\\)。\n",
    "\n",
    "#### 结论：\n",
    "由于Wald统计量超过了临界值，我们拒绝零假设 \\(\\beta_1=0\\)。这表明在5%的显著性水平下，地震深度与震级之间存在统计学上的显著线性关系。在这项分析的背景下，布尔变量 `RejectNullHypothesisForProblem4` 被设定为 `True`，表示拒绝了零假设。\n"
   ]
  },
  {
   "cell_type": "code",
   "execution_count": 30,
   "metadata": {
    "deletable": false,
    "lx_assignment_number": "0",
    "lx_assignment_type": "EXAM",
    "lx_assignment_type2print": "Exam",
    "lx_problem_cell_type": "PROBLEM",
    "lx_problem_number": "3",
    "lx_problem_points": "2"
   },
   "outputs": [
    {
     "name": "stdout",
     "output_type": "stream",
     "text": [
      "4.841645839295847 1.959963984540054 True\n"
     ]
    }
   ],
   "source": [
    "### Part 2. Do a Wald Test of H0: beta_1 = 0\n",
    "\n",
    "# show your working here\n",
    "from scipy.stats import norm\n",
    "\n",
    "# Wald Test\n",
    "alpha = 0.05  # Significance level\n",
    "\n",
    "# Standard error of beta_1 (from least squares regression)\n",
    "se_beta_1 = np.sqrt(res / (len(eqDepth) - 2)) / np.sqrt(np.sum((eqDepth - np.mean(eqDepth))**2))\n",
    "\n",
    "# Wald statistic\n",
    "W = b[1] / se_beta_1\n",
    "\n",
    "# Critical value from standard normal distribution for alpha = 0.05\n",
    "critical_value = norm.ppf(1 - alpha / 2)\n",
    "\n",
    "# Conclusion\n",
    "RejectNullHypothesisForProblem4 = abs(W) > critical_value\n",
    "\n",
    "print(W, critical_value, RejectNullHypothesisForProblem4)\n",
    "\n",
    "# write down your conclusion by replacing XXX in next line\n",
    "# You will not get points for randomly guessing True/False\n",
    "RejectNullHypothesisForProblem4 = RejectNullHypothesisForProblem4"
   ]
  },
  {
   "cell_type": "markdown",
   "metadata": {
    "deletable": false,
    "lx_assignment_number": "0",
    "lx_assignment_type": "EXAM",
    "lx_assignment_type2print": "Exam",
    "lx_problem_cell_type": "PROBLEM",
    "lx_problem_number": "4",
    "lx_problem_points": "5"
   },
   "source": [
    "---\n",
    "## PROBLEM 4\n",
    "Maximum Points = 5"
   ]
  },
  {
   "cell_type": "markdown",
   "metadata": {
    "deletable": false,
    "lx_assignment_number": "0",
    "lx_assignment_type": "EXAM",
    "lx_assignment_type2print": "Exam",
    "lx_problem_cell_type": "PROBLEM",
    "lx_problem_number": "4",
    "lx_problem_points": "5"
   },
   "source": [
    "1. Take the string `prideAndPrejudiceFirstChapter` and split it by `' '` into a list of \"words\" and put this in `words`.\n",
    "2. Consider the list of words as a list of states, precisely as in the `wet` - `dry` Markov chain that we studied. We model this list of states using a Markov chain, as such there is an associated transition matrix $P$. The first four words are `['it', 'is', 'a', 'truth']`, if we think of this as a Markov chain  we will have transitions from `'it'` to `'is'` for instance, as such there is a $p_{\\textrm{'it','is'}}$, i.e. a transition probability from `'it'` to `'is'`.\n",
    "3. Your goal is to find the maximum likelihood estimate of $P$, recall from notebook 13 that for two states we have\n",
    "$$\n",
    "    \\widehat{p}_{0,0} = \\frac{n_{0,0}}{n_{0,0}+n_{0,1}} \n",
    "    \\quad \\text{and} \\quad \n",
    "    \\widehat{p}_{1,1} = \\frac{n_{1,1}}{n_{1,0}+n_{1,1}}\n",
    "$$ \n",
    "there is nothing special about two states, so for arbitrary number of states $i=1,\\ldots,N$ we have\n",
    "$$\n",
    "    \\widehat{p}_{i,j} = \\frac{n_{i,j}}{\\sum_{k=1}^N n_{i,k}} \n",
    "$$\n",
    "4. The order of the indices should be the same as the list `unique_words` i.e. the first word in that list corresponds to $i=0$, the second $i=1$ etc."
   ]
  },
  {
   "cell_type": "code",
   "execution_count": 2,
   "metadata": {
    "deletable": false,
    "lx_assignment_number": "0",
    "lx_assignment_type": "EXAM",
    "lx_assignment_type2print": "Exam",
    "lx_problem_cell_type": "PROBLEM",
    "lx_problem_number": "4",
    "lx_problem_points": "5"
   },
   "outputs": [],
   "source": [
    "# REQUIRED-CELL\n",
    "# DO NOT MODIFY this cell\n",
    "# Evaluate this cell before trying this PROBLEM so that the required functions and variables are loaded\n",
    "def makeFreqDict(myDataList):\n",
    "    '''Make a frequency mapping out of a list of data.\n",
    "    \n",
    "    Param myDataList, a list of data.\n",
    "    Return a dictionary mapping each unique data value to its frequency count.'''\n",
    "       \n",
    "    freqDict = {} # start with an empty dictionary\n",
    "        \n",
    "    for res in myDataList:\n",
    "        \n",
    "        if res in freqDict: # the data value already exists as a key\n",
    "                freqDict[res] = freqDict[res] + 1 # add 1 to the count using sage integers\n",
    "        else: # the data value does not exist as a key value\n",
    "            freqDict[res] = 1 # add a new key-value pair for this new data value, frequency 1\n",
    "        \n",
    "    return freqDict # return the dictionary created\n",
    "\n",
    "# end of makeFreqDict(...)\n",
    "\n",
    "prideAndPrejudiceFirstChapter = '''It is a truth universally acknowledged, that a single man in\n",
    "      possession of a good fortune, must be in want of a wife.\n",
    "\n",
    "      However little known the feelings or views of such a man may be\n",
    "      on his first entering a neighbourhood, this truth is so well\n",
    "      fixed in the minds of the surrounding families, that he is\n",
    "      considered the rightful property of some one or other of their\n",
    "      daughters.\n",
    "\n",
    "      “My dear Mr. Bennet,” said his lady to him one day, “have you\n",
    "      heard that Netherfield Park is let at last?”\n",
    "\n",
    "      Mr. Bennet replied that he had not.\n",
    "\n",
    "      “But it is,” returned she; “for Mrs. Long has just been here, and\n",
    "      she told me all about it.”\n",
    "\n",
    "      Mr. Bennet made no answer.\n",
    "\n",
    "      “Do you not want to know who has taken it?” cried his wife\n",
    "      impatiently.\n",
    "\n",
    "      “_You_ want to tell me, and I have no objection to hearing it.”\n",
    "\n",
    "      This was invitation enough.\n",
    "\n",
    "      “Why, my dear, you must know, Mrs. Long says that Netherfield is\n",
    "      taken by a young man of large fortune from the north of England;\n",
    "      that he came down on Monday in a chaise and four to see the\n",
    "      place, and was so much delighted with it, that he agreed with Mr.\n",
    "      Morris immediately; that he is to take possession before\n",
    "      Michaelmas, and some of his servants are to be in the house by\n",
    "      the end of next week.”\n",
    "\n",
    "      “What is his name?”\n",
    "\n",
    "      “Bingley.”\n",
    "\n",
    "      “Is he married or single?”\n",
    "\n",
    "      “Oh! Single, my dear, to be sure! A single man of large fortune;\n",
    "      four or five thousand a year. What a fine thing for our girls!”\n",
    "\n",
    "      “How so? How can it affect them?”\n",
    "\n",
    "      “My dear Mr. Bennet,” replied his wife, “how can you be so\n",
    "      tiresome! You must know that I am thinking of his marrying one of\n",
    "      them.”\n",
    "\n",
    "      “Is that his design in settling here?”\n",
    "\n",
    "      “Design! Nonsense, how can you talk so! But it is very likely\n",
    "      that he _may_ fall in love with one of them, and therefore you\n",
    "      must visit him as soon as he comes.”\n",
    "\n",
    "      “I see no occasion for that. You and the girls may go, or you may\n",
    "      send them by themselves, which perhaps will be still better, for\n",
    "      as you are as handsome as any of them, Mr. Bingley may like you\n",
    "      the best of the party.”\n",
    "\n",
    "      “My dear, you flatter me. I certainly _have_ had my share of\n",
    "      beauty, but I do not pretend to be anything extraordinary now.\n",
    "      When a woman has five grown-up daughters, she ought to give over\n",
    "      thinking of her own beauty.”\n",
    "\n",
    "      “In such cases, a woman has not often much beauty to think of.”\n",
    "\n",
    "      “But, my dear, you must indeed go and see Mr. Bingley when he\n",
    "      comes into the neighbourhood.”\n",
    "\n",
    "      “It is more than I engage for, I assure you.”\n",
    "\n",
    "      “But consider your daughters. Only think what an establishment it\n",
    "      would be for one of them. Sir William and Lady Lucas are\n",
    "      determined to go, merely on that account, for in general, you\n",
    "      know, they visit no newcomers. Indeed you must go, for it will be\n",
    "      impossible for _us_ to visit him if you do not.”\n",
    "\n",
    "      “You are over-scrupulous, surely. I dare say Mr. Bingley will be\n",
    "      very glad to see you; and I will send a few lines by you to\n",
    "      assure him of my hearty consent to his marrying whichever he\n",
    "      chooses of the girls; though I must throw in a good word for my\n",
    "      little Lizzy.”\n",
    "\n",
    "      “I desire you will do no such thing. Lizzy is not a bit better\n",
    "      than the others; and I am sure she is not half so handsome as\n",
    "      Jane, nor half so good-humoured as Lydia. But you are always\n",
    "      giving _her_ the preference.”\n",
    "\n",
    "      “They have none of them much to recommend them,” replied he;\n",
    "      “they are all silly and ignorant like other girls; but Lizzy has\n",
    "      something more of quickness than her sisters.”\n",
    "\n",
    "      “Mr. Bennet, how can you abuse your own children in such a way?\n",
    "      You take delight in vexing me. You have no compassion for my poor\n",
    "      nerves.”\n",
    "\n",
    "      “You mistake me, my dear. I have a high respect for your nerves.\n",
    "      They are my old friends. I have heard you mention them with\n",
    "      consideration these last twenty years at least.”\n",
    "\n",
    "      “Ah, you do not know what I suffer.”\n",
    "\n",
    "      “But I hope you will get over it, and live to see many young men\n",
    "      of four thousand a year come into the neighbourhood.”\n",
    "\n",
    "      “It will be no use to us, if twenty such should come, since you\n",
    "      will not visit them.”\n",
    "\n",
    "      “Depend upon it, my dear, that when there are twenty, I will\n",
    "      visit them all.”\n",
    "\n",
    "      Mr. Bennet was so odd a mixture of quick parts, sarcastic humour,\n",
    "      reserve, and caprice, that the experience of three-and-twenty\n",
    "      years had been insufficient to make his wife understand his\n",
    "      character. _Her_ mind was less difficult to develop. She was a\n",
    "      woman of mean understanding, little information, and uncertain\n",
    "      temper. When she was discontented, she fancied herself nervous.\n",
    "      The business of her life was to get her daughters married; its\n",
    "      solace was visiting and news.'''.lower()\n",
    "\n",
    "import re\n",
    "subs = '''_;.,”“?!'''\n",
    "for sub in subs:\n",
    "    prideAndPrejudiceFirstChapter = prideAndPrejudiceFirstChapter.replace(sub,' ')\n",
    "prideAndPrejudiceFirstChapter = re.sub('\\\\s+', ' ',prideAndPrejudiceFirstChapter).strip()"
   ]
  },
  {
   "cell_type": "code",
   "execution_count": 3,
   "metadata": {
    "deletable": false,
    "lx_assignment_number": "0",
    "lx_assignment_type": "EXAM",
    "lx_assignment_type2print": "Exam",
    "lx_problem_cell_type": "PROBLEM",
    "lx_problem_number": "4",
    "lx_problem_points": "5"
   },
   "outputs": [],
   "source": [
    "# Part 1, find the words by splitting prideAndPrejudiceFirstChapter on ' ',\n",
    "# Make sure you ran the cell above before you try this\n",
    "words = prideAndPrejudiceFirstChapter.split(' ')\n",
    "unique_words = sorted(set(words)) # The unique words\n",
    "n_words = len(unique_words) # The number of unique words"
   ]
  },
  {
   "cell_type": "code",
   "execution_count": 4,
   "metadata": {
    "deletable": false,
    "lx_assignment_number": "0",
    "lx_assignment_type": "EXAM",
    "lx_assignment_type2print": "Exam",
    "lx_problem_cell_type": "PROBLEM",
    "lx_problem_number": "4",
    "lx_problem_points": "5"
   },
   "outputs": [
    {
     "data": {
      "text/plain": [
       "([(('it', 'is'), 4),\n",
       "  (('is', 'a'), 1),\n",
       "  (('a', 'truth'), 1),\n",
       "  (('truth', 'universally'), 1),\n",
       "  (('universally', 'acknowledged'), 1)],\n",
       " [(0, 'a'), (1, 'about'), (2, 'abuse'), (3, 'account'), (4, 'acknowledged')],\n",
       " [('a', 0), ('about', 1), ('abuse', 2), ('account', 3), ('acknowledged', 4)])"
      ]
     },
     "execution_count": 4,
     "metadata": {},
     "output_type": "execute_result"
    }
   ],
   "source": [
    "# Part 2, count the different transitions\n",
    "# transitions = [(words[i], words[i + 1]) for i in range(len(words) - 1)] # A list containing tuples ex: ('it','is') of all transitions in the text\n",
    "# transition_counts = makeFreqDict(transitions) # A dictionary that counts the number of each transition \n",
    "# # ex: ('it','is'):4\n",
    "# indexToWord = {index: word for index, word in enumerate(unique_words)} # A dictionary that maps the n-1 number to the n:th unique_word,\n",
    "# # ex: 0:'a'\n",
    "# wordToIndex = {word: index for index, word in enumerate(unique_words)} # The inverse function of indexToWord, \n",
    "transitions = [(words[i], words[i+1]) for i in range(len(words)-1)]\n",
    "transition_counts = makeFreqDict(transitions)\n",
    "indexToWord = {i: word for i, word in enumerate(unique_words)}\n",
    "wordToIndex = {word: i for i, word in enumerate(unique_words)}\n",
    "# ex: 'a':0\n",
    "list(transition_counts.items())[:5], list(indexToWord.items())[:5], list(wordToIndex.items())[:5]"
   ]
  },
  {
   "cell_type": "code",
   "execution_count": 6,
   "metadata": {
    "deletable": false,
    "lx_assignment_number": "0",
    "lx_assignment_type": "EXAM",
    "lx_assignment_type2print": "Exam",
    "lx_problem_cell_type": "PROBLEM",
    "lx_problem_number": "4",
    "lx_problem_points": "5"
   },
   "outputs": [
    {
     "name": "stderr",
     "output_type": "stream",
     "text": [
      "/var/folders/hr/2t7hsj753qg3n1q7zbnr625m0000gn/T/ipykernel_24941/3430194348.py:35: RuntimeWarning: divide by zero encountered in divide\n",
      "  transition_matrix[i, :] /= transition_matrix[i, :].sum()\n",
      "/var/folders/hr/2t7hsj753qg3n1q7zbnr625m0000gn/T/ipykernel_24941/3430194348.py:35: RuntimeWarning: invalid value encountered in divide\n",
      "  transition_matrix[i, :] /= transition_matrix[i, :].sum()\n"
     ]
    },
    {
     "data": {
      "text/plain": [
       "(array([[0.        , 0.        , 0.        , ..., 0.        , 0.04761905,\n",
       "         0.        ],\n",
       "        [0.        , 0.        , 0.        , ..., 0.        , 0.        ,\n",
       "         0.        ],\n",
       "        [0.        , 0.        , 0.        , ..., 0.        , 0.        ,\n",
       "         1.        ],\n",
       "        ...,\n",
       "        [0.        , 0.        , 0.03225806, ..., 0.        , 0.        ,\n",
       "         0.        ],\n",
       "        [0.        , 0.        , 0.        , ..., 0.        , 0.        ,\n",
       "         0.        ],\n",
       "        [0.        , 0.        , 0.        , ..., 0.        , 0.        ,\n",
       "         0.        ]]),\n",
       " 129,\n",
       " 0.2857142857142857)"
      ]
     },
     "execution_count": 6,
     "metadata": {},
     "output_type": "execute_result"
    }
   ],
   "source": [
    "# Part 3, finding the maximum likelihood estimate of the transition matrix\n",
    "# import numpy as np\n",
    "\n",
    "# #transition_matrix = XXX # a numpy array of size (n_words,n_words)\n",
    "# # Create a dictionary to map unique words to indices\n",
    "# word_to_index = {word: index for index, word in enumerate(unique_words)}\n",
    "\n",
    "# # Initialize the transition matrix with zeros\n",
    "# transition_matrix = np.zeros((n_words, n_words))\n",
    "\n",
    "# # Populate the transition matrix\n",
    "# for i in range(len(words) - 1):\n",
    "#     current_word = words[i]\n",
    "#     next_word = words[i + 1]\n",
    "#     current_index = word_to_index[current_word]\n",
    "#     next_index = word_to_index[next_word]\n",
    "#     transition_matrix[current_index, next_index] += 1\n",
    "\n",
    "# # Convert counts to probabilities\n",
    "# for i in range(n_words):\n",
    "#     row_sum = np.sum(transition_matrix[i, :])\n",
    "#     if row_sum > 0:\n",
    "#         transition_matrix[i, :] /= row_sum\n",
    "\n",
    "# # Displaying a portion of the transition matrix\n",
    "# transition_matrix[:5, :5]  # Showing a small part of the matrix for brevity\n",
    "transition_matrix = np.zeros((n_words, n_words))\n",
    "for (word1, word2), count in transition_counts.items():\n",
    "   \n",
    "    i, j = wordToIndex[word1], wordToIndex[word2]\n",
    "    transition_matrix[i, j] = count\n",
    "\n",
    "# Normalize the rows of the transition matrix\n",
    "for i in range(n_words):\n",
    "    transition_matrix[i, :] /= transition_matrix[i, :].sum()\n",
    "    \n",
    "transition_matrix,wordToIndex['is'],transition_matrix[130,129]\n",
    "\n",
    "# The transition matrix should be ordered in such a way that\n",
    "# p_{'it','is'} = transition_matrix[wordToIndex['it'],wordToIndex['is']]\n",
    "\n",
    "# Make sure that the transition_matrix does not contain np.nan from division by zero for instance"
   ]
  },
  {
   "cell_type": "markdown",
   "metadata": {
    "deletable": false,
    "lx_assignment_number": "0",
    "lx_assignment_type": "EXAM",
    "lx_assignment_type2print": "Exam",
    "lx_problem_cell_type": "Test",
    "lx_problem_number": "4",
    "lx_problem_points": "5"
   },
   "source": [
    "---\n",
    "#### Local Test for PROBLEM 4\n",
    "Use the cell below to evaluate the feasibility of your answer."
   ]
  },
  {
   "cell_type": "code",
   "execution_count": 36,
   "metadata": {
    "deletable": false,
    "lx_assignment_number": "0",
    "lx_assignment_type": "EXAM",
    "lx_assignment_type2print": "Exam",
    "lx_problem_cell_type": "Test",
    "lx_problem_number": "4",
    "lx_problem_points": "5"
   },
   "outputs": [
    {
     "name": "stdout",
     "output_type": "stream",
     "text": [
      "a woman has not half so but lizzy is that netherfield park is very glad to go for i certainly have none of his lady to develop she told me i dare say mr bingley is his name bingley will be in such cases a woman of a man may fall in love with one or single man may be on that netherfield park is he comes into the party my old friends i am sure she fancied herself nervous the preference they are twenty such thing lizzy is very likely that he is let at last mr bingley when "
     ]
    }
   ],
   "source": [
    "# Once you have created all your functions, you can make a small test here to see\n",
    "# what would be generated from your model.\n",
    "\n",
    "start = np.zeros(shape=(n_words,1))\n",
    "start[0,0] = 1\n",
    "\n",
    "current_pos = start\n",
    "for i in range(100):\n",
    "    random_word_index = np.random.choice(range(n_words),p=current_pos.reshape(-1))\n",
    "    current_pos = np.zeros_like(start)\n",
    "    current_pos[random_word_index] = 1\n",
    "    print(indexToWord[random_word_index],end=' ')\n",
    "    current_pos = (current_pos.T@transition_matrix).T"
   ]
  },
  {
   "cell_type": "markdown",
   "metadata": {
    "deletable": false,
    "lx_assignment_number": "0",
    "lx_assignment_type": "EXAM",
    "lx_assignment_type2print": "Exam",
    "lx_problem_cell_type": "PROBLEM",
    "lx_problem_number": "5",
    "lx_problem_points": "5"
   },
   "source": [
    "---\n",
    "## PROBLEM 5\n",
    "Maximum Points = 5"
   ]
  },
  {
   "cell_type": "markdown",
   "metadata": {
    "deletable": false,
    "lx_assignment_number": "0",
    "lx_assignment_type": "EXAM",
    "lx_assignment_type2print": "Exam",
    "lx_problem_cell_type": "PROBLEM",
    "lx_problem_number": "5",
    "lx_problem_points": "5"
   },
   "source": [
    "\n",
    "1. [1p] Draw a uniform random point $X$ on the surface of the unit sphere in $\\mathbb{R}^d$. What is the variance of $X_1$ (the first coordinate)? Solve this using pen and paper, then fill in the answer below in `variance_x1_problem7`.\n",
    "2. [1p] How large must $\\epsilon$ be for $99\\%$ of the volume of a $d$-dimensional unit-radius ball to lie in the shell of $\\epsilon$-thickness at the surface of the ball?\n",
    "3. [3p] The volume of the unit ball is given by\n",
    "$$\n",
    "    V(d) = \\frac{2 \\pi^{\\frac{d}{2}}}{d \\Gamma(\\frac{d}{2})} = \\frac{ \\pi^{\\frac{d}{2}}}{ (\\frac{d}{2})!}\n",
    "$$\n",
    "What function of $d$ would the radius need to be for a ball or radius $r$ to have approximately constant volume as a function of $d$? Hint use Stirlings formula $n! \\approx (n/e)^n$."
   ]
  },
  {
   "cell_type": "code",
   "execution_count": 7,
   "metadata": {
    "deletable": false,
    "lx_assignment_number": "0",
    "lx_assignment_type": "EXAM",
    "lx_assignment_type2print": "Exam",
    "lx_problem_cell_type": "PROBLEM",
    "lx_problem_number": "5",
    "lx_problem_points": "1"
   },
   "outputs": [
    {
     "ename": "NameError",
     "evalue": "name 'var' is not defined",
     "output_type": "error",
     "traceback": [
      "\u001b[0;31m---------------------------------------------------------------------------\u001b[0m",
      "\u001b[0;31mNameError\u001b[0m                                 Traceback (most recent call last)",
      "Cell \u001b[0;32mIn[7], line 2\u001b[0m\n\u001b[1;32m      1\u001b[0m \u001b[38;5;66;03m# Part1, what is the value of the variance for problem 1\u001b[39;00m\n\u001b[0;32m----> 2\u001b[0m d \u001b[38;5;241m=\u001b[39m \u001b[43mvar\u001b[49m(\u001b[38;5;124m'\u001b[39m\u001b[38;5;124md\u001b[39m\u001b[38;5;124m'\u001b[39m)\n\u001b[1;32m      3\u001b[0m \u001b[38;5;66;03m# Use exact expression, use rationals and not 1.0\u001b[39;00m\n\u001b[1;32m      4\u001b[0m variance_x1_problem7 \u001b[38;5;241m=\u001b[39m \u001b[38;5;241m1\u001b[39m\u001b[38;5;241m/\u001b[39m(d)\n",
      "\u001b[0;31mNameError\u001b[0m: name 'var' is not defined"
     ]
    }
   ],
   "source": [
    "# Part1, what is the value of the variance for problem 1\n",
    "d = var('d')\n",
    "# Use exact expression, use rationals and not 1.0\n",
    "variance_x1_problem7 = 1/(d) # Fill this as a function of d (sagemath symbolic expression)"
   ]
  },
  {
   "cell_type": "code",
   "execution_count": 8,
   "metadata": {
    "deletable": false,
    "lx_assignment_number": "0",
    "lx_assignment_type": "EXAM",
    "lx_assignment_type2print": "Exam",
    "lx_problem_cell_type": "PROBLEM",
    "lx_problem_number": "5",
    "lx_problem_points": "1"
   },
   "outputs": [
    {
     "ename": "NameError",
     "evalue": "name 'var' is not defined",
     "output_type": "error",
     "traceback": [
      "\u001b[0;31m---------------------------------------------------------------------------\u001b[0m",
      "\u001b[0;31mNameError\u001b[0m                                 Traceback (most recent call last)",
      "Cell \u001b[0;32mIn[8], line 2\u001b[0m\n\u001b[1;32m      1\u001b[0m \u001b[38;5;66;03m# Part 2, what is the value of epsilon for question 2\u001b[39;00m\n\u001b[0;32m----> 2\u001b[0m d \u001b[38;5;241m=\u001b[39m \u001b[43mvar\u001b[49m(\u001b[38;5;124m'\u001b[39m\u001b[38;5;124md\u001b[39m\u001b[38;5;124m'\u001b[39m)\n\u001b[1;32m      3\u001b[0m \u001b[38;5;66;03m# Use exact expression, use rationals and not 1.0\u001b[39;00m\n\u001b[1;32m      4\u001b[0m epsilon \u001b[38;5;241m=\u001b[39m solve((\u001b[38;5;241m1\u001b[39m\u001b[38;5;241m-\u001b[39m(\u001b[38;5;241m1\u001b[39m\u001b[38;5;241m-\u001b[39m(epsilon\u001b[38;5;241m^\u001b[39m\u001b[38;5;241m2\u001b[39m \u001b[38;5;241m/\u001b[39m \u001b[38;5;241m2\u001b[39m))\u001b[38;5;241m^\u001b[39md) \u001b[38;5;241m==\u001b[39m \u001b[38;5;241m0.01\u001b[39m,epsilon)\n",
      "\u001b[0;31mNameError\u001b[0m: name 'var' is not defined"
     ]
    }
   ],
   "source": [
    "# Part 2, what is the value of epsilon for question 2\n",
    "d = var('d')\n",
    "# Use exact expression, use rationals and not 1.0\n",
    "epsilon = solve((1-(1-(epsilon^2 / 2))^d) == 0.01,epsilon) # Fill this as a function of d (sagemath symbolic expression)"
   ]
  },
  {
   "cell_type": "code",
   "execution_count": 9,
   "metadata": {
    "deletable": false,
    "lx_assignment_number": "0",
    "lx_assignment_type": "EXAM",
    "lx_assignment_type2print": "Exam",
    "lx_problem_cell_type": "PROBLEM",
    "lx_problem_number": "5",
    "lx_problem_points": "3"
   },
   "outputs": [
    {
     "ename": "NameError",
     "evalue": "name 'var' is not defined",
     "output_type": "error",
     "traceback": [
      "\u001b[0;31m---------------------------------------------------------------------------\u001b[0m",
      "\u001b[0;31mNameError\u001b[0m                                 Traceback (most recent call last)",
      "Cell \u001b[0;32mIn[9], line 3\u001b[0m\n\u001b[1;32m      1\u001b[0m \u001b[38;5;28;01mimport\u001b[39;00m \u001b[38;5;21;01mmath\u001b[39;00m\n\u001b[1;32m      2\u001b[0m \u001b[38;5;66;03m# Part 3, what is the radius from problem 3\u001b[39;00m\n\u001b[0;32m----> 3\u001b[0m d \u001b[38;5;241m=\u001b[39m \u001b[43mvar\u001b[49m(\u001b[38;5;124m'\u001b[39m\u001b[38;5;124md\u001b[39m\u001b[38;5;124m'\u001b[39m)\n\u001b[1;32m      4\u001b[0m \u001b[38;5;66;03m# Use exact expression, use rationals and not 1.0.\u001b[39;00m\n\u001b[1;32m      5\u001b[0m r \u001b[38;5;241m=\u001b[39m solve(V \u001b[38;5;241m==\u001b[39m math\u001b[38;5;241m.\u001b[39mpi\u001b[38;5;241m^\u001b[39m(d\u001b[38;5;241m/\u001b[39m\u001b[38;5;241m2\u001b[39m)\u001b[38;5;241m/\u001b[39mgama(d\u001b[38;5;241m/\u001b[39m\u001b[38;5;241m2\u001b[39m\u001b[38;5;241m+\u001b[39m\u001b[38;5;241m1\u001b[39m),r)\n",
      "\u001b[0;31mNameError\u001b[0m: name 'var' is not defined"
     ]
    }
   ],
   "source": [
    "import math\n",
    "# Part 3, what is the radius from problem 3\n",
    "d = var('d')\n",
    "# Use exact expression, use rationals and not 1.0.\n",
    "r = solve(V == math.pi^(d/2)/gama(d/2+1),r)"
   ]
  },
  {
   "cell_type": "markdown",
   "metadata": {
    "deletable": false,
    "lx_assignment_number": "0",
    "lx_assignment_type": "EXAM",
    "lx_assignment_type2print": "Exam",
    "lx_problem_cell_type": "PROBLEM",
    "lx_problem_number": "6",
    "lx_problem_points": "5"
   },
   "source": [
    "---\n",
    "## PROBLEM 6\n",
    "Maximum Points = 5"
   ]
  },
  {
   "cell_type": "markdown",
   "metadata": {
    "deletable": false,
    "lx_assignment_number": "0",
    "lx_assignment_type": "EXAM",
    "lx_assignment_type2print": "Exam",
    "lx_problem_cell_type": "PROBLEM",
    "lx_problem_number": "6",
    "lx_problem_points": "5"
   },
   "source": [
    "\n",
    "Consider the data `X` and `y`, in the cell below. `X` denotes $20$ points in $\\mathbb{R}^2$ and `y` corresponds to the labels for these points, i.e. it is a classification problem.\n",
    "\n",
    "1. Implement the function `perceptron` by filling in `XXX`.\n",
    "2. Use your implemented `perceptron` function to compute a vector (numpy array) $\\hat w$ with shape `(3,1)` such that \n",
    "$$\n",
    "    (\\hat w \\cdot \\hat x_i) l_i > 0, \\quad \\forall i=1,\\ldots,20\n",
    "$$\n",
    "put your answer in `hat_w` below\n",
    "3. Use the vector $\\hat w$ that you just found and compute $r$ (put your result in `r`), finally use this to give an upper bound to the number of iterations needed for the perceptron algorithm to converge on this dataset, see the Theorem in notebook 15. Put the result in `iteration_bound`."
   ]
  },
  {
   "cell_type": "code",
   "execution_count": 39,
   "metadata": {
    "deletable": false,
    "lx_assignment_number": "0",
    "lx_assignment_type": "EXAM",
    "lx_assignment_type2print": "Exam",
    "lx_problem_cell_type": "PROBLEM",
    "lx_problem_number": "6",
    "lx_problem_points": "5"
   },
   "outputs": [],
   "source": [
    "\n",
    "X = np.array([[0.14774693918368506,0.8537253157278155],[-0.1755517430286779,0.8979710703337818],[0.5227216475286975,0.7448281947022451],[-0.5071170511153492,0.8002027400836075],[-0.39436968212400453,1.0177689414422981],[-0.3983065780966649,1.0443663197782966],[-0.08652771617599643,0.48036820824519255],[0.15352541170101042,0.6820807981911706],[-0.3303348532791869,1.120673883903539],[-0.2656220857139274,0.8526638282828739],[0.7259603693529442,0.25428467532034965],[0.4577253912481767,-0.2358809079980879],[0.9722462145222105,0.13128550836973255],[0.4089349951770505,-0.09503914544452634],[0.9718156747909192,0.3524307824261209],[1.2009353774940565,-0.25004126389987974],[1.271791635779178,-0.07571928320750206],[0.36784476124502913,-0.23743021661715671],[0.8918396050420891,-0.1029336332277948],[0.4501578013678095,-0.13188266835015783]])+np.array([10,0]).reshape(1,-1)\n",
    "y = np.array([1.0,1.0,1.0,1.0,1.0,1.0,1.0,1.0,1.0,1.0,-1.0,-1.0,-1.0,-1.0,-1.0,-1.0,-1.0,-1.0,-1.0,-1.0])"
   ]
  },
  {
   "cell_type": "code",
   "execution_count": 40,
   "metadata": {
    "deletable": false,
    "lx_assignment_number": "0",
    "lx_assignment_type": "EXAM",
    "lx_assignment_type2print": "Exam",
    "lx_problem_cell_type": "PROBLEM",
    "lx_problem_number": "6",
    "lx_problem_points": "3"
   },
   "outputs": [],
   "source": [
    "def perceptron(X_in, labels, max_iter=1000):\n",
    "    '''Runs the perceptron algorithm on X_in, labels, and does a maximum of max_iter iterations'''\n",
    "    # Adding the extra dimension with value 1 for the bias\n",
    "    X = np.c_[X_in, np.ones(X_in.shape[0])]\n",
    "    \n",
    "    # Initialize the weight vector w with zeros. Length is number of features + 1 (for bias)\n",
    "    w = np.zeros(X.shape[1])\n",
    "\n",
    "    for _ in range(max_iter):\n",
    "        for i in range(len(X)):\n",
    "            # Update the weight vector if a misclassification occurs\n",
    "            if (np.dot(w, X[i]) * labels[i]) <= 0:\n",
    "                w = w + labels[i] * X[i]\n",
    "    \n",
    "    return w  # w should have the shape (number of features + 1)\n",
    "\n",
    "hat_w = perceptron(X,y)"
   ]
  },
  {
   "cell_type": "code",
   "execution_count": 41,
   "metadata": {
    "deletable": false,
    "lx_assignment_number": "0",
    "lx_assignment_type": "EXAM",
    "lx_assignment_type2print": "Exam",
    "lx_problem_cell_type": "PROBLEM",
    "lx_problem_number": "6",
    "lx_problem_points": "2"
   },
   "outputs": [],
   "source": [
    "# Part 2\n",
    "# Recalculate r\n",
    "X_with_bias = np.c_[X, np.ones(X.shape[0])]\n",
    "r = np.max(np.linalg.norm(X_with_bias, axis=1))\n",
    "\n",
    "# Recalculate the iteration bound\n",
    "# Ensure all values inside the min function are positive\n",
    "positive_values = y * (np.dot(X_with_bias, hat_w))\n",
    "iteration_bound = r**2 * np.linalg.norm(hat_w)**2 / np.min(positive_values[positive_values > 0]**2)\n"
   ]
  },
  {
   "cell_type": "markdown",
   "metadata": {
    "deletable": false,
    "lx_assignment_number": "0",
    "lx_assignment_type": "EXAM",
    "lx_assignment_type2print": "Exam",
    "lx_problem_cell_type": "PROBLEM",
    "lx_problem_number": "7",
    "lx_problem_points": "5"
   },
   "source": [
    "---\n",
    "## PROBLEM 7\n",
    "Maximum Points = 5"
   ]
  },
  {
   "cell_type": "markdown",
   "metadata": {
    "deletable": false,
    "lx_assignment_number": "0",
    "lx_assignment_type": "EXAM",
    "lx_assignment_type2print": "Exam",
    "lx_problem_cell_type": "PROBLEM",
    "lx_problem_number": "7",
    "lx_problem_points": "5"
   },
   "source": [
    "\n",
    "Perform a bootstrap to find the plug-in estimate and 99% CI for the 95-th Percentile of the inter-EQ time in minutes.\n",
    "\n",
    "You just need to evaluate the next `REQUIRED-CELL` and replace `XXX` with the right expressions in the following cell.\n",
    "\n",
    "NOTE: If `data/earthquakes.csv` is not available and you get a file not found when evaluating the next `REQUIRED-CELL`, you can get the csv by `unzip` as follows:\n",
    "\n",
    "```\n",
    "%%sh\n",
    "cd data\n",
    "unzip earthquakes.csv.zip\n",
    "```"
   ]
  },
  {
   "cell_type": "code",
   "execution_count": 47,
   "metadata": {
    "deletable": false,
    "lx_assignment_number": "0",
    "lx_assignment_type": "EXAM",
    "lx_assignment_type2print": "Exam",
    "lx_problem_cell_type": "PROBLEM",
    "lx_problem_number": "7",
    "lx_problem_points": "5"
   },
   "outputs": [],
   "source": [
    "# REQUIRED-CELL\n",
    "# DO NOT MODIFY this cell \n",
    "# Evaluate this cell before trying this PROBLEM so that the required functions and variables are loaded\n",
    "\n",
    "import numpy as np\n",
    "import random\n",
    "## Be Patient! - This will take more time, about a minute or so\n",
    "###############################################################################################\n",
    "def getLonLatMagDepTimes(NZEQCsvFileName):\n",
    "    '''returns longitude, latitude, magnitude, depth and the origin time as unix time\n",
    "    for each observed earthquake in the csv filr named NZEQCsvFileName'''\n",
    "    from datetime import datetime\n",
    "    import time\n",
    "    from dateutil.parser import parse\n",
    "    import numpy as np\n",
    "    \n",
    "    with open(NZEQCsvFileName) as f:\n",
    "        reader = f.read() \n",
    "        dataList = reader.split('\\n')\n",
    "        \n",
    "    myDataAccumulatorList =[]\n",
    "    for data in dataList[1:-1]:\n",
    "        dataRow = data.split(',')\n",
    "        myTimeString = dataRow[2] # origintime\n",
    "        # let's also grab longitude, latitude, magnitude, depth\n",
    "        myDataString = [dataRow[4],dataRow[5],dataRow[6],dataRow[7]]\n",
    "        try: \n",
    "            myTypedTime = time.mktime(parse(myTimeString).timetuple())\n",
    "            myFloatData = [float(x) for x in myDataString]\n",
    "            myFloatData.append(myTypedTime) # append the processed timestamp\n",
    "            myDataAccumulatorList.append(myFloatData)\n",
    "        except TypeError as e: # error handling for type incompatibilities\n",
    "            print ('Error:  Error is ', e)\n",
    "    #return np.array(myDataAccumulatorList)\n",
    "    return myDataAccumulatorList\n",
    "\n",
    "myProcessedList = getLonLatMagDepTimes('data/earthquakes.csv')\n",
    "\n",
    "def interQuakeTimes(quakeTimes):\n",
    "    '''Return a list inter-earthquake times in seconds from earthquake origin times\n",
    "    Date and time elements are expected to be in the 5th column of the array\n",
    "    Return a list of inter-quake times in seconds. NEEDS sorted quakeTimes Data'''\n",
    "    import numpy as np\n",
    "    retList = []\n",
    "    if len(quakeTimes) > 1:\n",
    "        retList = [quakeTimes[i]-quakeTimes[i-1] for i in range(1,len(quakeTimes))]\n",
    "    #return np.array(retList)\n",
    "    return retList\n",
    "\n",
    "def makeBootstrappedConfidenceIntervalOfStatisticT(dataset, statT, alpha, B=100):\n",
    "    '''make a bootstrapped 1-alpha confidence interval for ANY given statistic statT \n",
    "    from the dataset with B Bootstrap replications for 0 < alpha < 1, and \n",
    "    return lower CI, upper CI, bootstrapped_samples '''\n",
    "    n = len(dataset) # sample size of the original dataset\n",
    "    bootstrappedStatisticTs=[] # list to store the statistic T from each bootstrapped data\n",
    "    for b in range(B):\n",
    "        #sample indices at random between 0 and len(iQMinutes)-1 to make the bootstrapped dataset\n",
    "        randIndices=[random.randint(0,n-1) for i in range(n)] \n",
    "        bootstrappedDataset = dataset[randIndices] # resample with replacement from original dataset\n",
    "        bootstrappedStatisticT = statT(bootstrappedDataset)\n",
    "        bootstrappedStatisticTs.append(bootstrappedStatisticT)\n",
    "    # noe get the [2.5%, 97.5%] percentile-based CI\n",
    "    alpaAsPercentage=alpha*100.0\n",
    "    lowerBootstrap1MinusAlphaCIForStatisticT = np.percentile(bootstrappedStatisticTs,alpaAsPercentage/2)\n",
    "    upperBootstrap1MinusAlphaCIForStatisticT = np.percentile(bootstrappedStatisticTs,100-alpaAsPercentage/2)\n",
    "    return (lowerBootstrap1MinusAlphaCIForStatisticT,upperBootstrap1MinusAlphaCIForStatisticT,\\\n",
    "            np.array(bootstrappedStatisticTs))\n",
    "\n",
    "interQuakesSecs = interQuakeTimes(sorted([x[4] for x in myProcessedList]))\n",
    "iQMinutes = np.array(interQuakesSecs)/60.0\n",
    "###############################################################################################"
   ]
  },
  {
   "cell_type": "code",
   "execution_count": 55,
   "metadata": {
    "deletable": false,
    "lx_assignment_number": "0",
    "lx_assignment_type": "EXAM",
    "lx_assignment_type2print": "Exam",
    "lx_problem_cell_type": "PROBLEM",
    "lx_problem_number": "7",
    "lx_problem_points": "5"
   },
   "outputs": [
    {
     "name": "stdout",
     "output_type": "stream",
     "text": [
      "The Plug-in Point Estimate of the 95th-Percentile of inter-EQ Times =  75.25499999999998\n",
      "1-alpha Bootstrapped CI for the 95th-Percentile of inter-EQ Times =  (73.22661666666664, 77.2335)\n",
      "         for alpha = 0.01 and bootstrap replicates = 1000\n"
     ]
    }
   ],
   "source": [
    "# replace XXX with the right expressions\n",
    "statT95thPercentile = lambda dataset : np.percentile(dataset, 95) #statistic of interest (dataset is an np.array)\n",
    "alpha= 0.01\n",
    "B=1000 # number of bootstrap samples, reduce this to 100 while debuging and back to 1000 when done\n",
    "# plug-in point estimate of the 75th-Percentile of inter-EQ Times\n",
    "plugInEstimateOf95thPercentile = statT95thPercentile(iQMinutes)\n",
    "# get the bootstrapped samples and build 1-alpha confidence interval\n",
    "# do NOT change anything below\n",
    "lowerCIT95P,upperCIT95P,bootValuesT95P = \\\n",
    "                      makeBootstrappedConfidenceIntervalOfStatisticT(iQMinutes, statT95thPercentile, alpha, B)\n",
    "print (\"The Plug-in Point Estimate of the 95th-Percentile of inter-EQ Times = \", plugInEstimateOf95thPercentile)\n",
    "print (\"1-alpha Bootstrapped CI for the 95th-Percentile of inter-EQ Times = \",(lowerCIT95P,upperCIT95P))\n",
    "#print (\"         for alpha = \",alpha.n(digits=2),\" and bootstrap replicates = \",B)\n",
    "print(\"         for alpha = {:.2f} and bootstrap replicates = {}\".format(alpha, B))"
   ]
  },
  {
   "cell_type": "markdown",
   "metadata": {
    "deletable": false,
    "lx_assignment_number": "0",
    "lx_assignment_type": "EXAM",
    "lx_assignment_type2print": "Exam",
    "lx_problem_cell_type": "PROBLEM",
    "lx_problem_number": "8",
    "lx_problem_points": "5"
   },
   "source": [
    "---\n",
    "## PROBLEM 8\n",
    "Maximum Points = 5"
   ]
  },
  {
   "cell_type": "markdown",
   "metadata": {
    "deletable": false,
    "lx_assignment_number": "0",
    "lx_assignment_type": "EXAM",
    "lx_assignment_type2print": "Exam",
    "lx_problem_cell_type": "PROBLEM",
    "lx_problem_number": "8",
    "lx_problem_points": "5"
   },
   "source": [
    "\n",
    "Consider $n$ IID samples from a continuous random variable with the following probability density function:\n",
    "$$\n",
    "f(x; \\beta) = \\frac{x}{\\beta^2} \\exp\\left(-\\frac{1}{2}(x/\\beta)^2\\right), \\qquad \\text{ where, } \\beta>0, x \\geq 0\n",
    "$$\n",
    "Use Bounded 1D Optimisation to find the maximum likelihood estimate for the IID experiment above using the dataset which is given in the numpy array `dataSamplesForProblem1` below. "
   ]
  },
  {
   "cell_type": "code",
   "execution_count": 11,
   "metadata": {
    "deletable": false,
    "lx_assignment_number": "0",
    "lx_assignment_type": "EXAM",
    "lx_assignment_type2print": "Exam",
    "lx_problem_cell_type": "PROBLEM",
    "lx_problem_number": "8",
    "lx_problem_points": "5"
   },
   "outputs": [
    {
     "data": {
      "text/plain": [
       " message: Solution found.\n",
       " success: True\n",
       "  status: 0\n",
       "     fun: 14.21387420188637\n",
       "       x: 2.0052422476918403\n",
       "     nit: 14\n",
       "    nfev: 14"
      ]
     },
     "execution_count": 11,
     "metadata": {},
     "output_type": "execute_result"
    }
   ],
   "source": [
    "import numpy as np\n",
    "from scipy import optimize\n",
    "\n",
    "dataSamples1 = np.array([2.30, 4.10, 3.60, 2.50, 3.20, 1.90, 2.60, 1.50, 2.80, 2.90])\n",
    "\n",
    "# finding MLE numerically for parameter beta - replace XXX by the right expression\n",
    "# do NOT change the function name `negLogLklOfIIDSamplesInProblem1or2`\n",
    "data = dataSamples1\n",
    "def negLogLklOfIID1(paramBeta,data):\n",
    "    '''negative log likelihood function for IID trials in Problem 1 or 2'''\n",
    "    if paramBeta <= 0:\n",
    "        return np.inf\n",
    "    return np.sum(np.log(paramBeta**2) + 0.5 * (data / paramBeta)**2 - np.log(data))\n",
    "\n",
    "# you should NOT change variable names - just replace XXX\n",
    "boundedResult1 = optimize.minimize_scalar(negLogLklOfIID1, args=(dataSamples1,), bounds=(0.01, 10), method='bounded')\n",
    "boundedResult1"
   ]
  },
  {
   "cell_type": "code",
   "execution_count": 12,
   "metadata": {},
   "outputs": [],
   "source": [
    "# finding MLE numerically for parameter beta\n",
    "def negLogLklOfIID1(paramBeta):\n",
    "    return -np.sum(np.log(dataSamples1/paramBeta**2) - 0.5*(dataSamples1/paramBeta)**2)\n",
    "\n",
    "boundedResult1 = optimize.minimize_scalar(negLogLklOfIID1, bounds=(1e-5, 1e5), method='bounded')"
   ]
  }
 ],
 "metadata": {
  "kernelspec": {
   "display_name": "deeplearning",
   "language": "python",
   "name": "python3"
  },
  "language_info": {
   "codemirror_mode": {
    "name": "ipython",
    "version": 3
   },
   "file_extension": ".py",
   "mimetype": "text/x-python",
   "name": "python",
   "nbconvert_exporter": "python",
   "pygments_lexer": "ipython3",
   "version": "3.10.13"
  },
  "lx_assignment_number": "[8,2,7,3,4,6,5,1]",
  "lx_course_instance": "2020",
  "lx_course_name": "Introduction to Data Science: A Comp-Math-Stat Approach",
  "lx_course_number": "1MS041"
 },
 "nbformat": 4,
 "nbformat_minor": 4
}
