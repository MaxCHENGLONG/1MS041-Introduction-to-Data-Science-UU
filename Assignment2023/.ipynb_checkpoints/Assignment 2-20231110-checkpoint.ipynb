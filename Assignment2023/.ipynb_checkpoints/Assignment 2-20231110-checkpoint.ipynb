{
 "cells": [
  {
   "cell_type": "markdown",
   "id": "2d135df0",
   "metadata": {
    "deletable": false
   },
   "source": [
    "# Assignment 2 for Course 1MS041\n",
    "Make         sure you pass the `# ... Test` cells and\n",
    " submit your solution notebook in the corresponding assignment on the course website. You can submit multiple times before the deadline         and your highest score will be used."
   ]
  },
  {
   "cell_type": "markdown",
   "id": "228dbe24",
   "metadata": {
    "deletable": false,
    "lx_assignment_number": "2",
    "lx_assignment_type": "ASSIGNMENT",
    "lx_assignment_type2print": "Assignment",
    "lx_problem_cell_type": "PROBLEM",
    "lx_problem_number": "1",
    "lx_problem_points": "8"
   },
   "source": [
    "---\n",
    "## Assignment 2, PROBLEM 1\n",
    "Maximum Points = 8"
   ]
  },
  {
   "cell_type": "markdown",
   "id": "ce7bdca7",
   "metadata": {
    "deletable": false,
    "lx_assignment_number": "2",
    "lx_assignment_type": "ASSIGNMENT",
    "lx_assignment_type2print": "Assignment",
    "lx_problem_cell_type": "PROBLEM",
    "lx_problem_number": "1",
    "lx_problem_points": "8"
   },
   "source": [
    "\n",
    "A courier company operates a fleet of delivery trucks that make deliveries to different parts of the city. The trucks are equipped with GPS tracking devices that record the location of each truck at regular intervals. The locations are divided into three regions: downtown, the suburbs, and the countryside. The following table shows the probabilities of a truck transitioning between these regions at each time step:\n",
    "\n",
    "| Current region | Probability of transitioning to downtown | Probability of transitioning to the suburbs | Probability of transitioning to the countryside |\n",
    "|----------------|--------------------------------------------|-----------------------------------------------|------------------------------------------------|\n",
    "| Downtown       | 0.3                                      | 0.4                                           | 0.3                                            |\n",
    "| Suburbs        | 0.2                                      | 0.5                                           | 0.3                                            |\n",
    "| Countryside    | 0.4                                      | 0.3                                           | 0.3                                            |\n",
    "\n",
    "1. If a truck is currently in the suburbs, what is the probability that it will be in the downtown region after two time steps? [1.5p]\n",
    "2. If a truck is currently in the suburbs, what is the probability that it will be in the downtown region **the first time** after two time steps? [1.5p]\n",
    "3. Is this Markov chain irreducible? [1.5p]\n",
    "4. What is the stationary distribution? [1.5p]\n",
    "5. Advanced question: What is the expected number of steps until the first time one enters the downtown region having started in the suburbs region. Hint: to get within 1 decimal point, it is enough to compute the probabilities for hitting times below 30. [2p]\n",
    "\n"
   ]
  },
  {
   "cell_type": "code",
   "execution_count": 1,
   "id": "42e3bd4c",
   "metadata": {
    "deletable": false,
    "execution": {
     "iopub.execute_input": "2023-11-09T07:06:12.024393Z",
     "iopub.status.busy": "2023-11-09T07:06:12.022887Z",
     "iopub.status.idle": "2023-11-09T07:06:12.047539Z",
     "shell.execute_reply": "2023-11-09T07:06:12.045554Z"
    },
    "lx_assignment_number": "2",
    "lx_assignment_type": "ASSIGNMENT",
    "lx_assignment_type2print": "Assignment",
    "lx_problem_cell_type": "PROBLEM",
    "lx_problem_number": "1",
    "lx_problem_points": "14"
   },
   "outputs": [],
   "source": [
    "# Part 1\n",
    "answerproblem1_p1 = 0.2 * 0.3 + 0.5 * 0.2 + 0.3 * 0.4\n",
    "# Fill in the answer to part 1 below as a decimal number\n",
    "problem1_p1 = answerproblem1_p1"
   ]
  },
  {
   "cell_type": "code",
   "execution_count": 2,
   "id": "2388fd1d",
   "metadata": {
    "deletable": false,
    "execution": {
     "iopub.execute_input": "2023-11-09T07:06:12.055122Z",
     "iopub.status.busy": "2023-11-09T07:06:12.054626Z",
     "iopub.status.idle": "2023-11-09T07:06:12.059763Z",
     "shell.execute_reply": "2023-11-09T07:06:12.058872Z"
    },
    "lx_assignment_number": "2",
    "lx_assignment_type": "ASSIGNMENT",
    "lx_assignment_type2print": "Assignment",
    "lx_problem_cell_type": "PROBLEM",
    "lx_problem_number": "1",
    "lx_problem_points": "14"
   },
   "outputs": [],
   "source": [
    "# Part 2\n",
    "answerproblem1_p2 = 0.5 * 0.2 + 0.3 * 0.4\n",
    "# Fill in the answer to part 2 below as a decimal number\n",
    "problem1_p2 = answerproblem1_p2"
   ]
  },
  {
   "cell_type": "code",
   "execution_count": 3,
   "id": "86dd7580",
   "metadata": {
    "deletable": false,
    "execution": {
     "iopub.execute_input": "2023-11-09T07:06:12.064138Z",
     "iopub.status.busy": "2023-11-09T07:06:12.063808Z",
     "iopub.status.idle": "2023-11-09T07:06:12.067547Z",
     "shell.execute_reply": "2023-11-09T07:06:12.066791Z"
    },
    "lx_assignment_number": "2",
    "lx_assignment_type": "ASSIGNMENT",
    "lx_assignment_type2print": "Assignment",
    "lx_problem_cell_type": "PROBLEM",
    "lx_problem_number": "1",
    "lx_problem_points": "14"
   },
   "outputs": [],
   "source": [
    "# Part 3\n",
    "\n",
    "# Fill in the answer to part 3 below as a boolean\n",
    "problem1_irreducible = True"
   ]
  },
  {
   "cell_type": "code",
   "execution_count": 4,
   "id": "ca87a3f3",
   "metadata": {
    "deletable": false,
    "execution": {
     "iopub.execute_input": "2023-11-09T07:06:12.071874Z",
     "iopub.status.busy": "2023-11-09T07:06:12.071317Z",
     "iopub.status.idle": "2023-11-09T07:06:12.220599Z",
     "shell.execute_reply": "2023-11-09T07:06:12.219770Z"
    },
    "lx_assignment_number": "2",
    "lx_assignment_type": "ASSIGNMENT",
    "lx_assignment_type2print": "Assignment",
    "lx_problem_cell_type": "PROBLEM",
    "lx_problem_number": "1",
    "lx_problem_points": "14"
   },
   "outputs": [],
   "source": [
    "# Part 4\n",
    "import numpy as np\n",
    "\n",
    "P = np.array([[0.3, 0.4, 0.3],\n",
    "              [0.2, 0.5, 0.3],\n",
    "              [0.4, 0.3, 0.3]])\n",
    "\n",
    "eigenvalues, eigenvectors = np.linalg.eig(P.T)  \n",
    "stationary_distribution = np.real(eigenvectors[:, 0] / eigenvectors[:, 0].sum()) \n",
    "answerproblem1_stationary = stationary_distribution\n",
    "\n",
    "# Fill in the answer to part 4 below\n",
    "# the answer should be a numpy array of length 3\n",
    "# make sure that the entries sums to 1!\n",
    "problem1_stationary = answerproblem1_stationary"
   ]
  },
  {
   "cell_type": "code",
   "execution_count": 5,
   "id": "5d2b5e67",
   "metadata": {
    "deletable": false,
    "execution": {
     "iopub.execute_input": "2023-11-09T07:06:12.225313Z",
     "iopub.status.busy": "2023-11-09T07:06:12.224864Z",
     "iopub.status.idle": "2023-11-09T07:06:12.233985Z",
     "shell.execute_reply": "2023-11-09T07:06:12.233097Z"
    },
    "lx_assignment_number": "2",
    "lx_assignment_type": "ASSIGNMENT",
    "lx_assignment_type2print": "Assignment",
    "lx_problem_cell_type": "PROBLEM",
    "lx_problem_number": "1",
    "lx_problem_points": "14"
   },
   "outputs": [],
   "source": [
    "# Part 5\n",
    "import numpy as np\n",
    "\n",
    "\n",
    "P = {\n",
    "    'D': {'D': 0.3, 'S': 0.4, 'C': 0.3},\n",
    "    'S': {'D': 0.2, 'S': 0.5, 'C': 0.3},\n",
    "    'C': {'D': 0.4, 'S': 0.3, 'C': 0.3}\n",
    "}\n",
    "\n",
    "E = {'S': 0.0, 'C': 0.0}\n",
    "max_steps = 30\n",
    "memo = {'S': {}, 'C': {}}\n",
    "def expected_steps(start_region, steps):\n",
    "    if steps == max_steps:\n",
    "        return 0\n",
    "    if steps in memo[start_region]:\n",
    "        return memo[start_region][steps]\n",
    "    \n",
    "    exp_steps = P[start_region]['D']\n",
    "    for region, prob in P[start_region].items():\n",
    "        if region != 'D':  \n",
    "            exp_steps += prob * (1 + expected_steps(region, steps + 1))\n",
    "    \n",
    "    memo[start_region][steps] = exp_steps\n",
    "    return exp_steps\n",
    "\n",
    "expected_number_of_steps = expected_steps('S', 0)\n",
    "expected_number_of_steps = round(expected_number_of_steps,1)\n",
    "# Fill in the answer to part 5 below\n",
    "# That is, the expected number of steps as a decimal number\n",
    "problem1_ET = expected_number_of_steps"
   ]
  },
  {
   "cell_type": "code",
   "execution_count": 6,
   "id": "4afcc0a6",
   "metadata": {
    "deletable": false,
    "execution": {
     "iopub.execute_input": "2023-11-09T07:06:12.238239Z",
     "iopub.status.busy": "2023-11-09T07:06:12.237830Z",
     "iopub.status.idle": "2023-11-09T07:06:12.251153Z",
     "shell.execute_reply": "2023-11-09T07:06:12.250317Z"
    },
    "lx_assignment_number": "2",
    "lx_assignment_type": "ASSIGNMENT",
    "lx_assignment_type2print": "Assignment",
    "lx_problem_cell_type": "TEST",
    "lx_problem_number": "1",
    "lx_problem_points": "14",
    "lx_test_only": "True"
   },
   "outputs": [
    {
     "name": "stdout",
     "output_type": "stream",
     "text": [
      "Beginning tests for PROBLEM 3\n",
      "\n",
      "---------------------------------\n",
      "Beginning test for part1\n",
      "---------------------------------\n",
      "\n",
      "-----Beginning test------\n",
      "Your probability is correct!\n",
      "-----Ending test---------\n",
      "\n",
      "---------------------------------\n",
      "Beginning test for part2\n",
      "---------------------------------\n",
      "\n",
      "-----Beginning test------\n",
      "Your probability is correct!\n",
      "-----Ending test---------\n",
      "\n",
      "---------------------------------\n",
      "Beginning test for part3\n",
      "---------------------------------\n",
      "\n",
      "-----Beginning test------\n",
      "Your answer is correct\n",
      "-----Ending test---------\n",
      "\n",
      "---------------------------------\n",
      "Beginning test for part4\n",
      "---------------------------------\n",
      "\n",
      "-----Beginning test------\n",
      "Your stationary distribution is within distance 0.01 from the true stationary distribution\n",
      "-----Ending test---------\n",
      "\n",
      "---------------------------------\n",
      "Beginning test for part5\n",
      "---------------------------------\n",
      "\n",
      "-----Beginning test------\n",
      "You are within 0.05 from the true answer, good!\n",
      "-----Ending test---------\n",
      "\n",
      "\n",
      "All tests complete, you got = 8 points\n",
      "The number of points you have scored for this problem is 8 out of 8\n",
      "The number of points you have accumulated thus far is   8 out of 8\n"
     ]
    }
   ],
   "source": []
  },
  {
   "cell_type": "markdown",
   "id": "fb881f19",
   "metadata": {
    "deletable": false,
    "lx_assignment_number": "2",
    "lx_assignment_type": "ASSIGNMENT",
    "lx_assignment_type2print": "Assignment",
    "lx_problem_cell_type": "PROBLEM",
    "lx_problem_number": "2",
    "lx_problem_points": "8"
   },
   "source": [
    "---\n",
    "## Assignment 2, PROBLEM 2\n",
    "Maximum Points = 8"
   ]
  },
  {
   "cell_type": "markdown",
   "id": "8bdf8520",
   "metadata": {
    "deletable": false,
    "lx_assignment_number": "2",
    "lx_assignment_type": "ASSIGNMENT",
    "lx_assignment_type2print": "Assignment",
    "lx_problem_cell_type": "PROBLEM",
    "lx_problem_number": "2",
    "lx_problem_points": "8"
   },
   "source": [
    "\n",
    "A healthcare organization is interested in understanding the relationship between the number of visits to the doctors office and certain patient characteristics. \n",
    "They have collected data on the number of visits (for a year) for a sample of patients and have included the following variables\n",
    "\n",
    "* ofp : number of physician office visits\n",
    "* ofnp : number of nonphysician office visits\n",
    "* opp : number of physician outpatient visits\n",
    "* opnp : number of nonphysician outpatient visits\n",
    "* emr : number of emergency room visits\n",
    "* hosp : number of hospitalizations\n",
    "* exclhlth : the person is of excellent health (self-perceived)\n",
    "* poorhealth : the person is of poor health (self-perceived)\n",
    "* numchron : number of chronic conditions\n",
    "* adldiff : the person has a condition that limits activities of daily living ?\n",
    "* noreast : the person is from the north east region\n",
    "* midwest : the person is from the midwest region\n",
    "* west : the person is from the west region\n",
    "* age : age in years (divided by 10)\n",
    "* male : is the person male ?\n",
    "* married : is the person married ?\n",
    "* school : number of years of education\n",
    "* faminc : family income in 10000$\n",
    "* employed : is the person employed ?\n",
    "* privins : is the person covered by private health insurance?\n",
    "* medicaid : is the person covered by medicaid ?\n",
    "\n",
    "Decide which patient features are resonable to use to predict the target \"number of physician office visits\". Hint: should we really use the \"ofnp\" etc variables?\n",
    "\n",
    "Since the target variable is counts, a reasonable loss function is to consider the target variable as Poisson distributed where the parameter follows $\\lambda = \\exp(\\alpha \\cdot x + \\beta)$ where $\\alpha$ is a vector (slope) and $\\beta$ is a number (intercept). That is, the parameter is the exponential of a linear function. The reason we chose this as our parameter, is that it is always positive which is when the Poisson distribution is defined. To be specific we make the following assumption about our conditional density of $Y \\mid X$,\n",
    "$$\n",
    "    f_{Y \\mid X} (y,x) = \\frac{\\lambda^{y} e^{-\\lambda}}{y !}, \\quad \\lambda(x) = \\exp(\\alpha \\cdot x + \\beta).\n",
    "$$\n",
    "\n",
    "Recall from the lecture notes, (4.2) that in this case we should consider the log-loss (entropy) and that according to (4.2.1 Maximum Likelihood and regression) we can consider the conditional log-likelihood. Follow the steps of Example 1 and Example 2 in section (4.2) to derive the loss that needs to be minimized.\n",
    "\n",
    "Hint: when taking the log of the conditional density you will find that the term that contains the $y!$ does not depend on $\\lambda$ and as such does not depend on $\\alpha,\\beta$, it can thus be discarded. This will be essential due to numerical issues with factorials.\n",
    "\n",
    "Instructions:\n",
    "\n",
    "1. Load the file `data/visits_clean.csv`, follow the instructions in the code cell of how this should happen [1.5p]\n",
    "2. Create the `problem2_X` and the `problem2_y` as numpy arrays with `problem2_X` being the features and `problem2_y` being the target. Do the standard train-test split with 80% training data and 20% testing data. Store these in the variables defined in the cells. [1.5p]\n",
    "3. Implement $loss$ inside the class `PoissonRegression` by writing down the loss to be minimized, I have provided a formula for the $\\lambda$ that you can use. [1.5p]\n",
    "4. Now use the `PoissonRegression` class to train a Poisson regression model on the training data. [1.5p]\n",
    "5. Compute the mean absolute error of your prediction on the test set and use Hoeffdings inequality to produce a 95\\% confidence interval for the mean absolute error. We can make the assumption that the error is bounded by 70 for simplicity. [2p]\n"
   ]
  },
  {
   "cell_type": "code",
   "execution_count": 2,
   "id": "e0018f10",
   "metadata": {
    "deletable": false,
    "lx_assignment_number": "2",
    "lx_assignment_type": "ASSIGNMENT",
    "lx_assignment_type2print": "Assignment",
    "lx_problem_cell_type": "PROBLEM",
    "lx_problem_number": "2",
    "lx_problem_points": "8"
   },
   "outputs": [],
   "source": [
    "# Part 1\n",
    "\n",
    "# As in assignment 1 we will load the header into header and data into data\n",
    "# this time you will have to parse the data such that each data entry is a float\n",
    "# and that the problem2_data is a numpy array of shape (n_samples,n_columns)\n",
    "# where n_columns is the number of columns and should have the same length as\n",
    "# the list of strings header. n_samples is how many rows of data we had.\n",
    "# If you cannot find the file, check the starting package as it should be updated\n",
    "# if not, go to the github repo and pull it\n",
    "import csv\n",
    "import numpy as np\n",
    "header_max = []\n",
    "data_max = []\n",
    "\n",
    "csv_file_path = 'data/visits_clean.csv' #if you want to upload please change the data path , data/visits_clean.csv\n",
    "\n",
    "with open(csv_file_path, 'r', newline='') as csvfile:\n",
    "    csvreader = csv.reader(csvfile, delimiter = ' ')\n",
    "    \n",
    "    header_max = next(csvreader)\n",
    "    \n",
    "data_max=np.genfromtxt(csv_file_path,dtype=float,delimiter=\" \",skip_header=1)\n",
    "# The autograder does not accept pandas as a solution to this problem.\n",
    "# data/visits_clean.csv\n",
    "problem2_header = header_max #List of strings\n",
    "problem2_data = np.array(data_max) #A numpy array of shape n_samples n_columns"
   ]
  },
  {
   "cell_type": "code",
   "execution_count": 19,
   "id": "cc91481d",
   "metadata": {
    "deletable": false,
    "lx_assignment_number": "2",
    "lx_assignment_type": "ASSIGNMENT",
    "lx_assignment_type2print": "Assignment",
    "lx_problem_cell_type": "PROBLEM",
    "lx_problem_number": "2",
    "lx_problem_points": "8"
   },
   "outputs": [],
   "source": [
    "# Part 2\n",
    "\n",
    "# Fill in your X and y below\n",
    "# Now we have the data as a numpy array of floats\n",
    "from sklearn.preprocessing import MinMaxScaler\n",
    "\n",
    "scaler = MinMaxScaler()\n",
    "scaler.fit(problem2_data)\n",
    "problem2_data = scaler.transform(problem2_data) \n",
    "\n",
    "\n",
    "problem2_X = problem2_data[[],1:]\n",
    "problem2_y = problem2_data[[],0]\n",
    "\n",
    "indices = np.arange(problem2_data.shape[0])\n",
    "np.random.seed(0)\n",
    "np.random.shuffle(indices)\n",
    "\n",
    "train_ratio=0.8\n",
    "total_samples=problem2_data.shape[0]\n",
    "train_samples=int(total_samples*train_ratio)\n",
    "\n",
    "problem2_X_train = problem2_data[indices[:train_samples],1:]\n",
    "problem2_y_train = problem2_data[indices[:train_samples],0]\n",
    "\n",
    "\n",
    "problem2_X_test = problem2_data[indices[train_samples:], 1:]\n",
    "problem2_y_test = problem2_data[indices[train_samples:], 0]\n",
    "\n",
    "# Replace 'XXX' with the actual variables\n",
    "problem2_X_train, problem2_X_test, problem2_y_train, problem2_y_test = problem2_X_train, problem2_X_test, problem2_y_train, problem2_y_test\n",
    "\n",
    "\n",
    "# Split the data into train and randomly using for instance\n",
    "# np.random.shuffle indices and indexing the first 80% as the train data\n",
    "# keep the train size as 0.8 rounded up to the nearest integer sample\n",
    "#problem2_X_train, problem2_X_test, problem2_y_train, problem2_y_test = XXX"
   ]
  },
  {
   "cell_type": "code",
   "execution_count": 20,
   "id": "b11e238b",
   "metadata": {
    "deletable": false,
    "lx_assignment_number": "2",
    "lx_assignment_type": "ASSIGNMENT",
    "lx_assignment_type2print": "Assignment",
    "lx_problem_cell_type": "PROBLEM",
    "lx_problem_number": "2",
    "lx_problem_points": "8"
   },
   "outputs": [],
   "source": [
    "# Part 3\n",
    "\n",
    "# Fill in the function loss below\n",
    "\n",
    "class PoissonRegression(object):\n",
    "    def __init__(self):\n",
    "        self.coeffs = None\n",
    "        self.result = None\n",
    "    \n",
    "    # define the objective/cost/loss function we want to minimise\n",
    "    def loss(self,X,Y,coeffs):\n",
    "        # The parameter lambda for the given X and the proposed values \n",
    "        # of the coefficients, here coeff[:-1] represent alpha \n",
    "        # and coeff[-1] represent beta\n",
    "        lam = np.exp(np.dot(X, coeffs[:-1]) + coeffs[-1])\n",
    "        neg_log_likelihood = -np.sum(Y * np.log(lam) - lam)\n",
    "\n",
    "        # use the Y variable that is available here to define \n",
    "        # the loss function, return the value of the loss for \n",
    "        # this Y and for this parameter lam defined above\n",
    "        return neg_log_likelihood\n",
    "\n",
    "    def fit(self,X,Y):\n",
    "        import numpy as np\n",
    "        from scipy import optimize\n",
    "\n",
    "        #Use the loss above together with an optimization method from scipy\n",
    "        #to find the coefficients of the model\n",
    "        #this is prepared for you below\n",
    "        opt_loss = lambda coeffs: self.loss(X,Y,coeffs)\n",
    "        initial_arguments = np.zeros(shape=X.shape[1]+1) # initial guess as 0\n",
    "        self.result = optimize.minimize(opt_loss, initial_arguments,method='cg')\n",
    "        self.coeffs = self.result.x\n",
    "    \n",
    "    def predict(self,X):\n",
    "        #Use the trained model to predict Y\n",
    "        if (self.coeffs is not None):\n",
    "            return np.exp(np.dot(X,self.coeffs[:-1])+self.coeffs[-1])"
   ]
  },
  {
   "cell_type": "code",
   "execution_count": 21,
   "id": "7e22ec9d",
   "metadata": {
    "deletable": false,
    "lx_assignment_number": "2",
    "lx_assignment_type": "ASSIGNMENT",
    "lx_assignment_type2print": "Assignment",
    "lx_problem_cell_type": "PROBLEM",
    "lx_problem_number": "2",
    "lx_problem_points": "8"
   },
   "outputs": [
    {
     "name": "stdout",
     "output_type": "stream",
     "text": [
      " message: Optimization terminated successfully.\n",
      " success: True\n",
      "  status: 0\n",
      "     fun: 831.300300788653\n",
      "       x: [ 2.080e+00  2.514e-01 ...  2.022e-01 -3.583e+00]\n",
      "     nit: 359\n",
      "     jac: [-7.629e-06  7.629e-06 ...  0.000e+00 -7.629e-06]\n",
      "    nfev: 15336\n",
      "    njev: 697\n"
     ]
    }
   ],
   "source": [
    "# Part 4\n",
    "\n",
    "# Initialize your PoissonRegression model\n",
    "problem2_model = PoissonRegression()\n",
    "\n",
    "# Fit your initialized model on the training data\n",
    "problem2_model.fit(problem2_X_train, problem2_y_train)\n",
    "\n",
    "# This is to make sure that everything went well, \n",
    "# check that success is True\n",
    "print(problem2_model.result)"
   ]
  },
  {
   "cell_type": "code",
   "execution_count": 25,
   "id": "2c2e2209",
   "metadata": {
    "deletable": false,
    "lx_assignment_number": "2",
    "lx_assignment_type": "ASSIGNMENT",
    "lx_assignment_type2print": "Assignment",
    "lx_problem_cell_type": "PROBLEM",
    "lx_problem_number": "2",
    "lx_problem_points": "8"
   },
   "outputs": [],
   "source": [
    "# Part 5\n",
    "# Predict on the test set\n",
    "predictions = problem2_model.predict(problem2_X_test)\n",
    "\n",
    "# Calculate the MAE\n",
    "MAE = np.mean(np.abs(predictions - problem2_y_test))\n",
    "# Put the computed mean absolute error in the variable below\n",
    "problem2_metric = MAE\n",
    "# Put a confidence interval in the variable below by using Hoeffdings inequality using the bounds\n",
    "# a = 0, b=70 (roughly 5 days between visits as minimum)\n",
    "# the variable should contain a tuple representing the confidence interval of the form (l_edge,r_edge)\n",
    "# Number of test samples\n",
    "n = len(problem2_y_test)\n",
    "\n",
    "# Calculate t for a 95% confidence level\n",
    "delta = 0.05\n",
    "t = np.sqrt((70**2) * np.log(2/delta) / (2*n))\n",
    "\n",
    "# Construct the confidence interval\n",
    "confidence_interval = (problem2_metric - t, problem2_metric + t)\n",
    "problem2_interval = confidence_interval"
   ]
  },
  {
   "cell_type": "code",
   "execution_count": 24,
   "id": "1857a7b9",
   "metadata": {
    "deletable": false,
    "lx_assignment_number": "2",
    "lx_assignment_type": "ASSIGNMENT",
    "lx_assignment_type2print": "Assignment",
    "lx_problem_cell_type": "TEST",
    "lx_problem_number": "2",
    "lx_problem_points": "8",
    "lx_test_only": "True"
   },
   "outputs": [
    {
     "data": {
      "text/plain": [
       "0.04569161825797972"
      ]
     },
     "execution_count": 24,
     "metadata": {},
     "output_type": "execute_result"
    }
   ],
   "source": []
  },
  {
   "cell_type": "markdown",
   "id": "47cdf757",
   "metadata": {
    "deletable": false,
    "lx_assignment_number": "2",
    "lx_assignment_type": "ASSIGNMENT",
    "lx_assignment_type2print": "Assignment",
    "lx_problem_cell_type": "PROBLEM",
    "lx_problem_number": "3",
    "lx_problem_points": "8"
   },
   "source": [
    "---\n",
    "## Assignment 2, PROBLEM 3\n",
    "Maximum Points = 8"
   ]
  },
  {
   "cell_type": "markdown",
   "id": "67db7268",
   "metadata": {
    "deletable": false,
    "lx_assignment_number": "2",
    "lx_assignment_type": "ASSIGNMENT",
    "lx_assignment_type2print": "Assignment",
    "lx_problem_cell_type": "PROBLEM",
    "lx_problem_number": "3",
    "lx_problem_points": "8"
   },
   "source": [
    "\n",
    "## Random variable generation and transformation\n",
    "\n",
    "The purpose of this problem is to show that you can implement your own sampler, this will be built in the following three steps:\n",
    "\n",
    "1. [2p] Implement a Linear Congruential Generator where you tested out a good combination (a large $M$ with $a,b$ satisfying the Hull-Dobell (Thm 6.8)) of parameters. Follow the instructions in the code block.\n",
    "2. [2p] Using a generator construct random numbers from the uniform $[0,1]$ distribution.\n",
    "3. [4p] Using a uniform $[0,1]$ random generator, generate samples from \n",
    "\n",
    "$$p_0(x) = \\frac{\\pi}{2}|\\sin(2\\pi x)|, \\quad x \\in [0,1] \\enspace .$$\n",
    "\n",
    "Using the **Accept-Reject** sampler (**Algorithm 1** in TFDS notes) with sampling density given by the uniform $[0,1]$ distribution."
   ]
  },
  {
   "cell_type": "code",
   "execution_count": 5,
   "id": "1a8e8421",
   "metadata": {
    "deletable": false,
    "lx_assignment_number": "2",
    "lx_assignment_type": "ASSIGNMENT",
    "lx_assignment_type2print": "Assignment",
    "lx_problem_cell_type": "PROBLEM",
    "lx_problem_number": "3",
    "lx_problem_points": "8"
   },
   "outputs": [],
   "source": [
    "\n",
    "def problem3_LCG(size=None, seed = 0):\n",
    "    \"\"\"\n",
    "    A linear congruential generator that generates pseudo random numbers according to size.\n",
    "    \n",
    "    Parameters\n",
    "    -------------\n",
    "    size : an integer denoting how many samples should be produced\n",
    "    seed : the starting point of the LCG, i.e. u0 in the notes.\n",
    "    \n",
    "    Returns\n",
    "    -------------\n",
    "    out : a list of the pseudo random numbers\n",
    "    \"\"\"\n",
    "    \n",
    "    a = 1664525\n",
    "    b = 1013904223\n",
    "    M = 2**32  \n",
    "    new_seed = seed\n",
    "    \n",
    "    # List to hold the pseudorandom numbers\n",
    "    out = []\n",
    "    \n",
    "    for _ in range(size if size is not None else 1):\n",
    "        new_seed = (a * new_seed + b) % M\n",
    "        out.append(new_seed / M)\n",
    "    \n",
    "    return out"
   ]
  },
  {
   "cell_type": "code",
   "execution_count": 6,
   "id": "de331904",
   "metadata": {
    "deletable": false,
    "lx_assignment_number": "2",
    "lx_assignment_type": "ASSIGNMENT",
    "lx_assignment_type2print": "Assignment",
    "lx_problem_cell_type": "PROBLEM",
    "lx_problem_number": "3",
    "lx_problem_points": "8"
   },
   "outputs": [],
   "source": [
    "\n",
    "def problem3_uniform(generator=None, period = 1, size=None, seed=0):\n",
    "    \"\"\"\n",
    "    Takes a generator and produces samples from the uniform [0,1] distribution according\n",
    "    to size.\n",
    "    \n",
    "    Parameters\n",
    "    -------------\n",
    "    generator : a function of type generator(size,seed) and produces the same result as problem1_LCG, i.e. pseudo random numbers in the range {0,1,...,period-1}\n",
    "    period : the period of the generator\n",
    "    seed : the seed to be used in the generator provided\n",
    "    size : an integer denoting how many samples should be produced\n",
    "    \n",
    "    Returns\n",
    "    --------------\n",
    "    out : a list of the uniform pseudo random numbers\n",
    "    \"\"\"\n",
    "    out_uniform = []\n",
    "    random_numbers = generator(size=size, seed=seed)\n",
    "    \n",
    "    # Normalize the numbers to be in the range [0, 1]\n",
    "    out_uniform = [number / period for number in random_numbers]\n",
    "    \n",
    "    return out_uniform"
   ]
  },
  {
   "cell_type": "code",
   "execution_count": 9,
   "id": "719461b9",
   "metadata": {
    "deletable": false,
    "lx_assignment_number": "2",
    "lx_assignment_type": "ASSIGNMENT",
    "lx_assignment_type2print": "Assignment",
    "lx_problem_cell_type": "PROBLEM",
    "lx_problem_number": "3",
    "lx_problem_points": "8"
   },
   "outputs": [],
   "source": [
    "import random\n",
    "import math\n",
    "import numpy as np\n",
    "def problem3_accept_reject(uniformGenerator=None, n_iterations=None, seed=0):\n",
    "    \"\"\"\n",
    "    Takes a generator that produces uniform pseudo random [0,1] numbers \n",
    "    and produces samples from (pi/2)*abs(sin(x*2*pi)) using an Accept-Reject\n",
    "    sampler with the uniform distribution as the proposal distribution.\n",
    "    Runs n_iterations\n",
    "    \n",
    "    Parameters\n",
    "    -------------\n",
    "    generator : a function of the type generator(size,seed) that produces uniform pseudo random\n",
    "    numbers from [0,1]\n",
    "    seed : the seed to be used in the generator provided\n",
    "    n_iterations : an integer denoting how many attempts should be made in the accept-reject sampler\n",
    "    \n",
    "    Returns\n",
    "    --------------\n",
    "    out : a list of the pseudo random numbers with the specified distribution\n",
    "    \"\"\"\n",
    "    now_seed = seed\n",
    "    problem3_samples = []\n",
    "    M = np.pi / 2  # The bound for the accept-reject criterion\n",
    "\n",
    "    while len(problem3_samples) < n_iterations:\n",
    "        x = uniformGenerator(size=1, seed=now_seed)[0]\n",
    "        \n",
    "        # Calculate the probability of accepting the sample\n",
    "        f_x = (np.pi / 2) * abs(np.sin(x * 2 * np.pi))\n",
    "\n",
    "        # Use the next seed value for the acceptance check\n",
    "        now_seed += 1\n",
    "        u = uniformGenerator(size=1, seed=now_seed)[0]  # Uniform random number for acceptance\n",
    "\n",
    "        # Increment the seed for the next iteration\n",
    "        now_seed += 1\n",
    "        \n",
    "        # Accept the sample with probability f(x)/(M*g(x))\n",
    "        if u < f_x / M:\n",
    "            problem3_samples.append(x)\n",
    "    \n",
    "    return problem3_samples"
   ]
  },
  {
   "cell_type": "markdown",
   "id": "49bed7e2",
   "metadata": {
    "deletable": false,
    "lx_assignment_number": "2",
    "lx_assignment_type": "ASSIGNMENT",
    "lx_assignment_type2print": "Assignment",
    "lx_problem_cell_type": "Test",
    "lx_problem_number": "3",
    "lx_problem_points": "8"
   },
   "source": [
    "---\n",
    "#### Local Test for Assignment 2, PROBLEM 3\n",
    "Evaluate cell below to make sure your answer is valid.                             You **should not** modify anything in the cell below when evaluating it to do a local test of                             your solution.\n",
    "You may need to include and evaluate code snippets from lecture notebooks in cells above to make the local test work correctly sometimes (see error messages for clues). This is meant to help you become efficient at recalling materials covered in lectures that relate to this problem. Such local tests will generally not be available in the exam."
   ]
  },
  {
   "cell_type": "code",
   "execution_count": 10,
   "id": "f60c55a4",
   "metadata": {
    "deletable": false,
    "lx_assignment_number": "2",
    "lx_assignment_type": "ASSIGNMENT",
    "lx_assignment_type2print": "Assignment",
    "lx_problem_cell_type": "Test",
    "lx_problem_number": "3",
    "lx_problem_points": "8"
   },
   "outputs": [
    {
     "name": "stdout",
     "output_type": "stream",
     "text": [
      "LCG output: [0.23645552527159452, 0.3692706737201661, 0.5042420323006809, 0.7048832636792213, 0.05054362863302231, 0.3695183543022722, 0.7747629624791443, 0.556188570568338, 0.0164932357147336, 0.6392460397910327]\n",
      "Uniform sampler [1.1010818434027149e-10, 1.7195505736960152e-10, 2.3480599398514574e-10, 3.28236848119394e-10, 2.353621118541738e-11, 1.720703926283599e-10, 3.6077711863439596e-10, 2.5899548587730784e-10, 7.68026137836923e-12, 2.9767213393408096e-10]\n",
      "Accept-Reject sampler [1.1010818434027149e-10, 1.1046912066467086e-10, 1.1083005698907022e-10, 1.1119099331346958e-10, 1.1155192963786894e-10, 1.119128659622683e-10, 1.1227380228666766e-10, 1.1263473861106702e-10, 1.1299567493546638e-10, 1.1335661125986574e-10, 1.137175475842651e-10, 1.1407848390866447e-10, 1.1443942023306383e-10, 1.1480035655746319e-10, 1.1516129288186255e-10, 1.1552222920626191e-10, 1.1588316553066127e-10, 1.1624410185506063e-10, 1.1660503817946e-10, 1.1696597450385936e-10]\n"
     ]
    }
   ],
   "source": [
    "\n",
    "# If you managed to solve all three parts you can test the following code to see if it runs\n",
    "# you have to change the period to match your LCG though, this is marked as XXX.\n",
    "# It is a very good idea to check these things using the histogram function in sagemath\n",
    "# try with a larger number of samples, up to 10000 should run\n",
    "\n",
    "print(\"LCG output: %s\" % problem3_LCG(size=10, seed = 1))\n",
    "\n",
    "period = 2**31 - 1\n",
    "\n",
    "print(\"Uniform sampler %s\" % problem3_uniform(generator=problem3_LCG, period = period, size=10, seed=1))\n",
    "\n",
    "uniform_sampler = lambda size,seed: problem3_uniform(generator=problem3_LCG, period = period, size=size, seed=seed)\n",
    "\n",
    "print(\"Accept-Reject sampler %s\" % problem3_accept_reject(uniformGenerator = uniform_sampler,n_iterations=20,seed=1))"
   ]
  },
  {
   "cell_type": "code",
   "execution_count": 11,
   "id": "99745c4c",
   "metadata": {
    "deletable": false,
    "lx_assignment_number": "2",
    "lx_assignment_type": "ASSIGNMENT",
    "lx_assignment_type2print": "Assignment",
    "lx_problem_cell_type": "Test",
    "lx_problem_number": "3",
    "lx_problem_points": "8"
   },
   "outputs": [
    {
     "name": "stdout",
     "output_type": "stream",
     "text": [
      "Accept-Reject sampler [0.23796462709189137, 0.32383276483316237, 0.2590084917154736, 0.6484972199788831, 0.6820045605879779, 0.20985124453651727, 0.38102068999577143, 0.2718754143840908, 0.35184625582788265, 0.243517762709337, 0.22418547484732643, 0.414743999308679, 0.6842409524120733, 0.32375334582076565, 0.27981547357298786, 0.799115369116727, 0.14533616183328069, 0.1995887063541001, 0.14595480067964695, 0.08109066462388448]\n"
     ]
    }
   ],
   "source": [
    "\n",
    "# If however you did not manage to implement either part 1 or part 2 but still want to check part 3, you can run the code below\n",
    "\n",
    "def testUniformGenerator(size,seed):\n",
    "    import random\n",
    "    random.seed(seed)\n",
    "    \n",
    "    return [random.uniform(0,1) for s in range(size)]\n",
    "\n",
    "print(\"Accept-Reject sampler %s\" % problem3_accept_reject(uniformGenerator=testUniformGenerator, n_iterations=20, seed=1))"
   ]
  },
  {
   "cell_type": "code",
   "execution_count": 18,
   "id": "8de90da6",
   "metadata": {
    "deletable": false,
    "execution": {
     "iopub.execute_input": "2023-11-09T07:06:13.609016Z",
     "iopub.status.busy": "2023-11-09T07:06:13.608669Z",
     "iopub.status.idle": "2023-11-09T07:06:16.475505Z",
     "shell.execute_reply": "2023-11-09T07:06:16.474523Z"
    },
    "lx_assignment_number": "2",
    "lx_assignment_type": "ASSIGNMENT",
    "lx_assignment_type2print": "Assignment",
    "lx_problem_cell_type": "TEST",
    "lx_problem_number": "3",
    "lx_problem_points": "8",
    "lx_test_only": "True",
    "scrolled": true
   },
   "outputs": [
    {
     "name": "stdout",
     "output_type": "stream",
     "text": [
      "Beginning tests for problem 3\n",
      "\n",
      "---------------------------------\n",
      "Beginning test for part1\n",
      "---------------------------------\n",
      "\n",
      "-----Beginning test------\n",
      "\n",
      "The output of LCG is not respecting the size variable\n",
      "You got 1.0 points deduction \n",
      "-----Ending test---------\n",
      "\n",
      "-----Beginning test------\n",
      "\n",
      "Your period is less than 1000, which is not a good pseudo random generator\n",
      "You got 1.0 points deduction \n",
      "-----Ending test---------\n",
      "\n",
      "---------------------------------\n",
      "Beginning test for part2\n",
      "---------------------------------\n",
      "\n",
      "-----Beginning test------\n",
      "problem3_uniform outputs correct size\n",
      "-----Ending test---------\n",
      "\n",
      "-----Beginning test------\n",
      "The uniform sampler seems to produce the correct distribution, within tolerance!\n",
      "-----Ending test---------\n",
      "\n",
      "-----Beginning test------\n",
      "The output of problem3_uniform is greater than 0\n",
      "-----Ending test---------\n",
      "\n",
      "-----Beginning test------\n",
      "The output of problem3_uniform is less than 1\n",
      "-----Ending test---------\n",
      "\n",
      "---------------------------------\n",
      "Beginning test for part3\n",
      "---------------------------------\n",
      "\n",
      "-----Beginning test------\n",
      "\n",
      "Your accept-reject generator is producing duplicate samples when doing 200 iterations\n",
      "You got 1.0 points deduction \n",
      "-----Ending test---------\n",
      "\n",
      "-----Beginning test------\n",
      "The accept-reject sampler runs with your LCG sampler and produces numbers between 0 and 1\n",
      "-----Ending test---------\n",
      "\n",
      "-----Beginning test------\n",
      "The accept-reject sampler runs with a plug in sampler and produces numbers between 0 and 1\n",
      "-----Ending test---------\n",
      "\n",
      "-----Beginning test------\n",
      "\n",
      "Your accept-reject generator is producing duplicate samples, which it should not with my-plugin generator\n",
      "You got 1.0 points deduction \n",
      "-----Ending test---------\n",
      "\n",
      "-----Beginning test------\n",
      "The accept-reject sampler seems to produce the correct distribution, within tolerance!\n",
      "-----Ending test---------\n",
      "\n",
      "\n",
      "All tests complete, you got = 4 points\n",
      "The number of points you have scored for this problem is 4 out of 8\n",
      " \n",
      " \n",
      " \n",
      "The number of points you have scored in total for this entire set of Problems is 13 out of 24\n"
     ]
    }
   ],
   "source": []
  }
 ],
 "metadata": {
  "kernelspec": {
   "display_name": "py310",
   "language": "python",
   "name": "python3"
  },
  "language_info": {
   "codemirror_mode": {
    "name": "ipython",
    "version": 3
   },
   "file_extension": ".py",
   "mimetype": "text/x-python",
   "name": "python",
   "nbconvert_exporter": "python",
   "pygments_lexer": "ipython3",
   "version": "3.10.11"
  },
  "lx_assignment_number": 2,
  "lx_course_instance": "2023",
  "lx_course_name": "Introduction to Data Science",
  "lx_course_number": "1MS041"
 },
 "nbformat": 4,
 "nbformat_minor": 5
}
