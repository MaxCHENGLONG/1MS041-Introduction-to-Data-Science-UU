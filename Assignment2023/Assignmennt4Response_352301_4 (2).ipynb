{
 "cells": [
  {
   "cell_type": "markdown",
   "id": "8ff1bb15",
   "metadata": {
    "deletable": false
   },
   "source": [
    "# Assignment 4 for Course 1MS041\n",
    "Make         sure you pass the `# ... Test` cells and\n",
    " submit your solution notebook in the corresponding assignment on the course website. You can submit multiple times before the deadline         and your highest score will be used."
   ]
  },
  {
   "cell_type": "markdown",
   "id": "c7d6f8be",
   "metadata": {
    "deletable": false,
    "lx_assignment_number": "4",
    "lx_assignment_type": "ASSIGNMENT",
    "lx_assignment_type2print": "Assignment",
    "lx_problem_cell_type": "PROBLEM",
    "lx_problem_number": "1",
    "lx_problem_points": "24"
   },
   "source": [
    "---\n",
    "## Assignment 4, PROBLEM 1\n",
    "Maximum Points = 24"
   ]
  },
  {
   "cell_type": "markdown",
   "id": "5e4e5f28",
   "metadata": {
    "deletable": false,
    "lx_assignment_number": "4",
    "lx_assignment_type": "ASSIGNMENT",
    "lx_assignment_type2print": "Assignment",
    "lx_problem_cell_type": "PROBLEM",
    "lx_problem_number": "1",
    "lx_problem_points": "24"
   },
   "source": [
    "\n",
    "This time the assignment only consists of one problem, but we will do a more comprehensive analysis instead.\n",
    "\n",
    "Consider the dataset `mammography.mat` that you can download from [http://odds.cs.stonybrook.edu/mammography-dataset/](http://odds.cs.stonybrook.edu/mammography-dataset/). Below you can find the code to load this file into `X` and `Y`, you just need to put the file in your `data` folder. During mammography the doctor would be looking for something called `calcification`, which is calcium deposits in the breast tissue and is used as an indicator of cancer. In this dataset the `X` corresponds to some measurements, there are 6 features. The `Y` is a 0-1 label where 1 represents calcification and 0 does not.\n",
    "\n",
    "1. [3p] Split the data into three parts, train/test/validation where train is 60% of the data, test is 15% and validation is 25% of the data. Do not do this randomly, I have prepared a shuffling with a fixed seed, this way I can make sure that we all did the same splits. That is [train,test,validation] is the splitting layout.\n",
    "2. [4p] Train a machine learning model on the training data (you are free to choose it yourself). Hint: you could always try `LogisticRegression`, but for it to work well you would need `StandardScaler` and put everything in a `Pipeline`.\n",
    "3. [3p] Use the classification report from `Utils` and compute the intervals for precision-recall etc on the test set with `union_bound correction` with 95% confidence.\n",
    "4. [3p] You are interested in minimizing the average cost of your classifier, but first we must define it:\n",
    "    * If someone is calcified but classified as not, we say it costs 30 **(this is the worst scenario)** \n",
    "    * If someone is not calcified but classified as calcified, we say it costs 5 **(this probably only costs extra investigation)**\n",
    "    * If someone is calcified but classified as calcified, costs 0 **(We did the right thing, no cost)**\n",
    "    * If someone is not calcified but classified as not, costs 0 **(We did the right thing, no cost)**.\n",
    "\n",
    "complete filling the function `cost` to compute the cost of a prediction model under a certain prediction threshold (recall our precision recall lecture and the `predict_proba` function from trained models). What would be the cost of having a model that always classifies someone as not calcified on the test set?\n",
    "\n",
    "5. [4p] Now, we wish to select the threshold of our classifier that minimizes the cost, we do that by checking say 100 evenly spaced proposal thresholds between 0 and 1, and use our testing data to compute the cost.\n",
    "6. [4p] With your newly computed threshold value, compute the cost of putting this model in production by computing the cost using the validation data. Also provide a confidence interval of the cost using Hoeffdings inequality with a 95% confidence.\n",
    "7. [3p] Let $t$ be the threshold you found and $f$ the model you fitted, if we define the random variable\n",
    "$$\n",
    "    C = 30(1-1_{f(X)\\geq t})Y+5(1-Y)1_{f(X) \\geq t}\n",
    "$$\n",
    "then $C$ denotes the cost of a randomly chosen patient. In the above we are estimating $\\mathbb{E}[C]$ using the empirical mean. However, since the number of calcifications in the population is fairly small and our classifier probably has a fairly high precision for the $0$ class, then $C$ should have fairly small variance. Compute the empirical variance of $C$ on the validation set. What would be the confidence interval if we used Bennett's inequality instead of Hoeffding in point 6 but with the computed empirical variance as our guess for the variance?"
   ]
  },
  {
   "cell_type": "code",
   "execution_count": 1,
   "id": "f82b5758",
   "metadata": {
    "deletable": false,
    "execution": {
     "iopub.execute_input": "2023-12-21T15:24:38.115963Z",
     "iopub.status.busy": "2023-12-21T15:24:38.115443Z",
     "iopub.status.idle": "2023-12-21T15:24:38.325624Z",
     "shell.execute_reply": "2023-12-21T15:24:38.324830Z"
    },
    "lx_assignment_number": "4",
    "lx_assignment_type": "ASSIGNMENT",
    "lx_assignment_type2print": "Assignment",
    "lx_problem_cell_type": "PROBLEM",
    "lx_problem_number": "1",
    "lx_problem_points": "24"
   },
   "outputs": [],
   "source": [
    "import scipy.io as so\n",
    "import numpy as np\n",
    "data = so.loadmat('data/mammography.mat')\n",
    "\n",
    "np.random.seed(0)\n",
    "shuffle_index = np.arange(0,len(data['X']))\n",
    "np.random.shuffle(shuffle_index)\n",
    "\n",
    "X = data['X'][shuffle_index,:]\n",
    "Y = data['y'][shuffle_index,:].flatten()"
   ]
  },
  {
   "cell_type": "code",
   "execution_count": 2,
   "id": "946d88a5",
   "metadata": {
    "deletable": false,
    "execution": {
     "iopub.execute_input": "2023-12-21T15:24:38.330142Z",
     "iopub.status.busy": "2023-12-21T15:24:38.329751Z",
     "iopub.status.idle": "2023-12-21T15:24:38.753777Z",
     "shell.execute_reply": "2023-12-21T15:24:38.753098Z"
    },
    "lx_assignment_number": "4",
    "lx_assignment_type": "ASSIGNMENT",
    "lx_assignment_type2print": "Assignment",
    "lx_problem_cell_type": "PROBLEM",
    "lx_problem_number": "1",
    "lx_problem_points": "24"
   },
   "outputs": [
    {
     "data": {
      "text/plain": [
       "((6709, 6), (1677, 6), (2797, 6), (6709,), (1677,), (2797,))"
      ]
     },
     "execution_count": 2,
     "metadata": {},
     "output_type": "execute_result"
    }
   ],
   "source": [
    "from sklearn.dummy import DummyClassifier\n",
    "\n",
    "train_size = int(0.60 * len(X))\n",
    "test_size = int(0.15 * len(X))\n",
    "valid_size = len(X) - train_size - test_size\n",
    "\n",
    "# Split the dataset into train, test, and validation sets\n",
    "X_train, X_test, X_valid = X[:train_size], X[train_size:train_size+test_size], X[train_size+test_size:]\n",
    "Y_train, Y_test, Y_valid = Y[:train_size], Y[train_size:train_size+test_size], Y[train_size+test_size:]\n",
    "\n",
    "X_train.shape, X_test.shape, X_valid.shape, Y_train.shape, Y_test.shape, Y_valid.shape\n",
    "\n"
   ]
  },
  {
   "cell_type": "code",
   "execution_count": 3,
   "id": "f53c220a",
   "metadata": {
    "deletable": false,
    "execution": {
     "iopub.execute_input": "2023-12-21T15:24:38.757920Z",
     "iopub.status.busy": "2023-12-21T15:24:38.757505Z",
     "iopub.status.idle": "2023-12-21T15:24:38.840825Z",
     "shell.execute_reply": "2023-12-21T15:24:38.839861Z"
    },
    "lx_assignment_number": "4",
    "lx_assignment_type": "ASSIGNMENT",
    "lx_assignment_type2print": "Assignment",
    "lx_problem_cell_type": "PROBLEM",
    "lx_problem_number": "1",
    "lx_problem_points": "24"
   },
   "outputs": [
    {
     "data": {
      "text/plain": [
       "array([[0.998472  , 0.001528  ],\n",
       "       [0.99842505, 0.00157495],\n",
       "       [0.99271792, 0.00728208],\n",
       "       ...,\n",
       "       [0.99842505, 0.00157495],\n",
       "       [0.996871  , 0.003129  ],\n",
       "       [0.99086294, 0.00913706]])"
      ]
     },
     "execution_count": 3,
     "metadata": {},
     "output_type": "execute_result"
    }
   ],
   "source": [
    "from sklearn.linear_model import LogisticRegression\n",
    "from sklearn.preprocessing import StandardScaler\n",
    "from sklearn.pipeline import Pipeline\n",
    "# Part 2\n",
    "# Use X_train,Y_train to train a model from sklearn. Make sure it has the predict_proba function\n",
    "# for instance LogisticRegression\n",
    "# # Fit the scaler on the data and transform it\n",
    "model = Pipeline([\n",
    "    ('scaler', StandardScaler()),\n",
    "    ('logistic_regression', LogisticRegression())\n",
    "])\n",
    "\n",
    "# Fit the pipeline with your training data\n",
    "model.fit(X_train, Y_train)\n",
    "\n",
    "y_proba_train = model.predict_proba(X_train)\n",
    "y_proba_val = model.predict_proba(X_valid)\n",
    "y_proba_test = model.predict_proba(X_test)\n",
    "y_proba_test\n"
   ]
  },
  {
   "cell_type": "code",
   "execution_count": 4,
   "id": "6a1db6dc",
   "metadata": {
    "deletable": false,
    "execution": {
     "iopub.execute_input": "2023-12-21T15:24:38.845054Z",
     "iopub.status.busy": "2023-12-21T15:24:38.844531Z",
     "iopub.status.idle": "2023-12-21T15:24:38.872992Z",
     "shell.execute_reply": "2023-12-21T15:24:38.872050Z"
    },
    "lx_assignment_number": "4",
    "lx_assignment_type": "ASSIGNMENT",
    "lx_assignment_type2print": "Assignment",
    "lx_problem_cell_type": "PROBLEM",
    "lx_problem_number": "1",
    "lx_problem_points": "24"
   },
   "outputs": [
    {
     "name": "stdout",
     "output_type": "stream",
     "text": [
      "            labels           precision             recall\n",
      "\n",
      "                 0  0.98 : [0.94,1.00] 1.00 : [0.96,1.00]\n",
      "                 1  0.70 : [0.33,1.00] 0.36 : [0.09,0.62]\n",
      "\n",
      "          accuracy                                        0.98 : [0.94,1.00]\n",
      "\n"
     ]
    }
   ],
   "source": [
    "# Part 3\n",
    "import sys\n",
    "sys.path.append('/path/to/utils_module')\n",
    "# Compute precision and recall on the test set using \n",
    "from Utils import classification_report_interval\n",
    "y_pred =model.predict(X_test)\n",
    "\n",
    "# Each precision and recall should be a tuple, for instance you can write\n",
    "# precision0 = (0.9,0.95)\n",
    "report = classification_report_interval(Y_test, y_pred, alpha=0.05, union_bound_correction=True)\n",
    "print(report)\n",
    "precision0 = (0.94, 1.00)  # Interval for precision of class 0\n",
    "recall0 = (0.96, 1.00)     # Interval for recall of class 0\n",
    "precision1 = (0.33, 1.00)  # Interval for precision of class 1\n",
    "recall1 = (0.09, 0.62)    \n",
    "# The code below will check that you supply the proper type\n",
    "assert(type(precision0) == tuple)\n",
    "assert(len(precision0) == 2)\n",
    "assert(type(recall0) == tuple)\n",
    "assert(len(recall0) == 2)\n",
    "assert(type(precision1) == tuple)\n",
    "assert(len(precision1) == 2)\n",
    "assert(type(recall1) == tuple)\n",
    "assert(len(recall1) == 2)\n",
    "\n"
   ]
  },
  {
   "cell_type": "code",
   "execution_count": 5,
   "id": "e3bd9e40",
   "metadata": {
    "deletable": false,
    "execution": {
     "iopub.execute_input": "2023-12-21T15:24:38.878160Z",
     "iopub.status.busy": "2023-12-21T15:24:38.877682Z",
     "iopub.status.idle": "2023-12-21T15:24:38.889747Z",
     "shell.execute_reply": "2023-12-21T15:24:38.888800Z"
    },
    "lx_assignment_number": "4",
    "lx_assignment_type": "ASSIGNMENT",
    "lx_assignment_type2print": "Assignment",
    "lx_problem_cell_type": "PROBLEM",
    "lx_problem_number": "1",
    "lx_problem_points": "24"
   },
   "outputs": [],
   "source": [
    "\n",
    "# Part 4\n",
    "\n",
    "    \n",
    "def cost(model, threshold, X, Y):\n",
    "    pred_proba = model.predict_proba(X)[:, 1]\n",
    "    predictions = (pred_proba >= threshold) * 1\n",
    "    \n",
    "    # Costs as per conditions\n",
    "    cost_false_negative = 30\n",
    "    cost_false_positive = 5\n",
    "    cost_true_positive = 0\n",
    "    cost_true_negative = 0\n",
    "\n",
    "    # Calculate costs\n",
    "    false_negatives = ((predictions == 0) & (Y == 1)).sum()\n",
    "    false_positives = ((predictions == 1) & (Y == 0)).sum()\n",
    "    \n",
    "    total_cost = (false_negatives * cost_false_negative) + (false_positives * cost_false_positive)\n",
    "    \n",
    "    # Average cost per person\n",
    "    average_cost = total_cost / len(Y)\n",
    "    \n",
    "    return average_cost.mean()\n",
    "\n",
    "# Naive cost of the model that would classify all as non-calcified on the test set\n",
    "\n",
    "    # Fill in what is missing to compute the cost and return it\n",
    "    # Note that we are interested in average cost (cost per person)\n",
    "    "
   ]
  },
  {
   "cell_type": "code",
   "execution_count": 6,
   "id": "fc87254d",
   "metadata": {
    "deletable": false,
    "execution": {
     "iopub.execute_input": "2023-12-21T15:24:38.897887Z",
     "iopub.status.busy": "2023-12-21T15:24:38.895338Z",
     "iopub.status.idle": "2023-12-21T15:24:38.912790Z",
     "shell.execute_reply": "2023-12-21T15:24:38.911578Z"
    },
    "lx_assignment_number": "4",
    "lx_assignment_type": "ASSIGNMENT",
    "lx_assignment_type2print": "Assignment",
    "lx_problem_cell_type": "PROBLEM",
    "lx_problem_number": "1",
    "lx_problem_points": "24"
   },
   "outputs": [
    {
     "data": {
      "text/plain": [
       "0.6976744186046512"
      ]
     },
     "execution_count": 6,
     "metadata": {},
     "output_type": "execute_result"
    }
   ],
   "source": [
    "\n",
    "# Part 4\n",
    "naive_predictions = np.zeros_like(Y_test)  # All predictions are 0 (non-calcified)\n",
    "naive_cost = cost(model, 1, X_test, Y_test)  # Using a threshold of 0 to ensure all predictions are 0\n",
    "\n",
    "naive_cost"
   ]
  },
  {
   "cell_type": "code",
   "execution_count": 7,
   "id": "6151f1bd",
   "metadata": {
    "deletable": false,
    "execution": {
     "iopub.execute_input": "2023-12-21T15:24:38.922141Z",
     "iopub.status.busy": "2023-12-21T15:24:38.919579Z",
     "iopub.status.idle": "2023-12-21T15:24:39.019608Z",
     "shell.execute_reply": "2023-12-21T15:24:39.018390Z"
    },
    "lx_assignment_number": "4",
    "lx_assignment_type": "ASSIGNMENT",
    "lx_assignment_type2print": "Assignment",
    "lx_problem_cell_type": "PROBLEM",
    "lx_problem_number": "1",
    "lx_problem_points": "24"
   },
   "outputs": [
    {
     "data": {
      "text/plain": [
       "(0.11111111111111112, 0.3518187239117472)"
      ]
     },
     "execution_count": 7,
     "metadata": {},
     "output_type": "execute_result"
    }
   ],
   "source": [
    "\n",
    "# Part 5\n",
    "def computer_cost(Y, predictions):\n",
    "    # Costs as per conditions\n",
    "    cost_false_negative = 30\n",
    "    cost_false_positive = 5\n",
    "\n",
    "    # Calculate costs\n",
    "    false_negatives = ((predictions == 0) & (Y == 1)).sum()\n",
    "    false_positives = ((predictions == 1) & (Y == 0)).sum()\n",
    "    \n",
    "    total_cost = (false_negatives * cost_false_negative) + (false_positives * cost_false_positive)\n",
    "    \n",
    "    # Average cost per person\n",
    "    average_cost = total_cost / len(Y)\n",
    "    \n",
    "    return average_cost\n",
    "optimal_threshold = None\n",
    "cost_at_optimal_threshold = float('inf')\n",
    "\n",
    "for threshold in np.linspace(0, 1, 100):\n",
    "    pred_proba = model.predict_proba(X_test)[:, 1]\n",
    "    predictions = (pred_proba >= threshold) * 1\n",
    "    current_cost = computer_cost(Y_test, predictions)\n",
    "\n",
    "    if current_cost < cost_at_optimal_threshold:\n",
    "        cost_at_optimal_threshold = current_cost\n",
    "        optimal_threshold = threshold\n",
    "\n",
    "\n",
    "optimal_threshold =optimal_threshold\n",
    "cost_at_optimal_threshold = cost_at_optimal_threshold\n",
    "optimal_threshold,cost_at_optimal_threshold"
   ]
  },
  {
   "cell_type": "code",
   "execution_count": 8,
   "id": "c1a258fb",
   "metadata": {
    "deletable": false,
    "execution": {
     "iopub.execute_input": "2023-12-21T15:24:39.029014Z",
     "iopub.status.busy": "2023-12-21T15:24:39.026448Z",
     "iopub.status.idle": "2023-12-21T15:24:39.045037Z",
     "shell.execute_reply": "2023-12-21T15:24:39.043832Z"
    },
    "lx_assignment_number": "4",
    "lx_assignment_type": "ASSIGNMENT",
    "lx_assignment_type2print": "Assignment",
    "lx_problem_cell_type": "PROBLEM",
    "lx_problem_number": "1",
    "lx_problem_points": "24"
   },
   "outputs": [
    {
     "name": "stdout",
     "output_type": "stream",
     "text": [
      "(0.26570415858431456, 0.3170630920413558)\n",
      "0.2913836253128352\n"
     ]
    }
   ],
   "source": [
    "import math\n",
    "cost_at_optimal_threshold_validation = cost(model,optimal_threshold,X_valid,Y_valid)\n",
    "cost_interval_e = math.sqrt(1/(2*len(Y_valid))*math.log(2/0.05))\n",
    "cost_interval=(max(0,cost_at_optimal_threshold_validation-cost_interval_e),cost_at_optimal_threshold_validation+cost_interval_e)\n",
    "print(cost_interval)\n",
    "print(cost_at_optimal_threshold_validation)\n",
    "assert(type(cost_interval) == tuple)\n",
    "assert(len(cost_interval) == 2)"
   ]
  },
  {
   "cell_type": "code",
   "execution_count": 9,
   "id": "510f6a00",
   "metadata": {
    "deletable": false,
    "execution": {
     "iopub.execute_input": "2023-12-21T15:24:39.054346Z",
     "iopub.status.busy": "2023-12-21T15:24:39.051782Z",
     "iopub.status.idle": "2023-12-21T15:24:39.071969Z",
     "shell.execute_reply": "2023-12-21T15:24:39.070666Z"
    },
    "lx_assignment_number": "4",
    "lx_assignment_type": "ASSIGNMENT",
    "lx_assignment_type2print": "Assignment",
    "lx_problem_cell_type": "PROBLEM",
    "lx_problem_number": "1",
    "lx_problem_points": "24"
   },
   "outputs": [
    {
     "data": {
      "text/plain": [
       "6.198613637958541"
      ]
     },
     "execution_count": 9,
     "metadata": {},
     "output_type": "execute_result"
    }
   ],
   "source": [
    "C = 30 * (1 - (model.predict_proba(X_valid)[:, 1] >= optimal_threshold)) * Y_valid + 5 * (1 - Y_valid) * (model.predict_proba(X_valid)[:, 1] >= optimal_threshold)\n",
    "variance_of_C = np.var(C)\n",
    "variance_of_C\n"
   ]
  },
  {
   "cell_type": "code",
   "execution_count": 10,
   "id": "f2f727d7",
   "metadata": {
    "deletable": false,
    "execution": {
     "iopub.execute_input": "2023-12-21T15:24:39.081238Z",
     "iopub.status.busy": "2023-12-21T15:24:39.078690Z",
     "iopub.status.idle": "2023-12-21T15:24:39.099010Z",
     "shell.execute_reply": "2023-12-21T15:24:39.097797Z"
    },
    "lx_assignment_number": "4",
    "lx_assignment_type": "ASSIGNMENT",
    "lx_assignment_type2print": "Assignment",
    "lx_problem_cell_type": "PROBLEM",
    "lx_problem_number": "1",
    "lx_problem_points": "24"
   },
   "outputs": [
    {
     "name": "stdout",
     "output_type": "stream",
     "text": [
      "Numerical error -1.1102230246251565e-16\n",
      "(0.15091432947852831, 0.431852921147142)\n"
     ]
    }
   ],
   "source": [
    "import sys\n",
    "sys.path.append('/path/to/utils_module')\n",
    "# Compute precision and recall on the test set using \n",
    "from Utils import bennett_epsilon\n",
    "import scipy.optimize as so\n",
    "import numpy as np\n",
    "n = len(Y_valid)\n",
    "alpha = 0.05\n",
    "b=30\n",
    "sigma = np.sqrt(variance_of_C)\n",
    "\n",
    "epsilon_bennett = bennett_epsilon(n, 30, sigma, 0.05)\n",
    "    \n",
    "\n",
    "# A 95% confidence interval of the random variable C using Bennett's inequality\n",
    "\n",
    "interval_of_C = (np.mean(C) - epsilon_bennett, np.mean(C) + epsilon_bennett)\n",
    "print(interval_of_C)\n",
    "\n",
    "assert(type(interval_of_C) == tuple)\n",
    "assert(len(interval_of_C) == 2)"
   ]
  },
  {
   "cell_type": "code",
   "execution_count": 11,
   "id": "40faae04",
   "metadata": {
    "deletable": false,
    "execution": {
     "iopub.execute_input": "2023-12-21T15:24:39.108801Z",
     "iopub.status.busy": "2023-12-21T15:24:39.106226Z",
     "iopub.status.idle": "2023-12-21T15:24:40.367648Z",
     "shell.execute_reply": "2023-12-21T15:24:40.366430Z"
    },
    "lx_assignment_number": "4",
    "lx_assignment_type": "ASSIGNMENT",
    "lx_assignment_type2print": "Assignment",
    "lx_problem_cell_type": "TEST",
    "lx_problem_number": "1",
    "lx_problem_points": "24",
    "lx_test_only": "True",
    "scrolled": false
   },
   "outputs": [
    {
     "name": "stdout",
     "output_type": "stream",
     "text": [
      "Numerical error -1.1102230246251565e-16\n",
      "Numerical error -1.1102230246251565e-16\n",
      "Beginning tests for problem 1\n",
      "\n",
      "---------------------------------\n",
      "Beginning test for part1\n",
      "---------------------------------\n",
      "\n",
      "-----Beginning test------\n",
      "Shape of X_train correct it is (6709,6)\n",
      "-----Ending test---------\n",
      "\n",
      "-----Beginning test------\n",
      "Shape of X_test correct it is (1677,6)\n",
      "-----Ending test---------\n",
      "\n",
      "-----Beginning test------\n",
      "Shape of X_valid correct it is (2797,6)\n",
      "-----Ending test---------\n",
      "\n",
      "-----Beginning test------\n",
      "Shape of Y_train correct it is (6709,)\n",
      "-----Ending test---------\n",
      "\n",
      "-----Beginning test------\n",
      "Shape of Y_test correct it is (1677,)\n",
      "-----Ending test---------\n",
      "\n",
      "-----Beginning test------\n",
      "Shape of Y_valid correct it is (2797,)\n",
      "-----Ending test---------\n",
      "\n",
      "---------------------------------\n",
      "Beginning test for part2\n",
      "---------------------------------\n",
      "\n",
      "-----Beginning test------\n",
      "Your model does produce the correct output shape when predict_proba is called on X_train\n",
      "-----Ending test---------\n",
      "\n",
      "-----Beginning test------\n",
      "Your model outperforms the naive classifier (always 0) on the trainig data, at least we learned something\n",
      "-----Ending test---------\n",
      "\n",
      "---------------------------------\n",
      "Beginning test for part3\n",
      "---------------------------------\n",
      "\n",
      "-----Beginning test------\n",
      "Setup for part 3 ran without issues\n",
      "-----Ending test---------\n",
      "\n",
      "-----Beginning test------\n",
      "precision0 lower edge correct\n",
      "-----Ending test---------\n",
      "\n",
      "-----Beginning test------\n",
      "precision0 upper edge correct\n",
      "-----Ending test---------\n",
      "\n",
      "-----Beginning test------\n",
      "precision1 lower edge correct\n",
      "-----Ending test---------\n",
      "\n",
      "-----Beginning test------\n",
      "precision1 upper edge correct\n",
      "-----Ending test---------\n",
      "\n",
      "-----Beginning test------\n",
      "recall0 lower edge correct\n",
      "-----Ending test---------\n",
      "\n",
      "-----Beginning test------\n",
      "recall0 upper edge correct\n",
      "-----Ending test---------\n",
      "\n",
      "-----Beginning test------\n",
      "recall1 lower edge correct\n",
      "-----Ending test---------\n",
      "\n",
      "-----Beginning test------\n",
      "recall1 upper edge correct\n",
      "-----Ending test---------\n",
      "\n",
      "---------------------------------\n",
      "Beginning test for part4\n",
      "---------------------------------\n",
      "\n",
      "-----Beginning test------\n",
      "Your cost function deviates less that 0.01 from a reference cost function on a test model at threshold 0.5\n",
      "-----Ending test---------\n",
      "\n",
      "-----Beginning test------\n",
      "Your naive cost is within 0.01 of 0.6976744186046512\n",
      "-----Ending test---------\n",
      "\n",
      "---------------------------------\n",
      "Beginning test for part5\n",
      "---------------------------------\n",
      "\n",
      "-----Beginning test------\n",
      "The cost at your optimal threshold is close enough to the minimum cost.\n",
      "-----Ending test---------\n",
      "\n",
      "-----Beginning test------\n",
      "Your cost at the optimal threshold was computed using your optimal threshold and your cost function and it agreed with your answer\n",
      "-----Ending test---------\n",
      "\n",
      "---------------------------------\n",
      "Beginning test for part6\n",
      "---------------------------------\n",
      "\n",
      "-----Beginning test------\n",
      "The cost at the optimal threshold validation agreed with the one computed using your model and cost function\n",
      "-----Ending test---------\n",
      "\n",
      "-----Beginning test------\n",
      "\n",
      "The lower edge of the cost_interval did not agree with one computed on your cost_at_optimal_threshold_validation\n",
      "You got 1.0 points deduction \n",
      "-----Ending test---------\n",
      "\n",
      "-----Beginning test------\n",
      "\n",
      "The upper edge of the cost_interval did not agree with one computed on your cost_at_optimal_threshold_validation\n",
      "You got 1.0 points deduction \n",
      "-----Ending test---------\n",
      "\n",
      "---------------------------------\n",
      "Beginning test for part7\n",
      "---------------------------------\n",
      "\n",
      "-----Beginning test------\n",
      "Your variance of C agreed with the reference within an error of 0.01\n",
      "-----Ending test---------\n",
      "\n",
      "-----Beginning test------\n",
      "The lower edge of the C interval agreed with reference within an error of 0.01\n",
      "-----Ending test---------\n",
      "\n",
      "-----Beginning test------\n",
      "The upper edge of the C interval agreed with reference within an error of 0.01\n",
      "-----Ending test---------\n",
      "\n",
      "\n",
      "All tests complete, you got = 22 points\n",
      "The number of points you have scored for this problem is 22 out of 24\n",
      " \n",
      " \n",
      " \n",
      "The number of points you have scored in total for this entire set of Problems is 22 out of 24\n"
     ]
    }
   ],
   "source": []
  }
 ],
 "metadata": {
  "language_info": {
   "codemirror_mode": {
    "name": "ipython",
    "version": 3
   },
   "file_extension": ".py",
   "mimetype": "text/x-python",
   "name": "python",
   "nbconvert_exporter": "python",
   "pygments_lexer": "ipython3",
   "version": "3.9.12"
  },
  "lx_assignment_number": 4,
  "lx_course_instance": "2023",
  "lx_course_name": "Introduction to Data Science",
  "lx_course_number": "1MS041"
 },
 "nbformat": 4,
 "nbformat_minor": 5
}
