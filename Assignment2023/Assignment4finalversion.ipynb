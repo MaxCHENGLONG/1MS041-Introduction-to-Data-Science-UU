{
 "cells": [
  {
   "cell_type": "markdown",
   "id": "1d0f1163",
   "metadata": {
    "deletable": false
   },
   "source": [
    "# Assignment 4 for Course 1MS041\n",
    "Make         sure you pass the `# ... Test` cells and\n",
    " submit your solution notebook in the corresponding assignment on the course website. You can submit multiple times before the deadline         and your highest score will be used."
   ]
  },
  {
   "cell_type": "markdown",
   "id": "3a4b9c88",
   "metadata": {
    "deletable": false,
    "lx_assignment_number": "4",
    "lx_assignment_type": "ASSIGNMENT",
    "lx_assignment_type2print": "Assignment",
    "lx_problem_cell_type": "PROBLEM",
    "lx_problem_number": "1",
    "lx_problem_points": "24"
   },
   "source": [
    "---\n",
    "## Assignment 4, PROBLEM 1\n",
    "Maximum Points = 24"
   ]
  },
  {
   "cell_type": "markdown",
   "id": "9bd86f53",
   "metadata": {
    "deletable": false,
    "lx_assignment_number": "4",
    "lx_assignment_type": "ASSIGNMENT",
    "lx_assignment_type2print": "Assignment",
    "lx_problem_cell_type": "PROBLEM",
    "lx_problem_number": "1",
    "lx_problem_points": "24"
   },
   "source": [
    "\n",
    "This time the assignment only consists of one problem, but we will do a more comprehensive analysis instead.\n",
    "\n",
    "Consider the dataset `mammography.mat` that you can download from [http://odds.cs.stonybrook.edu/mammography-dataset/](http://odds.cs.stonybrook.edu/mammography-dataset/). Below you can find the code to load this file into `X` and `Y`, you just need to put the file in your `data` folder. During mammography the doctor would be looking for something called `calcification`, which is calcium deposits in the breast tissue and is used as an indicator of cancer. In this dataset the `X` corresponds to some measurements, there are 6 features. The `Y` is a 0-1 label where 1 represents calcification and 0 does not.\n",
    "\n",
    "1. [3p] Split the data into three parts, train/test/validation where train is 60% of the data, test is 15% and validation is 25% of the data. Do not do this randomly, I have prepared a shuffling with a fixed seed, this way I can make sure that we all did the same splits. That is [train,test,validation] is the splitting layout.\n",
    "2. [4p] Train a machine learning model on the training data (you are free to choose it yourself). Hint: you could always try `LogisticRegression`, but for it to work well you would need `StandardScaler` and put everything in a `Pipeline`.\n",
    "3. [3p] Use the classification report from `Utils` and compute the intervals for precision-recall etc on the test set with `union_bound correction` with 95% confidence.\n",
    "4. [3p] You are interested in minimizing the average cost of your classifier, but first we must define it:\n",
    "    * If someone is calcified but classified as not, we say it costs 30 **(this is the worst scenario)** \n",
    "    * If someone is not calcified but classified as calcified, we say it costs 5 **(this probably only costs extra investigation)**\n",
    "    * If someone is calcified but classified as calcified, costs 0 **(We did the right thing, no cost)**\n",
    "    * If someone is not calcified but classified as not, costs 0 **(We did the right thing, no cost)**.\n",
    "\n",
    "complete filling the function `cost` to compute the cost of a prediction model under a certain prediction threshold (recall our precision recall lecture and the `predict_proba` function from trained models). What would be the cost of having a model that always classifies someone as not calcified on the test set?\n",
    "\n",
    "5. [4p] Now, we wish to select the threshold of our classifier that minimizes the cost, we do that by checking say 100 evenly spaced proposal thresholds between 0 and 1, and use our testing data to compute the cost.\n",
    "6. [4p] With your newly computed threshold value, compute the cost of putting this model in production by computing the cost using the validation data. Also provide a confidence interval of the cost using Hoeffdings inequality with a 95% confidence.\n",
    "7. [3p] Let $t$ be the threshold you found and $f$ the model you fitted, if we define the random variable\n",
    "$$\n",
    "    C = 30(1-1_{f(X)\\geq t})Y+5(1-Y)1_{f(X) \\geq t}\n",
    "$$\n",
    "then $C$ denotes the cost of a randomly chosen patient. In the above we are estimating $\\mathbb{E}[C]$ using the empirical mean. However, since the number of calcifications in the population is fairly small and our classifier probably has a fairly high precision for the $0$ class, then $C$ should have fairly small variance. Compute the empirical variance of $C$ on the validation set. What would be the confidence interval if we used Bennett's inequality instead of Hoeffding in point 6 but with the computed empirical variance as our guess for the variance?"
   ]
  },
  {
   "cell_type": "code",
   "execution_count": 5,
   "id": "509af91d",
   "metadata": {
    "deletable": false,
    "execution": {
     "iopub.execute_input": "2024-01-03T06:10:37.679311Z",
     "iopub.status.busy": "2024-01-03T06:10:37.678762Z",
     "iopub.status.idle": "2024-01-03T06:10:37.860885Z",
     "shell.execute_reply": "2024-01-03T06:10:37.859636Z"
    },
    "lx_assignment_number": "4",
    "lx_assignment_type": "ASSIGNMENT",
    "lx_assignment_type2print": "Assignment",
    "lx_problem_cell_type": "PROBLEM",
    "lx_problem_number": "1",
    "lx_problem_points": "24"
   },
   "outputs": [],
   "source": [
    "import scipy.io as so\n",
    "import numpy as np\n",
    "data = so.loadmat('data/mammography.mat')\n",
    "\n",
    "np.random.seed(0)\n",
    "shuffle_index = np.arange(0,len(data['X']))\n",
    "np.random.shuffle(shuffle_index)\n",
    "\n",
    "X = data['X'][shuffle_index,:]\n",
    "Y = data['y'][shuffle_index,:].flatten()\n",
    "\n",
    "# Part 1\n",
    "\n",
    "# Split the X,Y into three parts, make sure that the sizes are\n",
    "# (6709, 6), (1677, 6), (2797, 6), (6709,), (1677,), (2797,)\n",
    "\n",
    "X_train, X_test, X_valid, Y_train, Y_test, Y_valid = X[:6709,:], X[6709:8386,:], X[8386:,:], Y[:6709], Y[6709:8386], Y[8386:]\n",
    "#X_train.shape,X_test.shape,X_valid.shape,Y_train.shape,Y_test.shape,Y_valid.shape"
   ]
  },
  {
   "cell_type": "code",
   "execution_count": 6,
   "id": "a2b977a4",
   "metadata": {
    "deletable": false,
    "execution": {
     "iopub.execute_input": "2024-01-03T06:10:37.864923Z",
     "iopub.status.busy": "2024-01-03T06:10:37.864100Z",
     "iopub.status.idle": "2024-01-03T06:10:38.283502Z",
     "shell.execute_reply": "2024-01-03T06:10:38.282472Z"
    },
    "lx_assignment_number": "4",
    "lx_assignment_type": "ASSIGNMENT",
    "lx_assignment_type2print": "Assignment",
    "lx_problem_cell_type": "PROBLEM",
    "lx_problem_number": "1",
    "lx_problem_points": "24"
   },
   "outputs": [
    {
     "data": {
      "text/html": [
       "<style>#sk-container-id-1 {color: black;}#sk-container-id-1 pre{padding: 0;}#sk-container-id-1 div.sk-toggleable {background-color: white;}#sk-container-id-1 label.sk-toggleable__label {cursor: pointer;display: block;width: 100%;margin-bottom: 0;padding: 0.3em;box-sizing: border-box;text-align: center;}#sk-container-id-1 label.sk-toggleable__label-arrow:before {content: \"▸\";float: left;margin-right: 0.25em;color: #696969;}#sk-container-id-1 label.sk-toggleable__label-arrow:hover:before {color: black;}#sk-container-id-1 div.sk-estimator:hover label.sk-toggleable__label-arrow:before {color: black;}#sk-container-id-1 div.sk-toggleable__content {max-height: 0;max-width: 0;overflow: hidden;text-align: left;background-color: #f0f8ff;}#sk-container-id-1 div.sk-toggleable__content pre {margin: 0.2em;color: black;border-radius: 0.25em;background-color: #f0f8ff;}#sk-container-id-1 input.sk-toggleable__control:checked~div.sk-toggleable__content {max-height: 200px;max-width: 100%;overflow: auto;}#sk-container-id-1 input.sk-toggleable__control:checked~label.sk-toggleable__label-arrow:before {content: \"▾\";}#sk-container-id-1 div.sk-estimator input.sk-toggleable__control:checked~label.sk-toggleable__label {background-color: #d4ebff;}#sk-container-id-1 div.sk-label input.sk-toggleable__control:checked~label.sk-toggleable__label {background-color: #d4ebff;}#sk-container-id-1 input.sk-hidden--visually {border: 0;clip: rect(1px 1px 1px 1px);clip: rect(1px, 1px, 1px, 1px);height: 1px;margin: -1px;overflow: hidden;padding: 0;position: absolute;width: 1px;}#sk-container-id-1 div.sk-estimator {font-family: monospace;background-color: #f0f8ff;border: 1px dotted black;border-radius: 0.25em;box-sizing: border-box;margin-bottom: 0.5em;}#sk-container-id-1 div.sk-estimator:hover {background-color: #d4ebff;}#sk-container-id-1 div.sk-parallel-item::after {content: \"\";width: 100%;border-bottom: 1px solid gray;flex-grow: 1;}#sk-container-id-1 div.sk-label:hover label.sk-toggleable__label {background-color: #d4ebff;}#sk-container-id-1 div.sk-serial::before {content: \"\";position: absolute;border-left: 1px solid gray;box-sizing: border-box;top: 0;bottom: 0;left: 50%;z-index: 0;}#sk-container-id-1 div.sk-serial {display: flex;flex-direction: column;align-items: center;background-color: white;padding-right: 0.2em;padding-left: 0.2em;position: relative;}#sk-container-id-1 div.sk-item {position: relative;z-index: 1;}#sk-container-id-1 div.sk-parallel {display: flex;align-items: stretch;justify-content: center;background-color: white;position: relative;}#sk-container-id-1 div.sk-item::before, #sk-container-id-1 div.sk-parallel-item::before {content: \"\";position: absolute;border-left: 1px solid gray;box-sizing: border-box;top: 0;bottom: 0;left: 50%;z-index: -1;}#sk-container-id-1 div.sk-parallel-item {display: flex;flex-direction: column;z-index: 1;position: relative;background-color: white;}#sk-container-id-1 div.sk-parallel-item:first-child::after {align-self: flex-end;width: 50%;}#sk-container-id-1 div.sk-parallel-item:last-child::after {align-self: flex-start;width: 50%;}#sk-container-id-1 div.sk-parallel-item:only-child::after {width: 0;}#sk-container-id-1 div.sk-dashed-wrapped {border: 1px dashed gray;margin: 0 0.4em 0.5em 0.4em;box-sizing: border-box;padding-bottom: 0.4em;background-color: white;}#sk-container-id-1 div.sk-label label {font-family: monospace;font-weight: bold;display: inline-block;line-height: 1.2em;}#sk-container-id-1 div.sk-label-container {text-align: center;}#sk-container-id-1 div.sk-container {/* jupyter's `normalize.less` sets `[hidden] { display: none; }` but bootstrap.min.css set `[hidden] { display: none !important; }` so we also need the `!important` here to be able to override the default hidden behavior on the sphinx rendered scikit-learn.org. See: https://github.com/scikit-learn/scikit-learn/issues/21755 */display: inline-block !important;position: relative;}#sk-container-id-1 div.sk-text-repr-fallback {display: none;}</style><div id=\"sk-container-id-1\" class=\"sk-top-container\"><div class=\"sk-text-repr-fallback\"><pre>Pipeline(steps=[(&#x27;scaler&#x27;, StandardScaler()),\n",
       "                (&#x27;log_reg&#x27;, LogisticRegression())])</pre><b>In a Jupyter environment, please rerun this cell to show the HTML representation or trust the notebook. <br />On GitHub, the HTML representation is unable to render, please try loading this page with nbviewer.org.</b></div><div class=\"sk-container\" hidden><div class=\"sk-item sk-dashed-wrapped\"><div class=\"sk-label-container\"><div class=\"sk-label sk-toggleable\"><input class=\"sk-toggleable__control sk-hidden--visually\" id=\"sk-estimator-id-1\" type=\"checkbox\" ><label for=\"sk-estimator-id-1\" class=\"sk-toggleable__label sk-toggleable__label-arrow\">Pipeline</label><div class=\"sk-toggleable__content\"><pre>Pipeline(steps=[(&#x27;scaler&#x27;, StandardScaler()),\n",
       "                (&#x27;log_reg&#x27;, LogisticRegression())])</pre></div></div></div><div class=\"sk-serial\"><div class=\"sk-item\"><div class=\"sk-estimator sk-toggleable\"><input class=\"sk-toggleable__control sk-hidden--visually\" id=\"sk-estimator-id-2\" type=\"checkbox\" ><label for=\"sk-estimator-id-2\" class=\"sk-toggleable__label sk-toggleable__label-arrow\">StandardScaler</label><div class=\"sk-toggleable__content\"><pre>StandardScaler()</pre></div></div></div><div class=\"sk-item\"><div class=\"sk-estimator sk-toggleable\"><input class=\"sk-toggleable__control sk-hidden--visually\" id=\"sk-estimator-id-3\" type=\"checkbox\" ><label for=\"sk-estimator-id-3\" class=\"sk-toggleable__label sk-toggleable__label-arrow\">LogisticRegression</label><div class=\"sk-toggleable__content\"><pre>LogisticRegression()</pre></div></div></div></div></div></div></div>"
      ],
      "text/plain": [
       "Pipeline(steps=[('scaler', StandardScaler()),\n",
       "                ('log_reg', LogisticRegression())])"
      ]
     },
     "execution_count": 6,
     "metadata": {},
     "output_type": "execute_result"
    }
   ],
   "source": [
    "\n",
    "# Part 2\n",
    "# Use X_train,Y_train to train a model from sklearn. Make sure it has the predict_proba function\n",
    "# for instance LogisticRegression\n",
    "# write everything in a pipeline\n",
    "\n",
    "#import logisticregression\n",
    "from sklearn.linear_model import LogisticRegression\n",
    "from sklearn.pipeline import Pipeline\n",
    "from sklearn.preprocessing import StandardScaler\n",
    "\n",
    "model = Pipeline([\n",
    "    ('scaler', StandardScaler()),\n",
    "    ('log_reg', LogisticRegression())\n",
    "])\n",
    "model.fit(X_train, Y_train)"
   ]
  },
  {
   "cell_type": "code",
   "execution_count": 7,
   "id": "b8b44d75",
   "metadata": {
    "deletable": false,
    "execution": {
     "iopub.execute_input": "2024-01-03T06:10:38.289049Z",
     "iopub.status.busy": "2024-01-03T06:10:38.288621Z",
     "iopub.status.idle": "2024-01-03T06:10:38.311939Z",
     "shell.execute_reply": "2024-01-03T06:10:38.309977Z"
    },
    "lx_assignment_number": "4",
    "lx_assignment_type": "ASSIGNMENT",
    "lx_assignment_type2print": "Assignment",
    "lx_problem_cell_type": "PROBLEM",
    "lx_problem_number": "1",
    "lx_problem_points": "24"
   },
   "outputs": [
    {
     "name": "stdout",
     "output_type": "stream",
     "text": [
      "            labels           precision             recall\n",
      "\n",
      "                 0  0.98 : [0.94,1.00] 1.00 : [0.96,1.00]\n",
      "                 1  0.70 : [0.33,1.00] 0.36 : [0.09,0.62]\n",
      "\n",
      "          accuracy                                        0.98 : [0.94,1.00]\n",
      "\n",
      "['0.94,1.00', '0.96,1.00', '0.33,1.00', '0.09,0.62', '0.94,1.00']\n",
      "[(0.94, 1.0), (0.96, 1.0), (0.33, 1.0), (0.09, 0.62), (0.94, 1.0)]\n"
     ]
    }
   ],
   "source": [
    "\n",
    "# Part 3\n",
    "\n",
    "# Compute precision and recall on the test set using \n",
    "from Utils import classification_report_interval\n",
    "\n",
    "Y_pred=model.predict(X_test)\n",
    "\n",
    "# Each precision and recall should be a tuple, for instance you can write\n",
    "# precision0 = (0.9,0.95)\n",
    "#Use the classification report from `Utils` and compute the intervals for precision-recall etc on the test set with `union_bound correction` with 95% confidence. alpha = 1-0.95 = 0.05\n",
    "rp=classification_report_interval(y_true=Y_test,y_pred=Y_pred, labels=[0,1],alpha=0.05)\n",
    "print(rp)\n",
    "\n",
    "import re\n",
    "\n",
    "#regex找到[]中的内容\n",
    "pattern=re.compile(r'\\[(.*?)\\]')\n",
    "#找到所有的内容\n",
    "result=pattern.findall(str(rp))\n",
    "print(result)\n",
    "#把所有的内容转换成float元组\n",
    "result=[tuple(map(float,i.split(','))) for i in result]\n",
    "print(result)\n",
    "precision0 = result[0]\n",
    "recall0 = result[1]\n",
    "precision1 = result[2]\n",
    "recall1 = result[3]\n",
    "\n",
    "# # The code below will check that you supply the proper type\n",
    "assert(type(precision0) == tuple)\n",
    "assert(len(precision0) == 2)\n",
    "assert(type(recall0) == tuple)\n",
    "assert(len(recall0) == 2)\n",
    "assert(type(precision1) == tuple)\n",
    "assert(len(precision1) == 2)\n",
    "assert(type(recall1) == tuple)\n",
    "assert(len(recall1) == 2)"
   ]
  },
  {
   "cell_type": "code",
   "execution_count": 4,
   "id": "4350d7a3",
   "metadata": {
    "deletable": false,
    "execution": {
     "iopub.execute_input": "2024-01-03T06:10:38.316566Z",
     "iopub.status.busy": "2024-01-03T06:10:38.316124Z",
     "iopub.status.idle": "2024-01-03T06:10:38.324292Z",
     "shell.execute_reply": "2024-01-03T06:10:38.323307Z"
    },
    "lx_assignment_number": "4",
    "lx_assignment_type": "ASSIGNMENT",
    "lx_assignment_type2print": "Assignment",
    "lx_problem_cell_type": "PROBLEM",
    "lx_problem_number": "1",
    "lx_problem_points": "24"
   },
   "outputs": [],
   "source": [
    "\n",
    "# Part 4\n",
    "# 4. [3p] You are interested in minimizing the average cost of your classifier, but first we must define it:\n",
    "#     * If someone is calcified but classified as not, we say it costs 30 **(this is the worst scenario)** \n",
    "#     * If someone is not calcified but classified as calcified, we say it costs 5 **(this probably only costs extra investigation)**\n",
    "#     * If someone is calcified but classified as calcified, costs 0 **(We did the right thing, no cost)**\n",
    "#     * If someone is not calcified but classified as not, costs 0 **(We did the right thing, no cost)**.\n",
    "\n",
    "# complete filling the function `cost` to compute the cost of a prediction model under a certain prediction threshold (recall our precision recall lecture and the `predict_proba` function from trained models). \n",
    "# \n",
    "# What would be the cost of having a model that always classifies someone as not calcified on the test set?\n",
    "# threshold=0.9?\n",
    "\n",
    "\n",
    "def cost(model,threshold,X,Y):\n",
    "    pred_proba = model.predict_proba(X)[:,1]#model.predict_proba(X)计算出来的是一个二维数组，第一列是0的概率，第二列是1的概率，[:,1]取第二列\n",
    "    predictions = (pred_proba >= threshold)*1#计算出来的是一个bool值，转换成0，1\n",
    "    #     * If someone is calcified but classified as not, we say it costs 30 **(this is the worst scenario)** \n",
    "#     * If someone is not calcified but classified as calcified, we say it costs 5 **(this probably only costs extra investigation)**\n",
    "\n",
    "\n",
    "    false_negatives = (Y == 1) & (predictions == 0)\n",
    "    false_positives = (Y == 0) & (predictions == 1)\n",
    "    cost = (30 * false_negatives.sum() + 5 * false_positives.sum()) / len(Y)\n",
    "    # Fill in what is missing to compute the cost and return it\n",
    "    # Note that we are interested in average cost (cost per person)\n",
    "    \n",
    "    return cost.mean()"
   ]
  },
  {
   "cell_type": "code",
   "execution_count": 5,
   "id": "8deed082",
   "metadata": {
    "deletable": false,
    "execution": {
     "iopub.execute_input": "2024-01-03T06:10:38.330078Z",
     "iopub.status.busy": "2024-01-03T06:10:38.328332Z",
     "iopub.status.idle": "2024-01-03T06:10:38.339679Z",
     "shell.execute_reply": "2024-01-03T06:10:38.336609Z"
    },
    "lx_assignment_number": "4",
    "lx_assignment_type": "ASSIGNMENT",
    "lx_assignment_type2print": "Assignment",
    "lx_problem_cell_type": "PROBLEM",
    "lx_problem_number": "1",
    "lx_problem_points": "24"
   },
   "outputs": [],
   "source": [
    "\n",
    "# Part 4\n",
    "\n",
    "# Fill in the naive cost of the model that would classify all as non-calcified on the test set\n",
    "\n",
    "naive_cost = cost(model,1,X_test,Y_test)\n",
    "#print(naive_cost)"
   ]
  },
  {
   "cell_type": "code",
   "execution_count": 6,
   "id": "5db88847",
   "metadata": {
    "deletable": false,
    "execution": {
     "iopub.execute_input": "2024-01-03T06:10:38.346009Z",
     "iopub.status.busy": "2024-01-03T06:10:38.344527Z",
     "iopub.status.idle": "2024-01-03T06:10:38.411888Z",
     "shell.execute_reply": "2024-01-03T06:10:38.411250Z"
    },
    "lx_assignment_number": "4",
    "lx_assignment_type": "ASSIGNMENT",
    "lx_assignment_type2print": "Assignment",
    "lx_problem_cell_type": "PROBLEM",
    "lx_problem_number": "1",
    "lx_problem_points": "24"
   },
   "outputs": [],
   "source": [
    "\n",
    "# Part 5\n",
    "# 5. [4p] Now, we wish to select the threshold of our classifier that minimizes the cost, we do that by checking say 100 evenly spaced proposal thresholds between 0 and 1, and use our testing data to compute the cost.\n",
    "thresholds = np.linspace(0, 1, 100)\n",
    "costs=[cost(model,t,X_test,Y_test) for t in thresholds]\n",
    "cost_at_optimal_threshold = min(costs)\n",
    "optimal_threshold = thresholds[np.argmin(costs)]\n",
    "\n",
    "#print(optimal_threshold,cost_at_optimal_threshold)"
   ]
  },
  {
   "cell_type": "code",
   "execution_count": 7,
   "id": "6c91cd38",
   "metadata": {
    "deletable": false,
    "execution": {
     "iopub.execute_input": "2024-01-03T06:10:38.417458Z",
     "iopub.status.busy": "2024-01-03T06:10:38.415889Z",
     "iopub.status.idle": "2024-01-03T06:10:38.428574Z",
     "shell.execute_reply": "2024-01-03T06:10:38.427800Z"
    },
    "lx_assignment_number": "4",
    "lx_assignment_type": "ASSIGNMENT",
    "lx_assignment_type2print": "Assignment",
    "lx_problem_cell_type": "PROBLEM",
    "lx_problem_number": "1",
    "lx_problem_points": "24"
   },
   "outputs": [],
   "source": [
    "\n",
    "# Part 6\n",
    "import math\n",
    "from Utils import epsilon_bounded\n",
    "cost_at_optimal_threshold_validation = cost(model,optimal_threshold,X_valid,Y_valid)\n",
    "n = len(Y_valid)\n",
    "# Report the cost interval as a tuple cost_interval = (a,b)\n",
    "import Utils#老师的代码有问题别用\n",
    "# bound=Utils.compute_confidence_interval_bounded(Y_valid,0.05)\n",
    "# cost_interval_e = math.sqrt(1/(2*len(Y_valid))*math.log(2/0.05))\n",
    "cost_interval_e = epsilon_bounded (n,30,0.05)\n",
    "\n",
    "cost_interval=(max(0,cost_at_optimal_threshold_validation-cost_interval_e),cost_at_optimal_threshold_validation+cost_interval_e)\n",
    "#print(cost_interval)\n",
    "#print(cost_at_optimal_threshold_validation)\n",
    "# print(bound)\n",
    "# The code below will tell you if you filled in the intervals correctly\n",
    "assert(type(cost_interval) == tuple)\n",
    "assert(len(cost_interval) == 2)"
   ]
  },
  {
   "cell_type": "code",
   "execution_count": 8,
   "id": "5570c418",
   "metadata": {
    "deletable": false,
    "execution": {
     "iopub.execute_input": "2024-01-03T06:10:38.435108Z",
     "iopub.status.busy": "2024-01-03T06:10:38.433711Z",
     "iopub.status.idle": "2024-01-03T06:10:38.443743Z",
     "shell.execute_reply": "2024-01-03T06:10:38.443004Z"
    },
    "lx_assignment_number": "4",
    "lx_assignment_type": "ASSIGNMENT",
    "lx_assignment_type2print": "Assignment",
    "lx_problem_cell_type": "PROBLEM",
    "lx_problem_number": "1",
    "lx_problem_points": "24"
   },
   "outputs": [],
   "source": [
    "\n",
    "# Part 7\n",
    "\n",
    "\n",
    "C = 30 * (1 - (model.predict_proba(X_valid)[:, 1] >= optimal_threshold)) * Y_valid + 5 * (1 - Y_valid) * (model.predict_proba(X_valid)[:, 1] >= optimal_threshold)\n",
    "variance_of_C = np.var(C)\n",
    "#variance_of_C\n"
   ]
  },
  {
   "cell_type": "code",
   "execution_count": 9,
   "id": "5d3cfb2e",
   "metadata": {
    "deletable": false,
    "execution": {
     "iopub.execute_input": "2024-01-03T06:10:38.449005Z",
     "iopub.status.busy": "2024-01-03T06:10:38.447657Z",
     "iopub.status.idle": "2024-01-03T06:10:38.458923Z",
     "shell.execute_reply": "2024-01-03T06:10:38.458268Z"
    },
    "lx_assignment_number": "4",
    "lx_assignment_type": "ASSIGNMENT",
    "lx_assignment_type2print": "Assignment",
    "lx_problem_cell_type": "PROBLEM",
    "lx_problem_number": "1",
    "lx_problem_points": "24"
   },
   "outputs": [
    {
     "name": "stdout",
     "output_type": "stream",
     "text": [
      "Numerical error -1.1102230246251565e-16\n"
     ]
    }
   ],
   "source": [
    "\n",
    "# Part 7\n",
    "\n",
    "# A 95% confidence interval of the random variable C using Bennett's inequality\n",
    "#实现Bennett不等式\n",
    "from Utils import bennett_epsilon\n",
    "\n",
    "\n",
    "n = len(Y_valid)\n",
    "b=30\n",
    "alpha=0.05\n",
    "sigma = np.sqrt(variance_of_C)\n",
    "eps=bennett_epsilon(n,b,sigma,alpha)\n",
    "interval_of_C=(max(0,np.mean(C)-eps),np.mean(C)+eps)\n",
    "\n",
    "assert(type(interval_of_C) == tuple)\n",
    "assert(len(interval_of_C) == 2)\n",
    "# print(interval_of_C)\n",
    "# print(variance_of_C)\n",
    "# print(eps)"
   ]
  },
  {
   "cell_type": "code",
   "execution_count": 10,
   "id": "8ebca48a",
   "metadata": {
    "deletable": false,
    "execution": {
     "iopub.execute_input": "2024-01-03T06:10:38.464688Z",
     "iopub.status.busy": "2024-01-03T06:10:38.463263Z",
     "iopub.status.idle": "2024-01-03T06:10:39.409307Z",
     "shell.execute_reply": "2024-01-03T06:10:39.408423Z"
    },
    "lx_assignment_number": "4",
    "lx_assignment_type": "ASSIGNMENT",
    "lx_assignment_type2print": "Assignment",
    "lx_problem_cell_type": "TEST",
    "lx_problem_number": "1",
    "lx_problem_points": "24",
    "lx_test_only": "True",
    "scrolled": false
   },
   "outputs": [
    {
     "name": "stdout",
     "output_type": "stream",
     "text": [
      "Numerical error -1.1102230246251565e-16\n",
      "Numerical error -1.1102230246251565e-16\n",
      "Beginning tests for problem 1\n",
      "\n",
      "---------------------------------\n",
      "Beginning test for part1\n",
      "---------------------------------\n",
      "\n",
      "-----Beginning test------\n",
      "Shape of X_train correct it is (6709,6)\n",
      "-----Ending test---------\n",
      "\n",
      "-----Beginning test------\n",
      "Shape of X_test correct it is (1677,6)\n",
      "-----Ending test---------\n",
      "\n",
      "-----Beginning test------\n",
      "Shape of X_valid correct it is (2797,6)\n",
      "-----Ending test---------\n",
      "\n",
      "-----Beginning test------\n",
      "Shape of Y_train correct it is (6709,)\n",
      "-----Ending test---------\n",
      "\n",
      "-----Beginning test------\n",
      "Shape of Y_test correct it is (1677,)\n",
      "-----Ending test---------\n",
      "\n",
      "-----Beginning test------\n",
      "Shape of Y_valid correct it is (2797,)\n",
      "-----Ending test---------\n",
      "\n",
      "---------------------------------\n",
      "Beginning test for part2\n",
      "---------------------------------\n",
      "\n",
      "-----Beginning test------\n",
      "Your model does produce the correct output shape when predict_proba is called on X_train\n",
      "-----Ending test---------\n",
      "\n",
      "-----Beginning test------\n",
      "Your model outperforms the naive classifier (always 0) on the trainig data, at least we learned something\n",
      "-----Ending test---------\n",
      "\n",
      "---------------------------------\n",
      "Beginning test for part3\n",
      "---------------------------------\n",
      "\n",
      "-----Beginning test------\n",
      "Setup for part 3 ran without issues\n",
      "-----Ending test---------\n",
      "\n",
      "-----Beginning test------\n",
      "precision0 lower edge correct\n",
      "-----Ending test---------\n",
      "\n",
      "-----Beginning test------\n",
      "precision0 upper edge correct\n",
      "-----Ending test---------\n",
      "\n",
      "-----Beginning test------\n",
      "precision1 lower edge correct\n",
      "-----Ending test---------\n",
      "\n",
      "-----Beginning test------\n",
      "precision1 upper edge correct\n",
      "-----Ending test---------\n",
      "\n",
      "-----Beginning test------\n",
      "recall0 lower edge correct\n",
      "-----Ending test---------\n",
      "\n",
      "-----Beginning test------\n",
      "recall0 upper edge correct\n",
      "-----Ending test---------\n",
      "\n",
      "-----Beginning test------\n",
      "recall1 lower edge correct\n",
      "-----Ending test---------\n",
      "\n",
      "-----Beginning test------\n",
      "recall1 upper edge correct\n",
      "-----Ending test---------\n",
      "\n",
      "---------------------------------\n",
      "Beginning test for part4\n",
      "---------------------------------\n",
      "\n",
      "-----Beginning test------\n",
      "Your cost function deviates less that 0.01 from a reference cost function on a test model at threshold 0.5\n",
      "-----Ending test---------\n",
      "\n",
      "-----Beginning test------\n",
      "Your naive cost is within 0.01 of 0.6976744186046512\n",
      "-----Ending test---------\n",
      "\n",
      "---------------------------------\n",
      "Beginning test for part5\n",
      "---------------------------------\n",
      "\n",
      "-----Beginning test------\n",
      "The cost at your optimal threshold is close enough to the minimum cost.\n",
      "-----Ending test---------\n",
      "\n",
      "-----Beginning test------\n",
      "Your cost at the optimal threshold was computed using your optimal threshold and your cost function and it agreed with your answer\n",
      "-----Ending test---------\n",
      "\n",
      "---------------------------------\n",
      "Beginning test for part6\n",
      "---------------------------------\n",
      "\n",
      "-----Beginning test------\n",
      "The cost at the optimal threshold validation agreed with the one computed using your model and cost function\n",
      "-----Ending test---------\n",
      "\n",
      "-----Beginning test------\n",
      "The lower edge of the cost_interval agreed with the one computed on your cost_at_optimal_threshold_validation\n",
      "-----Ending test---------\n",
      "\n",
      "-----Beginning test------\n",
      "The upper edge of the cost_interval agreed with the one computed on your cost_at_optimal_threshold_validation\n",
      "-----Ending test---------\n",
      "\n",
      "---------------------------------\n",
      "Beginning test for part7\n",
      "---------------------------------\n",
      "\n",
      "-----Beginning test------\n",
      "Your variance of C agreed with the reference within an error of 0.01\n",
      "-----Ending test---------\n",
      "\n",
      "-----Beginning test------\n",
      "The lower edge of the C interval agreed with reference within an error of 0.01\n",
      "-----Ending test---------\n",
      "\n",
      "-----Beginning test------\n",
      "The upper edge of the C interval agreed with reference within an error of 0.01\n",
      "-----Ending test---------\n",
      "\n",
      "\n",
      "All tests complete, you got = 24 points\n",
      "The number of points you have scored for this problem is 24 out of 24\n",
      " \n",
      " \n",
      " \n",
      "The number of points you have scored in total for this entire set of Problems is 24 out of 24\n"
     ]
    }
   ],
   "source": []
  }
 ],
 "metadata": {
  "kernelspec": {
   "display_name": "deeplearning",
   "language": "python",
   "name": "python3"
  },
  "language_info": {
   "codemirror_mode": {
    "name": "ipython",
    "version": 3
   },
   "file_extension": ".py",
   "mimetype": "text/x-python",
   "name": "python",
   "nbconvert_exporter": "python",
   "pygments_lexer": "ipython3",
   "version": "3.10.13"
  },
  "lx_assignment_number": 4,
  "lx_course_instance": "2023",
  "lx_course_name": "Introduction to Data Science",
  "lx_course_number": "1MS041"
 },
 "nbformat": 4,
 "nbformat_minor": 5
}
