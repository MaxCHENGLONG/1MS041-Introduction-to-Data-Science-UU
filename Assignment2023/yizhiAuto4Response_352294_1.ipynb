{
 "cells": [
  {
   "cell_type": "markdown",
   "id": "e1c4329b",
   "metadata": {
    "deletable": false
   },
   "source": [
    "# Assignment 4 for Course 1MS041\n",
    "Make         sure you pass the `# ... Test` cells and\n",
    " submit your solution notebook in the corresponding assignment on the course website. You can submit multiple times before the deadline         and your highest score will be used."
   ]
  },
  {
   "cell_type": "markdown",
   "id": "77d2cc7f",
   "metadata": {
    "deletable": false,
    "lx_assignment_number": "4",
    "lx_assignment_type": "ASSIGNMENT",
    "lx_assignment_type2print": "Assignment",
    "lx_problem_cell_type": "PROBLEM",
    "lx_problem_number": "1",
    "lx_problem_points": "24"
   },
   "source": [
    "---\n",
    "## Assignment 4, PROBLEM 1\n",
    "Maximum Points = 24"
   ]
  },
  {
   "cell_type": "markdown",
   "id": "49d0481c",
   "metadata": {
    "deletable": false,
    "lx_assignment_number": "4",
    "lx_assignment_type": "ASSIGNMENT",
    "lx_assignment_type2print": "Assignment",
    "lx_problem_cell_type": "PROBLEM",
    "lx_problem_number": "1",
    "lx_problem_points": "24"
   },
   "source": [
    "\n",
    "This time the assignment only consists of one problem, but we will do a more comprehensive analysis instead.\n",
    "\n",
    "Consider the dataset `mammography.mat` that you can download from [http://odds.cs.stonybrook.edu/mammography-dataset/](http://odds.cs.stonybrook.edu/mammography-dataset/). Below you can find the code to load this file into `X` and `Y`, you just need to put the file in your `data` folder. During mammography the doctor would be looking for something called `calcification`, which is calcium deposits in the breast tissue and is used as an indicator of cancer. In this dataset the `X` corresponds to some measurements, there are 6 features. The `Y` is a 0-1 label where 1 represents calcification and 0 does not.\n",
    "\n",
    "1. [3p] Split the data into three parts, train/test/validation where train is 60% of the data, test is 15% and validation is 25% of the data. Do not do this randomly, I have prepared a shuffling with a fixed seed, this way I can make sure that we all did the same splits. That is [train,test,validation] is the splitting layout.\n",
    "2. [4p] Train a machine learning model on the training data (you are free to choose it yourself). Hint: you could always try `LogisticRegression`, but for it to work well you would need `StandardScaler` and put everything in a `Pipeline`.\n",
    "3. [3p] Use the classification report from `Utils` and compute the intervals for precision-recall etc on the test set with `union_bound correction` with 95% confidence.\n",
    "4. [3p] You are interested in minimizing the average cost of your classifier, but first we must define it:\n",
    "    * If someone is calcified but classified as not, we say it costs 30 **(this is the worst scenario)** \n",
    "    * If someone is not calcified but classified as calcified, we say it costs 5 **(this probably only costs extra investigation)**\n",
    "    * If someone is calcified but classified as calcified, costs 0 **(We did the right thing, no cost)**\n",
    "    * If someone is not calcified but classified as not, costs 0 **(We did the right thing, no cost)**.\n",
    "\n",
    "complete filling the function `cost` to compute the cost of a prediction model under a certain prediction threshold (recall our precision recall lecture and the `predict_proba` function from trained models). What would be the cost of having a model that always classifies someone as not calcified on the test set?\n",
    "\n",
    "5. [4p] Now, we wish to select the threshold of our classifier that minimizes the cost, we do that by checking say 100 evenly spaced proposal thresholds between 0 and 1, and use our testing data to compute the cost.\n",
    "6. [4p] With your newly computed threshold value, compute the cost of putting this model in production by computing the cost using the validation data. Also provide a confidence interval of the cost using Hoeffdings inequality with a 95% confidence.\n",
    "7. [3p] Let $t$ be the threshold you found and $f$ the model you fitted, if we define the random variable\n",
    "$$\n",
    "    C = 30(1-1_{f(X)\\geq t})Y+5(1-Y)1_{f(X) \\geq t}\n",
    "$$\n",
    "then $C$ denotes the cost of a randomly chosen patient. In the above we are estimating $\\mathbb{E}[C]$ using the empirical mean. However, since the number of calcifications in the population is fairly small and our classifier probably has a fairly high precision for the $0$ class, then $C$ should have fairly small variance. Compute the empirical variance of $C$ on the validation set. What would be the confidence interval if we used Bennett's inequality instead of Hoeffding in point 6 but with the computed empirical variance as our guess for the variance?"
   ]
  },
  {
   "cell_type": "code",
   "execution_count": 1,
   "id": "4dc33ff3",
   "metadata": {
    "deletable": false,
    "execution": {
     "iopub.execute_input": "2023-12-15T15:10:01.565461Z",
     "iopub.status.busy": "2023-12-15T15:10:01.564169Z",
     "iopub.status.idle": "2023-12-15T15:10:01.788678Z",
     "shell.execute_reply": "2023-12-15T15:10:01.787892Z"
    },
    "lx_assignment_number": "4",
    "lx_assignment_type": "ASSIGNMENT",
    "lx_assignment_type2print": "Assignment",
    "lx_problem_cell_type": "PROBLEM",
    "lx_problem_number": "1",
    "lx_problem_points": "24"
   },
   "outputs": [],
   "source": [
    "import scipy.io as so\n",
    "import numpy as np\n",
    "data = so.loadmat('data/mammography.mat')\n",
    "\n",
    "np.random.seed(0)\n",
    "shuffle_index = np.arange(0,len(data['X']))\n",
    "np.random.shuffle(shuffle_index)\n",
    "\n",
    "X = data['X'][shuffle_index,:]\n",
    "Y = data['y'][shuffle_index,:].flatten()\n",
    "\n",
    "# Part 1\n",
    "\n",
    "# Split the X,Y into three parts, make sure that the sizes are\n",
    "# (6709, 6), (1677, 6), (2797, 6), (6709,), (1677,), (2797,)\n",
    "\n",
    "X_train, X_test, X_valid, Y_train, Y_test, Y_valid = X[:6709,:], X[6709:8386,:], X[8386:,:], Y[:6709], Y[6709:8386], Y[8386:]\n"
   ]
  },
  {
   "cell_type": "code",
   "execution_count": null,
   "id": "0ea1bbbf",
   "metadata": {},
   "outputs": [],
   "source": [
    "!pip install regex"
   ]
  },
  {
   "cell_type": "code",
   "execution_count": 2,
   "id": "bee2976a",
   "metadata": {
    "deletable": false,
    "execution": {
     "iopub.execute_input": "2023-12-15T15:10:01.792596Z",
     "iopub.status.busy": "2023-12-15T15:10:01.792147Z",
     "iopub.status.idle": "2023-12-15T15:10:02.307528Z",
     "shell.execute_reply": "2023-12-15T15:10:02.306307Z"
    },
    "lx_assignment_number": "4",
    "lx_assignment_type": "ASSIGNMENT",
    "lx_assignment_type2print": "Assignment",
    "lx_problem_cell_type": "PROBLEM",
    "lx_problem_number": "1",
    "lx_problem_points": "24"
   },
   "outputs": [
    {
     "data": {
      "text/html": [
       "<style>#sk-container-id-1 {color: black;background-color: white;}#sk-container-id-1 pre{padding: 0;}#sk-container-id-1 div.sk-toggleable {background-color: white;}#sk-container-id-1 label.sk-toggleable__label {cursor: pointer;display: block;width: 100%;margin-bottom: 0;padding: 0.3em;box-sizing: border-box;text-align: center;}#sk-container-id-1 label.sk-toggleable__label-arrow:before {content: \"▸\";float: left;margin-right: 0.25em;color: #696969;}#sk-container-id-1 label.sk-toggleable__label-arrow:hover:before {color: black;}#sk-container-id-1 div.sk-estimator:hover label.sk-toggleable__label-arrow:before {color: black;}#sk-container-id-1 div.sk-toggleable__content {max-height: 0;max-width: 0;overflow: hidden;text-align: left;background-color: #f0f8ff;}#sk-container-id-1 div.sk-toggleable__content pre {margin: 0.2em;color: black;border-radius: 0.25em;background-color: #f0f8ff;}#sk-container-id-1 input.sk-toggleable__control:checked~div.sk-toggleable__content {max-height: 200px;max-width: 100%;overflow: auto;}#sk-container-id-1 input.sk-toggleable__control:checked~label.sk-toggleable__label-arrow:before {content: \"▾\";}#sk-container-id-1 div.sk-estimator input.sk-toggleable__control:checked~label.sk-toggleable__label {background-color: #d4ebff;}#sk-container-id-1 div.sk-label input.sk-toggleable__control:checked~label.sk-toggleable__label {background-color: #d4ebff;}#sk-container-id-1 input.sk-hidden--visually {border: 0;clip: rect(1px 1px 1px 1px);clip: rect(1px, 1px, 1px, 1px);height: 1px;margin: -1px;overflow: hidden;padding: 0;position: absolute;width: 1px;}#sk-container-id-1 div.sk-estimator {font-family: monospace;background-color: #f0f8ff;border: 1px dotted black;border-radius: 0.25em;box-sizing: border-box;margin-bottom: 0.5em;}#sk-container-id-1 div.sk-estimator:hover {background-color: #d4ebff;}#sk-container-id-1 div.sk-parallel-item::after {content: \"\";width: 100%;border-bottom: 1px solid gray;flex-grow: 1;}#sk-container-id-1 div.sk-label:hover label.sk-toggleable__label {background-color: #d4ebff;}#sk-container-id-1 div.sk-serial::before {content: \"\";position: absolute;border-left: 1px solid gray;box-sizing: border-box;top: 0;bottom: 0;left: 50%;z-index: 0;}#sk-container-id-1 div.sk-serial {display: flex;flex-direction: column;align-items: center;background-color: white;padding-right: 0.2em;padding-left: 0.2em;position: relative;}#sk-container-id-1 div.sk-item {position: relative;z-index: 1;}#sk-container-id-1 div.sk-parallel {display: flex;align-items: stretch;justify-content: center;background-color: white;position: relative;}#sk-container-id-1 div.sk-item::before, #sk-container-id-1 div.sk-parallel-item::before {content: \"\";position: absolute;border-left: 1px solid gray;box-sizing: border-box;top: 0;bottom: 0;left: 50%;z-index: -1;}#sk-container-id-1 div.sk-parallel-item {display: flex;flex-direction: column;z-index: 1;position: relative;background-color: white;}#sk-container-id-1 div.sk-parallel-item:first-child::after {align-self: flex-end;width: 50%;}#sk-container-id-1 div.sk-parallel-item:last-child::after {align-self: flex-start;width: 50%;}#sk-container-id-1 div.sk-parallel-item:only-child::after {width: 0;}#sk-container-id-1 div.sk-dashed-wrapped {border: 1px dashed gray;margin: 0 0.4em 0.5em 0.4em;box-sizing: border-box;padding-bottom: 0.4em;background-color: white;}#sk-container-id-1 div.sk-label label {font-family: monospace;font-weight: bold;display: inline-block;line-height: 1.2em;}#sk-container-id-1 div.sk-label-container {text-align: center;}#sk-container-id-1 div.sk-container {/* jupyter's `normalize.less` sets `[hidden] { display: none; }` but bootstrap.min.css set `[hidden] { display: none !important; }` so we also need the `!important` here to be able to override the default hidden behavior on the sphinx rendered scikit-learn.org. See: https://github.com/scikit-learn/scikit-learn/issues/21755 */display: inline-block !important;position: relative;}#sk-container-id-1 div.sk-text-repr-fallback {display: none;}</style><div id=\"sk-container-id-1\" class=\"sk-top-container\"><div class=\"sk-text-repr-fallback\"><pre>Pipeline(steps=[(&#x27;scaler&#x27;, StandardScaler()),\n",
       "                (&#x27;log_reg&#x27;, LogisticRegression())])</pre><b>In a Jupyter environment, please rerun this cell to show the HTML representation or trust the notebook. <br />On GitHub, the HTML representation is unable to render, please try loading this page with nbviewer.org.</b></div><div class=\"sk-container\" hidden><div class=\"sk-item sk-dashed-wrapped\"><div class=\"sk-label-container\"><div class=\"sk-label sk-toggleable\"><input class=\"sk-toggleable__control sk-hidden--visually\" id=\"sk-estimator-id-1\" type=\"checkbox\" ><label for=\"sk-estimator-id-1\" class=\"sk-toggleable__label sk-toggleable__label-arrow\">Pipeline</label><div class=\"sk-toggleable__content\"><pre>Pipeline(steps=[(&#x27;scaler&#x27;, StandardScaler()),\n",
       "                (&#x27;log_reg&#x27;, LogisticRegression())])</pre></div></div></div><div class=\"sk-serial\"><div class=\"sk-item\"><div class=\"sk-estimator sk-toggleable\"><input class=\"sk-toggleable__control sk-hidden--visually\" id=\"sk-estimator-id-2\" type=\"checkbox\" ><label for=\"sk-estimator-id-2\" class=\"sk-toggleable__label sk-toggleable__label-arrow\">StandardScaler</label><div class=\"sk-toggleable__content\"><pre>StandardScaler()</pre></div></div></div><div class=\"sk-item\"><div class=\"sk-estimator sk-toggleable\"><input class=\"sk-toggleable__control sk-hidden--visually\" id=\"sk-estimator-id-3\" type=\"checkbox\" ><label for=\"sk-estimator-id-3\" class=\"sk-toggleable__label sk-toggleable__label-arrow\">LogisticRegression</label><div class=\"sk-toggleable__content\"><pre>LogisticRegression()</pre></div></div></div></div></div></div></div>"
      ],
      "text/plain": [
       "Pipeline(steps=[('scaler', StandardScaler()),\n",
       "                ('log_reg', LogisticRegression())])"
      ]
     },
     "execution_count": 2,
     "metadata": {},
     "output_type": "execute_result"
    }
   ],
   "source": [
    "\n",
    "# Part 2\n",
    "# Use X_train,Y_train to train a model from sklearn. Make sure it has the predict_proba function\n",
    "# for instance LogisticRegression\n",
    "# write everything in a pipeline\n",
    "\n",
    "#import logisticregression\n",
    "from sklearn.linear_model import LogisticRegression\n",
    "from sklearn.pipeline import Pipeline\n",
    "from sklearn.preprocessing import StandardScaler\n",
    "\n",
    "model = Pipeline([\n",
    "    ('scaler', StandardScaler()),\n",
    "    ('log_reg', LogisticRegression())\n",
    "])\n",
    "model.fit(X_train, Y_train)"
   ]
  },
  {
   "cell_type": "code",
   "execution_count": 3,
   "id": "ee8cbeda",
   "metadata": {
    "deletable": false,
    "execution": {
     "iopub.execute_input": "2023-12-15T15:10:02.315804Z",
     "iopub.status.busy": "2023-12-15T15:10:02.314321Z",
     "iopub.status.idle": "2023-12-15T15:10:03.053768Z",
     "shell.execute_reply": "2023-12-15T15:10:03.052902Z"
    },
    "lx_assignment_number": "4",
    "lx_assignment_type": "ASSIGNMENT",
    "lx_assignment_type2print": "Assignment",
    "lx_problem_cell_type": "PROBLEM",
    "lx_problem_number": "1",
    "lx_problem_points": "24"
   },
   "outputs": [
    {
     "name": "stdout",
     "output_type": "stream",
     "text": [
      "            labels           precision             recall\n",
      "\n",
      "                 0  0.98 : [0.94,1.00] 1.00 : [0.96,1.00]\n",
      "                 1  0.70 : [0.33,1.00] 0.36 : [0.09,0.62]\n",
      "\n",
      "          accuracy                                        0.98 : [0.94,1.00]\n",
      "\n"
     ]
    },
    {
     "ename": "ModuleNotFoundError",
     "evalue": "No module named 'regex'",
     "output_type": "error",
     "traceback": [
      "\u001b[0;31m---------------------------------------------------------------------------\u001b[0m",
      "\u001b[0;31mModuleNotFoundError\u001b[0m                       Traceback (most recent call last)",
      "Input \u001b[0;32mIn [3]\u001b[0m, in \u001b[0;36m<cell line: 14>\u001b[0;34m()\u001b[0m\n\u001b[1;32m     11\u001b[0m rp\u001b[38;5;241m=\u001b[39mclassification_report_interval(y_true\u001b[38;5;241m=\u001b[39mY_test,y_pred\u001b[38;5;241m=\u001b[39mY_pred, labels\u001b[38;5;241m=\u001b[39m[\u001b[38;5;241m0\u001b[39m,\u001b[38;5;241m1\u001b[39m],alpha\u001b[38;5;241m=\u001b[39m\u001b[38;5;241m0.05\u001b[39m)\n\u001b[1;32m     12\u001b[0m \u001b[38;5;28mprint\u001b[39m(rp)\n\u001b[0;32m---> 14\u001b[0m \u001b[38;5;28;01mimport\u001b[39;00m \u001b[38;5;21;01mregex\u001b[39;00m \u001b[38;5;28;01mas\u001b[39;00m \u001b[38;5;21;01mre\u001b[39;00m\n\u001b[1;32m     16\u001b[0m \u001b[38;5;66;03m#regex找到[]中的内容\u001b[39;00m\n\u001b[1;32m     17\u001b[0m pattern\u001b[38;5;241m=\u001b[39mre\u001b[38;5;241m.\u001b[39mcompile(\u001b[38;5;124mr\u001b[39m\u001b[38;5;124m'\u001b[39m\u001b[38;5;124m\\\u001b[39m\u001b[38;5;124m[(.*?)\u001b[39m\u001b[38;5;124m\\\u001b[39m\u001b[38;5;124m]\u001b[39m\u001b[38;5;124m'\u001b[39m)\n",
      "\u001b[0;31mModuleNotFoundError\u001b[0m: No module named 'regex'"
     ]
    }
   ],
   "source": [
    "\n",
    "# Part 3\n",
    "\n",
    "# Compute precision and recall on the test set using \n",
    "from Utils import classification_report_interval\n",
    "\n",
    "Y_pred=model.predict(X_test)\n",
    "\n",
    "# Each precision and recall should be a tuple, for instance you can write\n",
    "# precision0 = (0.9,0.95)\n",
    "#Use the classification report from `Utils` and compute the intervals for precision-recall etc on the test set with `union_bound correction` with 95% confidence.\n",
    "rp=classification_report_interval(y_true=Y_test,y_pred=Y_pred, labels=[0,1],alpha=0.05)\n",
    "print(rp)\n",
    "\n",
    "import regex as re\n",
    "\n",
    "#regex找到[]中的内容\n",
    "pattern=re.compile(r'\\[(.*?)\\]')\n",
    "#找到所有的内容\n",
    "result=pattern.findall(str(rp))\n",
    "print(result)\n",
    "#把所有的内容转换成float元组\n",
    "result=[tuple(map(float,i.split(','))) for i in result]\n",
    "print(result)\n",
    "precision0 = result[0]\n",
    "recall0 = result[1]\n",
    "precision1 = result[2]\n",
    "recall1 = result[3]\n",
    "\n",
    "# # The code below will check that you supply the proper type\n",
    "assert(type(precision0) == tuple)\n",
    "assert(len(precision0) == 2)\n",
    "assert(type(recall0) == tuple)\n",
    "assert(len(recall0) == 2)\n",
    "assert(type(precision1) == tuple)\n",
    "assert(len(precision1) == 2)\n",
    "assert(type(recall1) == tuple)\n",
    "assert(len(recall1) == 2)"
   ]
  },
  {
   "cell_type": "code",
   "execution_count": 4,
   "id": "a6a635af",
   "metadata": {
    "deletable": false,
    "execution": {
     "iopub.execute_input": "2023-12-15T15:10:03.058415Z",
     "iopub.status.busy": "2023-12-15T15:10:03.058032Z",
     "iopub.status.idle": "2023-12-15T15:10:03.065024Z",
     "shell.execute_reply": "2023-12-15T15:10:03.064151Z"
    },
    "lx_assignment_number": "4",
    "lx_assignment_type": "ASSIGNMENT",
    "lx_assignment_type2print": "Assignment",
    "lx_problem_cell_type": "PROBLEM",
    "lx_problem_number": "1",
    "lx_problem_points": "24"
   },
   "outputs": [],
   "source": [
    "\n",
    "# Part 4\n",
    "# 4. [3p] You are interested in minimizing the average cost of your classifier, but first we must define it:\n",
    "#     * If someone is calcified but classified as not, we say it costs 30 **(this is the worst scenario)** \n",
    "#     * If someone is not calcified but classified as calcified, we say it costs 5 **(this probably only costs extra investigation)**\n",
    "#     * If someone is calcified but classified as calcified, costs 0 **(We did the right thing, no cost)**\n",
    "#     * If someone is not calcified but classified as not, costs 0 **(We did the right thing, no cost)**.\n",
    "\n",
    "# complete filling the function `cost` to compute the cost of a prediction model under a certain prediction threshold (recall our precision recall lecture and the `predict_proba` function from trained models). \n",
    "# \n",
    "# What would be the cost of having a model that always classifies someone as not calcified on the test set?\n",
    "# threshold=0.9?\n",
    "\n",
    "\n",
    "def cost(model,threshold,X,Y):\n",
    "    pred_proba = model.predict_proba(X)[:,1]#model.predict_proba(X)计算出来的是一个二维数组，第一列是0的概率，第二列是1的概率，[:,1]取第二列\n",
    "    predictions = (pred_proba >= threshold)*1#计算出来的是一个bool值，转换成0，1\n",
    "    #     * If someone is calcified but classified as not, we say it costs 30 **(this is the worst scenario)** \n",
    "#     * If someone is not calcified but classified as calcified, we say it costs 5 **(this probably only costs extra investigation)**\n",
    "\n",
    "\n",
    "    false_negatives = (Y == 1) & (predictions == 0)\n",
    "    false_positives = (Y == 0) & (predictions == 1)\n",
    "    cost = (30 * false_negatives.sum() + 5 * false_positives.sum()) / len(Y)\n",
    "    # Fill in what is missing to compute the cost and return it\n",
    "    # Note that we are interested in average cost (cost per person)\n",
    "    \n",
    "    return cost.mean()"
   ]
  },
  {
   "cell_type": "code",
   "execution_count": 5,
   "id": "09c30366",
   "metadata": {
    "deletable": false,
    "execution": {
     "iopub.execute_input": "2023-12-15T15:10:03.068496Z",
     "iopub.status.busy": "2023-12-15T15:10:03.068157Z",
     "iopub.status.idle": "2023-12-15T15:10:03.074190Z",
     "shell.execute_reply": "2023-12-15T15:10:03.073323Z"
    },
    "lx_assignment_number": "4",
    "lx_assignment_type": "ASSIGNMENT",
    "lx_assignment_type2print": "Assignment",
    "lx_problem_cell_type": "PROBLEM",
    "lx_problem_number": "1",
    "lx_problem_points": "24"
   },
   "outputs": [
    {
     "name": "stdout",
     "output_type": "stream",
     "text": [
      "0.6976744186046512\n"
     ]
    }
   ],
   "source": [
    "\n",
    "# Part 4\n",
    "\n",
    "# Fill in the naive cost of the model that would classify all as non-calcified on the test set\n",
    "\n",
    "naive_cost = cost(model,1,X_test,Y_test)\n",
    "print(naive_cost)"
   ]
  },
  {
   "cell_type": "code",
   "execution_count": 6,
   "id": "eda7de85",
   "metadata": {
    "deletable": false,
    "execution": {
     "iopub.execute_input": "2023-12-15T15:10:03.081534Z",
     "iopub.status.busy": "2023-12-15T15:10:03.080865Z",
     "iopub.status.idle": "2023-12-15T15:10:03.168296Z",
     "shell.execute_reply": "2023-12-15T15:10:03.167069Z"
    },
    "lx_assignment_number": "4",
    "lx_assignment_type": "ASSIGNMENT",
    "lx_assignment_type2print": "Assignment",
    "lx_problem_cell_type": "PROBLEM",
    "lx_problem_number": "1",
    "lx_problem_points": "24"
   },
   "outputs": [
    {
     "name": "stdout",
     "output_type": "stream",
     "text": [
      "0.11111111111111112 0.3518187239117472\n"
     ]
    }
   ],
   "source": [
    "\n",
    "# Part 5\n",
    "# 5. [4p] Now, we wish to select the threshold of our classifier that minimizes the cost, we do that by checking say 100 evenly spaced proposal thresholds between 0 and 1, and use our testing data to compute the cost.\n",
    "thresholds = np.linspace(0, 1, 100)\n",
    "costs=[cost(model,t,X_test,Y_test) for t in thresholds]\n",
    "cost_at_optimal_threshold = min(costs)\n",
    "optimal_threshold = thresholds[np.argmin(costs)]\n",
    "\n",
    "print(optimal_threshold,cost_at_optimal_threshold)"
   ]
  },
  {
   "cell_type": "code",
   "execution_count": 7,
   "id": "96b04492",
   "metadata": {
    "deletable": false,
    "execution": {
     "iopub.execute_input": "2023-12-15T15:10:03.174626Z",
     "iopub.status.busy": "2023-12-15T15:10:03.173820Z",
     "iopub.status.idle": "2023-12-15T15:10:03.190231Z",
     "shell.execute_reply": "2023-12-15T15:10:03.189027Z"
    },
    "lx_assignment_number": "4",
    "lx_assignment_type": "ASSIGNMENT",
    "lx_assignment_type2print": "Assignment",
    "lx_problem_cell_type": "PROBLEM",
    "lx_problem_number": "1",
    "lx_problem_points": "24"
   },
   "outputs": [
    {
     "name": "stdout",
     "output_type": "stream",
     "text": [
      "(0.26570415858431456, 0.3170630920413558)\n",
      "0.2913836253128352\n"
     ]
    }
   ],
   "source": [
    "\n",
    "# Part 6\n",
    "import math\n",
    "cost_at_optimal_threshold_validation = cost(model,optimal_threshold,X_valid,Y_valid)\n",
    "# Report the cost interval as a tuple cost_interval = (a,b)\n",
    "cost_interval_e = math.sqrt(1/(2*len(Y_valid))*math.log(2/0.05))\n",
    "cost_interval=(max(0,cost_at_optimal_threshold_validation-cost_interval_e),cost_at_optimal_threshold_validation+cost_interval_e)\n",
    "print(cost_interval)\n",
    "print(cost_at_optimal_threshold_validation)\n",
    "# The code below will tell you if you filled in the intervals correctly\n",
    "assert(type(cost_interval) == tuple)\n",
    "assert(len(cost_interval) == 2)"
   ]
  },
  {
   "cell_type": "code",
   "execution_count": 8,
   "id": "4815f593",
   "metadata": {
    "deletable": false,
    "execution": {
     "iopub.execute_input": "2023-12-15T15:10:03.197061Z",
     "iopub.status.busy": "2023-12-15T15:10:03.196109Z",
     "iopub.status.idle": "2023-12-15T15:10:03.211332Z",
     "shell.execute_reply": "2023-12-15T15:10:03.210109Z"
    },
    "lx_assignment_number": "4",
    "lx_assignment_type": "ASSIGNMENT",
    "lx_assignment_type2print": "Assignment",
    "lx_problem_cell_type": "PROBLEM",
    "lx_problem_number": "1",
    "lx_problem_points": "24"
   },
   "outputs": [
    {
     "data": {
      "text/plain": [
       "6.198613637958541"
      ]
     },
     "execution_count": 8,
     "metadata": {},
     "output_type": "execute_result"
    }
   ],
   "source": [
    "\n",
    "# Part 7\n",
    "\n",
    "\n",
    "C = 30 * (1 - (model.predict_proba(X_valid)[:, 1] >= optimal_threshold)) * Y_valid + 5 * (1 - Y_valid) * (model.predict_proba(X_valid)[:, 1] >= optimal_threshold)\n",
    "variance_of_C = np.var(C)\n",
    "variance_of_C\n"
   ]
  },
  {
   "cell_type": "code",
   "execution_count": 9,
   "id": "189af2a0",
   "metadata": {
    "deletable": false,
    "execution": {
     "iopub.execute_input": "2023-12-15T15:10:03.217819Z",
     "iopub.status.busy": "2023-12-15T15:10:03.217209Z",
     "iopub.status.idle": "2023-12-15T15:10:03.233867Z",
     "shell.execute_reply": "2023-12-15T15:10:03.232666Z"
    },
    "lx_assignment_number": "4",
    "lx_assignment_type": "ASSIGNMENT",
    "lx_assignment_type2print": "Assignment",
    "lx_problem_cell_type": "PROBLEM",
    "lx_problem_number": "1",
    "lx_problem_points": "24"
   },
   "outputs": [
    {
     "name": "stdout",
     "output_type": "stream",
     "text": [
      "Numerical error 1.0408340855860843e-17\n"
     ]
    },
    {
     "data": {
      "text/plain": [
       "(0, 18.89120961417028)"
      ]
     },
     "execution_count": 9,
     "metadata": {},
     "output_type": "execute_result"
    }
   ],
   "source": [
    "\n",
    "# Part 7\n",
    "\n",
    "# A 95% confidence interval of the random variable C using Bennett's inequality\n",
    "#实现Bennett不等式\n",
    "from Utils import bennett_epsilon\n",
    "\n",
    "\n",
    "n = len(Y_test)\n",
    "b=30*n\n",
    "alpha=0.05\n",
    "sigma = variance_of_C\n",
    "eps=bennett_epsilon(n,b,sigma,alpha)\n",
    "interval_of_C=(max(0,variance_of_C-eps),variance_of_C+eps)\n",
    "\n",
    "assert(type(interval_of_C) == tuple)\n",
    "assert(len(interval_of_C) == 2)\n",
    "interval_of_C"
   ]
  },
  {
   "cell_type": "code",
   "execution_count": 10,
   "id": "f1710055",
   "metadata": {
    "deletable": false,
    "execution": {
     "iopub.execute_input": "2023-12-15T15:10:03.241166Z",
     "iopub.status.busy": "2023-12-15T15:10:03.240277Z",
     "iopub.status.idle": "2023-12-15T15:10:04.545589Z",
     "shell.execute_reply": "2023-12-15T15:10:04.544368Z"
    },
    "lx_assignment_number": "4",
    "lx_assignment_type": "ASSIGNMENT",
    "lx_assignment_type2print": "Assignment",
    "lx_problem_cell_type": "TEST",
    "lx_problem_number": "1",
    "lx_problem_points": "24",
    "lx_test_only": "True",
    "scrolled": false
   },
   "outputs": [
    {
     "name": "stdout",
     "output_type": "stream",
     "text": [
      "Numerical error -1.1102230246251565e-16\n",
      "Numerical error -1.1102230246251565e-16\n",
      "Beginning tests for problem 1\n",
      "\n",
      "---------------------------------\n",
      "Beginning test for part1\n",
      "---------------------------------\n",
      "\n",
      "-----Beginning test------\n",
      "Shape of X_train correct it is (6709,6)\n",
      "-----Ending test---------\n",
      "\n",
      "-----Beginning test------\n",
      "Shape of X_test correct it is (1677,6)\n",
      "-----Ending test---------\n",
      "\n",
      "-----Beginning test------\n",
      "Shape of X_valid correct it is (2797,6)\n",
      "-----Ending test---------\n",
      "\n",
      "-----Beginning test------\n",
      "Shape of Y_train correct it is (6709,)\n",
      "-----Ending test---------\n",
      "\n",
      "-----Beginning test------\n",
      "Shape of Y_test correct it is (1677,)\n",
      "-----Ending test---------\n",
      "\n",
      "-----Beginning test------\n",
      "Shape of Y_valid correct it is (2797,)\n",
      "-----Ending test---------\n",
      "\n",
      "---------------------------------\n",
      "Beginning test for part2\n",
      "---------------------------------\n",
      "\n",
      "-----Beginning test------\n",
      "Your model does produce the correct output shape when predict_proba is called on X_train\n",
      "-----Ending test---------\n",
      "\n",
      "-----Beginning test------\n",
      "Your model outperforms the naive classifier (always 0) on the trainig data, at least we learned something\n",
      "-----Ending test---------\n",
      "\n",
      "---------------------------------\n",
      "Beginning test for part3\n",
      "---------------------------------\n",
      "\n",
      "-----Beginning test------\n",
      "Setup for part 3 ran without issues\n",
      "-----Ending test---------\n",
      "\n",
      "-----Beginning test------\n",
      "name 'precision0' is not defined\n",
      "precision0 lower edge not correct\n",
      "You got 0.4 points deduction \n",
      "-----Ending test---------\n",
      "\n",
      "-----Beginning test------\n",
      "name 'precision0' is not defined\n",
      "precision0 upper edge not correct\n",
      "You got 0.4 points deduction \n",
      "-----Ending test---------\n",
      "\n",
      "-----Beginning test------\n",
      "name 'precision1' is not defined\n",
      "precision1 lower edge not correct\n",
      "You got 0.4 points deduction \n",
      "-----Ending test---------\n",
      "\n",
      "-----Beginning test------\n",
      "name 'precision1' is not defined\n",
      "precision1 upper edge not correct\n",
      "You got 0.4 points deduction \n",
      "-----Ending test---------\n",
      "\n",
      "-----Beginning test------\n",
      "name 'recall0' is not defined\n",
      "recall0 lower edge not correct\n",
      "You got 0.4 points deduction \n",
      "-----Ending test---------\n",
      "\n",
      "-----Beginning test------\n",
      "name 'recall0' is not defined\n",
      "recall0 upper edge not correct\n",
      "You got 0.4 points deduction \n",
      "-----Ending test---------\n",
      "\n",
      "-----Beginning test------\n",
      "name 'recall1' is not defined\n",
      "recall1 lower edge not correct\n",
      "You got 0.4 points deduction \n",
      "-----Ending test---------\n",
      "\n",
      "-----Beginning test------\n",
      "name 'recall1' is not defined\n",
      "recall1 upper edge not correct\n",
      "You got 0.4 points deduction \n",
      "-----Ending test---------\n",
      "\n",
      "---------------------------------\n",
      "Beginning test for part4\n",
      "---------------------------------\n",
      "\n",
      "-----Beginning test------\n",
      "Your cost function deviates less that 0.01 from a reference cost function on a test model at threshold 0.5\n",
      "-----Ending test---------\n",
      "\n",
      "-----Beginning test------\n",
      "Your naive cost is within 0.01 of 0.6976744186046512\n",
      "-----Ending test---------\n",
      "\n",
      "---------------------------------\n",
      "Beginning test for part5\n",
      "---------------------------------\n",
      "\n",
      "-----Beginning test------\n",
      "The cost at your optimal threshold is close enough to the minimum cost.\n",
      "-----Ending test---------\n",
      "\n",
      "-----Beginning test------\n",
      "Your cost at the optimal threshold was computed using your optimal threshold and your cost function and it agreed with your answer\n",
      "-----Ending test---------\n",
      "\n",
      "---------------------------------\n",
      "Beginning test for part6\n",
      "---------------------------------\n",
      "\n",
      "-----Beginning test------\n",
      "The cost at the optimal threshold validation agreed with the one computed using your model and cost function\n",
      "-----Ending test---------\n",
      "\n",
      "-----Beginning test------\n",
      "\n",
      "The lower edge of the cost_interval did not agree with one computed on your cost_at_optimal_threshold_validation\n",
      "You got 1.0 points deduction \n",
      "-----Ending test---------\n",
      "\n",
      "-----Beginning test------\n",
      "\n",
      "The upper edge of the cost_interval did not agree with one computed on your cost_at_optimal_threshold_validation\n",
      "You got 1.0 points deduction \n",
      "-----Ending test---------\n",
      "\n",
      "---------------------------------\n",
      "Beginning test for part7\n",
      "---------------------------------\n",
      "\n",
      "-----Beginning test------\n",
      "Your variance of C agreed with the reference within an error of 0.01\n",
      "-----Ending test---------\n",
      "\n",
      "-----Beginning test------\n",
      "\n",
      "The lower edge of the C interval did not agree with reference within an error of 0.01\n",
      "You got 1.0 points deduction \n",
      "-----Ending test---------\n",
      "\n",
      "-----Beginning test------\n",
      "\n",
      "The upper edge of the C interval did not agree with reference within an error of 0.01\n",
      "You got 1.0 points deduction \n",
      "-----Ending test---------\n",
      "\n",
      "\n",
      "All tests complete, you got = 17 points\n",
      "The number of points you have scored for this problem is 17 out of 24\n",
      " \n",
      " \n",
      " \n",
      "The number of points you have scored in total for this entire set of Problems is 17 out of 24\n"
     ]
    }
   ],
   "source": []
  }
 ],
 "metadata": {
  "kernelspec": {
   "display_name": "base",
   "language": "python",
   "name": "python3"
  },
  "language_info": {
   "codemirror_mode": {
    "name": "ipython",
    "version": 3
   },
   "file_extension": ".py",
   "mimetype": "text/x-python",
   "name": "python",
   "nbconvert_exporter": "python",
   "pygments_lexer": "ipython3",
   "version": "3.8.18"
  },
  "lx_assignment_number": 4,
  "lx_course_instance": "2023",
  "lx_course_name": "Introduction to Data Science",
  "lx_course_number": "1MS041"
 },
 "nbformat": 4,
 "nbformat_minor": 5
}
