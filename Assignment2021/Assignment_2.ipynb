{
 "cells": [
  {
   "cell_type": "markdown",
   "metadata": {
    "deletable": false
   },
   "source": [
    "# [Introduction to Data Science: A Comp-Math-Stat Approach](https://lamastex.github.io/scalable-data-science/as/2019/)\n",
    "## 1MS041, 2020 \n",
    "&copy;2020 Raazesh Sainudiin, Benny Avelin. [Attribution 4.0 International (CC BY 4.0)](https://creativecommons.org/licenses/by/4.0/)"
   ]
  },
  {
   "cell_type": "markdown",
   "metadata": {
    "deletable": false
   },
   "source": [
    "# Assignment 2 for Course 1MS041\n",
    "Make     sure you pass the `# ... Test` cells and\n",
    " submit your solution notebook in the corresponding assignment on the course website. You can submit multiple times before the deadline     and your highest score will be used."
   ]
  },
  {
   "cell_type": "markdown",
   "metadata": {
    "lx_assignment_number": "2",
    "lx_problem_cell_type": "PROBLEM"
   },
   "source": [
    "---\n",
    "## Assignment 2, PROBLEM 0\n",
    "Maximum Points = 1"
   ]
  },
  {
   "cell_type": "markdown",
   "metadata": {
    "deletable": false,
    "lx_assignment_number": "2",
    "lx_assignment_type": "ASSIGNMENT",
    "lx_assignment_type2print": "Assignment",
    "lx_problem_cell_type": "PROBLEM",
    "lx_problem_number": "0",
    "lx_problem_points": "1"
   },
   "source": [
    "\n",
    "We have seen how to implement a new iterator (just like a function) but with `yield` statement (just like `return` in a function). This model of computation is called **continuation**. This is very useful in combinatorics, especially when combined with recursion (*Computational Mathematics with SageMath, SIAM, 2019, p. 346*). Below is an iterator called `generateWords(alphabet,L)` that can generate all words of of a given length `L` on a given `alphabet`.\n",
    "\n",
    "Your task is simple! \n",
    "\n",
    "- Just understand what the following iterator is doing from the comments in code and explanations earlier. \n",
    "- how we are computing the number of words of length `L` equalling 3 and then 23 using `sum`:\n",
    "  - via list comprehension\n",
    "  - via generator expression\n",
    "- You *don't need to change any of the code in the next 4 cells, but just understand it*. \n",
    "- Finally, try to explain by chosing the right answer below as to why the list comprhension is taking longer to compute than the generator expression as evident by the `Wall time` (see [Wall Time](https://en.wikipedia.org/wiki/Elapsed_real_time), it's just the elapsed real time from the start to end of a computation).\n",
    "\n",
    "---\n",
    "\n",
    "```\n",
    "%%time \n",
    "# time for list comprehension to compute the sum of [1,1,1,...,2^23]\n",
    "sumFromListCom = sum( [ 1 for w in generateWords(['H','T'], 23) ]  ) \n",
    "```\n",
    "will result in output:\n",
    "```\n",
    "CPU times: user 6.94 s, sys: 200 ms, total: 7.14 s\n",
    "Wall time: 7.11 s\n",
    "```\n",
    "---\n",
    "\n",
    "---\n",
    "```\n",
    "%%time \n",
    "# time for generator expression to compute the sum of [1,1,1,...,2^23]\n",
    "sumFromGenEx = sum( ( 1 for w in generateWords(['H','T'], 23) )  ) \n",
    "```\n",
    "will result in output:\n",
    "```\n",
    "CPU times: user 5.51 s, sys: 0 ns, total: 5.51 s\n",
    "Wall time: 5.52 s\n",
    "```\n",
    "---\n",
    "\n",
    "(you may have slightly different numbers for `time` and `Wall time` based on your machine details at the time of computation). \n",
    "\n",
    "**Multiple-choice Question:**\n",
    "\n",
    "- Why is the `Wall time` for generator expression (genex) smaller that for the list comprehension (listcomp) here? \n",
    "\n",
    "**Answer Choices**\n",
    "\n",
    "- **A.** genex if faster because the individual words are not allocated space in memory, i.e., materialised in memory\n",
    "- **B.** listcomp is slower because the list of all words is allocated space in memory\n",
    "- **C.** both **A** and **B** are true\n"
   ]
  },
  {
   "cell_type": "code",
   "execution_count": 1,
   "metadata": {
    "deletable": false,
    "lx_assignment_number": "2",
    "lx_assignment_type": "ASSIGNMENT",
    "lx_assignment_type2print": "Assignment",
    "lx_problem_cell_type": "PROBLEM",
    "lx_problem_number": "0",
    "lx_problem_points": "1"
   },
   "outputs": [],
   "source": [
    "choiceForProblem0 = 'A' # replace X by A, B or C"
   ]
  },
  {
   "cell_type": "markdown",
   "metadata": {
    "lx_assignment_number": "2",
    "lx_problem_cell_type": "Test"
   },
   "source": [
    "---\n",
    "#### Local Test for Assignment 2, PROBLEM 0\n",
    "Evaluate cell below to make sure your answer is valid.                         You **should not** modify anything in the cell below when evaluating it to do a local test of                         your solution.\n",
    "You may need to include and evaluate code snippets from lecture notebooks in cells above to make the local test work correctly sometimes (see error messages for clues). This is meant to help you become efficient at recalling materials covered in lectures that relate to this problem. Such local tests will generally not be available in the exam."
   ]
  },
  {
   "cell_type": "code",
   "execution_count": 2,
   "metadata": {
    "deletable": false,
    "lx_assignment_number": "2",
    "lx_assignment_type": "ASSIGNMENT",
    "lx_assignment_type2print": "Assignment",
    "lx_problem_cell_type": "Test",
    "lx_problem_number": "0",
    "lx_problem_points": "1"
   },
   "outputs": [
    {
     "name": "stdout",
     "output_type": "stream",
     "text": [
      "You have chosen one of the possible options. Hopefully, you are correct.\n"
     ]
    }
   ],
   "source": [
    "try:\n",
    "    assert(choiceForProblem0 in ['A','B','C'])\n",
    "    print( \"You have chosen one of the possible options. Hopefully, you are correct.\")\n",
    "except AssertionError:\n",
    "    print( \"Try again. you have to choose between 'A', 'B' and 'C'.\")"
   ]
  },
  {
   "cell_type": "code",
   "execution_count": 3,
   "metadata": {
    "deletable": false,
    "lx_assignment_number": "2",
    "lx_assignment_type": "ASSIGNMENT",
    "lx_assignment_type2print": "Assignment",
    "lx_problem_cell_type": "PROBLEM",
    "lx_problem_number": "0",
    "lx_problem_points": "1"
   },
   "outputs": [
    {
     "name": "stdout",
     "output_type": "stream",
     "text": [
      "[['H', 'H', 'H'], ['H', 'H', 'T'], ['H', 'T', 'H'], ['H', 'T', 'T'], ['T', 'H', 'H'], ['T', 'H', 'T'], ['T', 'T', 'H'], ['T', 'T', 'T']]\n",
      "8\n",
      "8\n",
      "The number of words of length 3 from an alphabet of size 2 is 2^3 =  1\n"
     ]
    }
   ],
   "source": [
    "# This cell is to help you make the right choice between A, B and C\n",
    "def generateWords(alphabet, L):\n",
    "    if L == 0:\n",
    "        yield []\n",
    "    else:\n",
    "        for word in generateWords(alphabet, L-1): # here is the recursion when we cann the iterator again on L-1\n",
    "            for L in alphabet: \n",
    "                yield word + [L]\n",
    "\n",
    "print( [ w for w in generateWords(['H','T'], 3) ] )# now call the iterator to find all words of length 3 in ['H','T']\n",
    "\n",
    "print( sum( [ 1 for w in generateWords(['H','T'], 3) ]  )) # these words can then be counted by list comprehension\n",
    "print( sum( ( 1 for w in generateWords(['H','T'], 3) )  )) # these words can then be counted by generator expression\n",
    "\n",
    "print( 'The number of words of length 3 from an alphabet of size 2 is 2^3 = ', 2^3) # the above sum`s makes sense"
   ]
  },
  {
   "cell_type": "markdown",
   "metadata": {
    "lx_assignment_number": "2",
    "lx_problem_cell_type": "PROBLEM"
   },
   "source": [
    "---\n",
    "## Assignment 2, PROBLEM 1\n",
    "Maximum Points = 1"
   ]
  },
  {
   "cell_type": "markdown",
   "metadata": {
    "deletable": false,
    "lx_assignment_number": "2",
    "lx_assignment_type": "ASSIGNMENT",
    "lx_assignment_type2print": "Assignment",
    "lx_problem_cell_type": "PROBLEM",
    "lx_problem_number": "1",
    "lx_problem_points": "1"
   },
   "source": [
    "\n",
    "Recall how we downloaded *Pride and Prejudice* and processed it as a String and split it by `Chapter`s. These code snippets are at our disposal now - all we need to do is copy-paste the right set of cells from earlier into the cells below here to have the string from that Book for more refined processing.\n",
    "\n",
    "Think about what algorithmic constructs and methods one will need to `split` each sentence by the **English words** it contains and then count the number of each distinct word.\n",
    "\n",
    "Now that you have understood `for` loops, `list` comprehensions and anonymous `function`s, and can learn about the needed methods on strings for splitting (which you can search by adding a `.` after a `srt` and hitting the `Tab` button to look through existing methods and followed by `?` for their docstrings), the `dictionary` data structure, and already seen how to count the number of ball labels, you are ready for this problem stated below. If you attended the lab then you have an advantage if you tried to work on this with some help from your instructors.\n",
    "\n",
    "**Problem:** Process the English words in a text file, such as those in the book *Pride and Prejudice* by Jane Austin, and obtain the top `K` most frequent *words that are longer than* a given parameter `wordLongerThan` which can be any value in $\\mathbb{Z}_+ := \\{ 0, 1, 2, 3, 4, \\ldots \\}$, i.e., *words that are longer than* `wordLongerThan` many characters in length. \n",
    "\n",
    "Your function must be generic and named as follows including input parameter order and names: \n",
    "\n",
    "- `frequencyOftheKMostCommonWordsIn(thisTextFile, wordLongerThan, K)`\n",
    "\n",
    "This function must be capable of:\n",
    "- reading any available text file in the `data/` directory that can be passed as the parameter `thisTextFile` \n",
    "- and return a `dict` type whose:\n",
    "  - key is the word whose character length is longer than the parameter `wordlongerThan` and \n",
    "  - value is the frequency of this word in the text file. \n",
    "  - Yor returned `dict` should only contain the top `K` most frequent words longer than `wordLongerThan` and be already sorted in descending order of in frequency.\n",
    "\n",
    "Use the next cell to submit your answer and for rough-work use more cells as needed in order to copy-paste code snippets from earlier content to get this working. But please remove the cells for rough-work when done.\n",
    "\n",
    "*Note: that you may not import libraries that have not been introduced in the course so far.*"
   ]
  },
  {
   "cell_type": "code",
   "execution_count": 35,
   "metadata": {
    "deletable": false,
    "lx_assignment_number": "2",
    "lx_assignment_type": "ASSIGNMENT",
    "lx_assignment_type2print": "Assignment",
    "lx_problem_cell_type": "PROBLEM",
    "lx_problem_number": "1",
    "lx_problem_points": "1"
   },
   "outputs": [],
   "source": [
    "\n",
    "# Report these variables so the exam can be calibrated fairly - your report will be used to justify exam-difficulty\n",
    "timeToCompleteThisProblemInMinutes = 20 # replace 0 by a positive integer if it applies\n",
    "\n",
    "# Do NOT change the name of the function and names of paramaters !\n",
    "\n",
    "thisTextFile = 'starting_package/data/pride_and_prejudice.txt' # try a text file in data/ directory\n",
    "wordLongerThan =10  # this can be any larger integer also\n",
    "K = 3 # this can be any integer larger than 0 also\n",
    "\n",
    "# def frequencyOftheKMostCommonWordsIn(thisTextFile, wordLongerThan, K):\n",
    "#     '''explain what the function is supposed to do briefly'''\n",
    "#     # write the body of the function and replace 'None' with the correct return value\n",
    "#     # ...\n",
    "#     # ...\n",
    "#     return None"
   ]
  },
  {
   "cell_type": "code",
   "execution_count": 36,
   "metadata": {},
   "outputs": [
    {
     "name": "stdout",
     "output_type": "stream",
     "text": [
      "{'netherfield': 73, 'immediately': 60, 'conversation': 60}\n"
     ]
    }
   ],
   "source": [
    "def frequencyOftheKMostCommonWordsIn(thisTextFile, wordLongerThan, K):\n",
    "    ''' \n",
    "    This function reads a text file, processes it to count the frequency of words that are longer than a specified length, \n",
    "    and returns the top K most frequent words.\n",
    "\n",
    "    Parameters:\n",
    "    thisTextFile (str): Path to the text file.\n",
    "    wordLongerThan (int): Minimum length of words to be considered.\n",
    "    K (int): Number of top frequent words to return.\n",
    "\n",
    "    Returns:\n",
    "    dict: A dictionary of the top K frequent words (longer than wordLongerThan) and their frequencies.\n",
    "    '''\n",
    "\n",
    "    # Initialize an empty dictionary to store word counts\n",
    "    word_count = {}\n",
    "    \n",
    "    try:\n",
    "        # Open and read the file\n",
    "        with open(thisTextFile, 'r', encoding='utf-8') as file:\n",
    "            for line in file:\n",
    "                # Split the line into words, remove non-alphabetic characters, and convert to lower case\n",
    "                words = [''.join(filter(str.isalpha, word)).lower() for word in line.split()]\n",
    "\n",
    "                # Filter out words shorter than the specified length and count their frequencies\n",
    "                for word in words:\n",
    "                    if len(word) > wordLongerThan:\n",
    "                        if word in word_count:\n",
    "                            word_count[word] += 1\n",
    "                        else:\n",
    "                            word_count[word] = 1\n",
    "\n",
    "        # Sort the words by frequency in descending order and select the top K\n",
    "        sorted_words = sorted(word_count.items(), key=lambda x: x[1], reverse=True)[:K]\n",
    "\n",
    "        # Return the result as a dictionary\n",
    "        return dict(sorted_words)\n",
    "    except FileNotFoundError:\n",
    "        print(f\"File not found: {thisTextFile}\")\n",
    "        return None\n",
    "# Example usage of the function\n",
    "result = frequencyOftheKMostCommonWordsIn('starting_package/data/pride_and_prejudice.txt', wordLongerThan, K)\n",
    "print(result)\n",
    "\n",
    "# For demonstration, the function call is commented out as the file access is not possible here. \n",
    "# Please run this function in your environment where the file exists."
   ]
  },
  {
   "cell_type": "markdown",
   "metadata": {
    "lx_assignment_number": "2",
    "lx_problem_cell_type": "PROBLEM"
   },
   "source": [
    "---\n",
    "## Assignment 2, PROBLEM 2\n",
    "Maximum Points = 1"
   ]
  },
  {
   "cell_type": "markdown",
   "metadata": {
    "deletable": false,
    "lx_assignment_number": "2",
    "lx_assignment_type": "ASSIGNMENT",
    "lx_assignment_type2print": "Assignment",
    "lx_problem_cell_type": "PROBLEM",
    "lx_problem_number": "2",
    "lx_problem_points": "1"
   },
   "source": [
    "\n",
    "Recall the problem above on counting the number of votes by party across all of Sweden from the **Swedish 2018 National Election Data**.\n",
    "\n",
    "Your task is to adapt the code snippets there and others we have encountered thus far to count the total number of votes by each **district** and return a `list` of `Integers` giving the number of votes for the top `K` districts with the most votes. Your function `numberOfVotesInKMostVotedDistrictsInSE('data/final.csv', K)` should work for any valid integer `K`. \n",
    "\n",
    "*Note: that you may not import libraries that have not been introduced in the course so far.*\n",
    "\n",
    "---\n",
    "*unzip issues:* If you are unable to call `unzip final.csv.zip` on your windows laptop. You can either do it in the computer lab or do the following with internet access to download the large `final.csv` file from the internet:\n",
    "\n",
    "```\n",
    "%%sh\n",
    "cd data\n",
    " \n",
    "curl -O http://lamastex.org/datasets/public/elections/2018/sv/final.csv\n",
    "```\n",
    "\n",
    "Then you should have the needed `data/final.csv` file.\n",
    "\n",
    "---"
   ]
  },
  {
   "cell_type": "code",
   "execution_count": 31,
   "metadata": {
    "deletable": false,
    "lx_assignment_number": "2",
    "lx_assignment_type": "ASSIGNMENT",
    "lx_assignment_type2print": "Assignment",
    "lx_problem_cell_type": "PROBLEM",
    "lx_problem_number": "2",
    "lx_problem_points": "1"
   },
   "outputs": [
    {
     "name": "stdout",
     "output_type": "stream",
     "text": [
      "[]\n"
     ]
    }
   ],
   "source": [
    "\n",
    "# Report these variables so the exam can be calibrated fairly - your report will be used to justify exam-difficulty\n",
    "timeToCompleteThisProblemInMinutes = 10 # replace 0 by a positive integer if it applies\n",
    "\n",
    "# Do NOT change the name of the function and names of paramaters !\n",
    "\n",
    "K = 1 # this can be any integer larger than 0 also, change K and make sure your function works\n",
    "filename = 'starting_package/data/final.csv' # this has to be a csv file with the same structure as out final.csv\n",
    "\n",
    "# def numberOfVotesInKMostVotedDistrictsInSE(filename, K):\n",
    "#     '''explain what the function is supposed to do briefly'''\n",
    "#     # write the body of the function and replace 'None' with the correct return value\n",
    "#     # ...\n",
    "#     # ...\n",
    "#     return None\n",
    "def numberOfVotesInKMostVotedDistrictsInSE(filename, K):\n",
    "    '''\n",
    "    This function reads a CSV file containing Swedish 2018 National Election Data, \n",
    "    counts the total number of votes by district, and returns a list of integers \n",
    "    representing the number of votes for the top K districts with the most votes.\n",
    "\n",
    "    Parameters:\n",
    "    filename (str): Path to the CSV file.\n",
    "    K (int): Number of top voted districts to return.\n",
    "\n",
    "    Returns:\n",
    "    list: A list of integers representing the number of votes in the top K voted districts.\n",
    "    '''\n",
    "\n",
    "    # Initialize an empty dictionary to store votes by district\n",
    "    votes_by_district = {}\n",
    "\n",
    "    try:\n",
    "        # Open and read the file\n",
    "        with open(filename, 'r', encoding='utf-8') as file:\n",
    "            # Skip the header\n",
    "            next(file)\n",
    "\n",
    "            for line in file:\n",
    "                # Split the line by comma and extract district and votes\n",
    "                parts = line.strip().split(',')\n",
    "                district = parts[1]\n",
    "\n",
    "                # Ensure that the votes part is a valid integer\n",
    "                try:\n",
    "                    votes = int(parts[3])\n",
    "                except ValueError:\n",
    "                    # Skip the line if votes are not a valid integer\n",
    "                    continue\n",
    "\n",
    "                # Aggregate votes by district\n",
    "                if district in votes_by_district:\n",
    "                    votes_by_district[district] += votes\n",
    "                else:\n",
    "                    votes_by_district[district] = votes\n",
    "\n",
    "        # Sort the districts by total votes in descending order and select the top K\n",
    "        top_k_districts = sorted(votes_by_district.values(), reverse=True)[:K]\n",
    "\n",
    "        return top_k_districts\n",
    "    except FileNotFoundError:\n",
    "        print(f\"File not found: {filename}\")\n",
    "        return None\n",
    "\n",
    "# Example usage of the function\n",
    "result = numberOfVotesInKMostVotedDistrictsInSE(filename, K)\n",
    "print(result)\n",
    "\n",
    "# For demonstration, the function call is commented out as the file access is not possible here. \n",
    "# Please run this function in your environment where the file exists."
   ]
  },
  {
   "cell_type": "markdown",
   "metadata": {
    "lx_assignment_number": "2",
    "lx_problem_cell_type": "Test"
   },
   "source": [
    "---\n",
    "#### Local Test for Assignment 2, PROBLEM 2\n",
    "Evaluate cell below to make sure your answer is valid.                         You **should not** modify anything in the cell below when evaluating it to do a local test of                         your solution.\n",
    "You may need to include and evaluate code snippets from lecture notebooks in cells above to make the local test work correctly sometimes (see error messages for clues). This is meant to help you become efficient at recalling materials covered in lectures that relate to this problem. Such local tests will generally not be available in the exam."
   ]
  },
  {
   "cell_type": "code",
   "execution_count": 37,
   "metadata": {
    "deletable": false,
    "lx_assignment_number": "2",
    "lx_assignment_type": "ASSIGNMENT",
    "lx_assignment_type2print": "Assignment",
    "lx_problem_cell_type": "Test",
    "lx_problem_number": "2",
    "lx_problem_points": "1"
   },
   "outputs": [
    {
     "name": "stdout",
     "output_type": "stream",
     "text": [
      "Try again! and make sure you are actually producing what is expected of you.\n"
     ]
    }
   ],
   "source": [
    "# test that your answer is indeed a probability by evaluating this cell after you replaced XXX above and evaluated it.\n",
    "try:\n",
    "    assert(numberOfVotesInKMostVotedDistrictsInSE('starting_package/data/final.csv', 3) == [13435, 10625, 7910])\n",
    "    assert(numberOfVotesInKMostVotedDistrictsInSE('starting_package/data/final.csv', 1) == [13435])\n",
    "    print(\"Your answer is correct for two test cases with K=3 and K=1. Hopefully it works correctly for any K\")\n",
    "except AssertionError:\n",
    "    print(\"Try again! and make sure you are actually producing what is expected of you.\")"
   ]
  },
  {
   "cell_type": "markdown",
   "metadata": {
    "lx_assignment_number": "2",
    "lx_problem_cell_type": "PROBLEM"
   },
   "source": [
    "---\n",
    "## Assignment 2, PROBLEM 3\n",
    "Maximum Points = 1"
   ]
  },
  {
   "cell_type": "markdown",
   "metadata": {
    "deletable": false,
    "lx_assignment_number": "2",
    "lx_assignment_type": "ASSIGNMENT",
    "lx_assignment_type2print": "Assignment",
    "lx_problem_cell_type": "PROBLEM",
    "lx_problem_number": "3",
    "lx_problem_points": "1"
   },
   "source": [
    "\n",
    "A disadvantage of using list comprehension is that we cannot create a lot of random numbers as we will have to store the returned list. Since you know about generators your task is to use the following warm-up on generating natural numbers and write an iterator version called `lcg` of the function `LinConGen` we have been seeing thus far."
   ]
  },
  {
   "cell_type": "code",
   "execution_count": 38,
   "metadata": {
    "deletable": false,
    "lx_assignment_number": "2",
    "lx_assignment_type": "ASSIGNMENT",
    "lx_assignment_type2print": "Assignment",
    "lx_problem_cell_type": "PROBLEM",
    "lx_problem_number": "3",
    "lx_problem_points": "1"
   },
   "outputs": [],
   "source": [
    "def naturals():\n",
    "    '''define the countably infinite set of natural numbers using an iterator'''\n",
    "    n = 1 # the first natural number 1\n",
    "    while True: # an infinite while loop\n",
    "        yield n # output n\n",
    "        n = n + 1 # increment n by 1   "
   ]
  },
  {
   "cell_type": "code",
   "execution_count": 39,
   "metadata": {
    "deletable": false,
    "lx_assignment_number": "2",
    "lx_assignment_type": "ASSIGNMENT",
    "lx_assignment_type2print": "Assignment",
    "lx_problem_cell_type": "PROBLEM",
    "lx_problem_number": "3",
    "lx_problem_points": "1"
   },
   "outputs": [
    {
     "name": "stdout",
     "output_type": "stream",
     "text": [
      "1\n",
      "2\n",
      "3\n",
      "4\n",
      "5\n"
     ]
    }
   ],
   "source": [
    "# Example run - keep printing the natural numbers using the iterator until we hit 5\n",
    "for n in naturals():\n",
    "      print(n)\n",
    "      if n >= 5:\n",
    "          break"
   ]
  },
  {
   "cell_type": "code",
   "execution_count": 40,
   "metadata": {
    "deletable": false,
    "lx_assignment_number": "2",
    "lx_assignment_type": "ASSIGNMENT",
    "lx_assignment_type2print": "Assignment",
    "lx_problem_cell_type": "PROBLEM",
    "lx_problem_number": "3",
    "lx_problem_points": "1"
   },
   "outputs": [
    {
     "name": "stdout",
     "output_type": "stream",
     "text": [
      "1\n",
      "2\n"
     ]
    }
   ],
   "source": [
    "# printing next from our iterator\n",
    "generateNaturals = naturals() # let's assign our iterator\n",
    "print(next(generateNaturals))\n",
    "print(next(generateNaturals))"
   ]
  },
  {
   "cell_type": "code",
   "execution_count": 41,
   "metadata": {
    "deletable": false,
    "lx_assignment_number": "2",
    "lx_assignment_type": "ASSIGNMENT",
    "lx_assignment_type2print": "Assignment",
    "lx_problem_cell_type": "PROBLEM",
    "lx_problem_number": "3",
    "lx_problem_points": "1"
   },
   "outputs": [
    {
     "data": {
      "text/plain": [
       "[(1, 'a'), (2, 'b'), (3, 'c'), (4, 'd')]"
      ]
     },
     "execution_count": 41,
     "metadata": {},
     "output_type": "execute_result"
    }
   ],
   "source": [
    "list(zip(naturals(), ['a', 'b', 'c', 'd'])) # the second list stops at 4 to give an enumeration that ends"
   ]
  },
  {
   "cell_type": "code",
   "execution_count": 45,
   "metadata": {
    "deletable": false,
    "lx_assignment_number": "2",
    "lx_assignment_type": "ASSIGNMENT",
    "lx_assignment_type2print": "Assignment",
    "lx_problem_cell_type": "PROBLEM",
    "lx_problem_number": "3",
    "lx_problem_points": "1"
   },
   "outputs": [],
   "source": [
    "# Here is the actual task \n",
    "# just replace XXX with the right values to make an iterator of function LinConGen\n",
    "def lcg(m, a, c, x0):\n",
    "    x = x0\n",
    "    while True:\n",
    "        yield x\n",
    "        x = (a*x + c) % m"
   ]
  },
  {
   "cell_type": "markdown",
   "metadata": {
    "lx_assignment_number": "2",
    "lx_problem_cell_type": "Test"
   },
   "source": [
    "---\n",
    "#### Local Test for Assignment 2, PROBLEM 3\n",
    "Evaluate cell below to make sure your answer is valid.                         You **should not** modify anything in the cell below when evaluating it to do a local test of                         your solution.\n",
    "You may need to include and evaluate code snippets from lecture notebooks in cells above to make the local test work correctly sometimes (see error messages for clues). This is meant to help you become efficient at recalling materials covered in lectures that relate to this problem. Such local tests will generally not be available in the exam."
   ]
  },
  {
   "cell_type": "code",
   "execution_count": 47,
   "metadata": {
    "deletable": false,
    "lx_assignment_number": "2",
    "lx_assignment_type": "ASSIGNMENT",
    "lx_assignment_type2print": "Assignment",
    "lx_problem_cell_type": "Test",
    "lx_problem_number": "3",
    "lx_problem_points": "1"
   },
   "outputs": [
    {
     "name": "stdout",
     "output_type": "stream",
     "text": [
      "It seems like you have passed a test. Hopefully you have the right answer.\n"
     ]
    }
   ],
   "source": [
    "def Mod(a,b):\n",
    "    return a%b\n",
    "def linConGen(m, a, c, x0, n):\n",
    "    '''A linear congruential sequence generator.\n",
    "    \n",
    "    Param m is the integer modulus to use in the generator.\n",
    "    Param a is the integer multiplier.\n",
    "    Param c is the integer increment.\n",
    "    Param x0 is the integer seed.\n",
    "    Param n is the integer number of desired pseudo-random numbers.\n",
    "    \n",
    "    Returns a list of n pseudo-random integer modulo m numbers.'''\n",
    "    \n",
    "    x = x0 # the seed\n",
    "    retValue = [Mod(x,m)]  # start the list with x=x0\n",
    "    for i in range(2, n+1, 1):\n",
    "        x = Mod(a * x + c, m) # the generator, using modular arithmetic\n",
    "        retValue.append(x) # append the new x to the list\n",
    "    return retValue\n",
    "try:\n",
    "    m, a, c, x0, n = 2147483648, 65539, 0, 1, 5010\n",
    "    randuListComp = linConGen(m, a, c, x0, n)\n",
    "    randuGenExp = [x for i,x in zip(range(n), lcg(m, a, c, x0))]\n",
    "    assert(randuListComp == randuGenExp)\n",
    "    print(\"It seems like you have passed a test. Hopefully you have the right answer.\")\n",
    "except AssertionError:\n",
    "    print(\"Try again. You need the output of your iterator lcg to coincide with that of LinConGen\")"
   ]
  }
 ],
 "metadata": {
  "kernelspec": {
   "display_name": "deeplearning",
   "language": "python",
   "name": "python3"
  },
  "language_info": {
   "codemirror_mode": {
    "name": "ipython",
    "version": 3
   },
   "file_extension": ".py",
   "mimetype": "text/x-python",
   "name": "python",
   "nbconvert_exporter": "python",
   "pygments_lexer": "ipython3",
   "version": "3.10.13"
  },
  "lx_assignment_number": "2",
  "lx_course_instance": "2020",
  "lx_course_name": "Introduction to Data Science: A Comp-Math-Stat Approach",
  "lx_course_number": "1MS041"
 },
 "nbformat": 4,
 "nbformat_minor": 2
}
